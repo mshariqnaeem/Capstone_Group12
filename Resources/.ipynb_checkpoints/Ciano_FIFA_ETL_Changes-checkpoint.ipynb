{
 "cells": [
  {
   "cell_type": "code",
   "execution_count": 1,
   "id": "250288f1",
   "metadata": {},
   "outputs": [],
   "source": [
    "# import libraries \n",
    "import pandas as pd\n",
    "from pathlib import Path\n",
    "import matplotlib.pyplot as plt\n"
   ]
  },
  {
   "cell_type": "markdown",
   "id": "73f61317",
   "metadata": {},
   "source": [
    "# Data\n",
    "This dataset can be dowloaded from : https://data.world/raghav333/fifa-players"
   ]
  },
  {
   "cell_type": "code",
   "execution_count": 2,
   "id": "1e2e5f1d",
   "metadata": {},
   "outputs": [
    {
     "ename": "FileNotFoundError",
     "evalue": "[Errno 2] No such file or directory: 'Resources/fifa_cleaned.csv'",
     "output_type": "error",
     "traceback": [
      "\u001b[0;31m---------------------------------------------------------------------------\u001b[0m",
      "\u001b[0;31mFileNotFoundError\u001b[0m                         Traceback (most recent call last)",
      "Input \u001b[0;32mIn [2]\u001b[0m, in \u001b[0;36m<cell line: 2>\u001b[0;34m()\u001b[0m\n\u001b[1;32m      1\u001b[0m \u001b[38;5;66;03m#read in the CSV as a dataframe \u001b[39;00m\n\u001b[0;32m----> 2\u001b[0m df \u001b[38;5;241m=\u001b[39m \u001b[43mpd\u001b[49m\u001b[38;5;241;43m.\u001b[39;49m\u001b[43mread_csv\u001b[49m\u001b[43m(\u001b[49m\u001b[38;5;124;43m'\u001b[39;49m\u001b[38;5;124;43mResources/fifa_cleaned.csv\u001b[39;49m\u001b[38;5;124;43m'\u001b[39;49m\u001b[43m)\u001b[49m\n\u001b[1;32m      3\u001b[0m df\u001b[38;5;241m.\u001b[39mhead()\n",
      "File \u001b[0;32m~/opt/anaconda3/lib/python3.8/site-packages/pandas/util/_decorators.py:311\u001b[0m, in \u001b[0;36mdeprecate_nonkeyword_arguments.<locals>.decorate.<locals>.wrapper\u001b[0;34m(*args, **kwargs)\u001b[0m\n\u001b[1;32m    305\u001b[0m \u001b[38;5;28;01mif\u001b[39;00m \u001b[38;5;28mlen\u001b[39m(args) \u001b[38;5;241m>\u001b[39m num_allow_args:\n\u001b[1;32m    306\u001b[0m     warnings\u001b[38;5;241m.\u001b[39mwarn(\n\u001b[1;32m    307\u001b[0m         msg\u001b[38;5;241m.\u001b[39mformat(arguments\u001b[38;5;241m=\u001b[39marguments),\n\u001b[1;32m    308\u001b[0m         \u001b[38;5;167;01mFutureWarning\u001b[39;00m,\n\u001b[1;32m    309\u001b[0m         stacklevel\u001b[38;5;241m=\u001b[39mstacklevel,\n\u001b[1;32m    310\u001b[0m     )\n\u001b[0;32m--> 311\u001b[0m \u001b[38;5;28;01mreturn\u001b[39;00m \u001b[43mfunc\u001b[49m\u001b[43m(\u001b[49m\u001b[38;5;241;43m*\u001b[39;49m\u001b[43margs\u001b[49m\u001b[43m,\u001b[49m\u001b[43m \u001b[49m\u001b[38;5;241;43m*\u001b[39;49m\u001b[38;5;241;43m*\u001b[39;49m\u001b[43mkwargs\u001b[49m\u001b[43m)\u001b[49m\n",
      "File \u001b[0;32m~/opt/anaconda3/lib/python3.8/site-packages/pandas/io/parsers/readers.py:680\u001b[0m, in \u001b[0;36mread_csv\u001b[0;34m(filepath_or_buffer, sep, delimiter, header, names, index_col, usecols, squeeze, prefix, mangle_dupe_cols, dtype, engine, converters, true_values, false_values, skipinitialspace, skiprows, skipfooter, nrows, na_values, keep_default_na, na_filter, verbose, skip_blank_lines, parse_dates, infer_datetime_format, keep_date_col, date_parser, dayfirst, cache_dates, iterator, chunksize, compression, thousands, decimal, lineterminator, quotechar, quoting, doublequote, escapechar, comment, encoding, encoding_errors, dialect, error_bad_lines, warn_bad_lines, on_bad_lines, delim_whitespace, low_memory, memory_map, float_precision, storage_options)\u001b[0m\n\u001b[1;32m    665\u001b[0m kwds_defaults \u001b[38;5;241m=\u001b[39m _refine_defaults_read(\n\u001b[1;32m    666\u001b[0m     dialect,\n\u001b[1;32m    667\u001b[0m     delimiter,\n\u001b[0;32m   (...)\u001b[0m\n\u001b[1;32m    676\u001b[0m     defaults\u001b[38;5;241m=\u001b[39m{\u001b[38;5;124m\"\u001b[39m\u001b[38;5;124mdelimiter\u001b[39m\u001b[38;5;124m\"\u001b[39m: \u001b[38;5;124m\"\u001b[39m\u001b[38;5;124m,\u001b[39m\u001b[38;5;124m\"\u001b[39m},\n\u001b[1;32m    677\u001b[0m )\n\u001b[1;32m    678\u001b[0m kwds\u001b[38;5;241m.\u001b[39mupdate(kwds_defaults)\n\u001b[0;32m--> 680\u001b[0m \u001b[38;5;28;01mreturn\u001b[39;00m \u001b[43m_read\u001b[49m\u001b[43m(\u001b[49m\u001b[43mfilepath_or_buffer\u001b[49m\u001b[43m,\u001b[49m\u001b[43m \u001b[49m\u001b[43mkwds\u001b[49m\u001b[43m)\u001b[49m\n",
      "File \u001b[0;32m~/opt/anaconda3/lib/python3.8/site-packages/pandas/io/parsers/readers.py:575\u001b[0m, in \u001b[0;36m_read\u001b[0;34m(filepath_or_buffer, kwds)\u001b[0m\n\u001b[1;32m    572\u001b[0m _validate_names(kwds\u001b[38;5;241m.\u001b[39mget(\u001b[38;5;124m\"\u001b[39m\u001b[38;5;124mnames\u001b[39m\u001b[38;5;124m\"\u001b[39m, \u001b[38;5;28;01mNone\u001b[39;00m))\n\u001b[1;32m    574\u001b[0m \u001b[38;5;66;03m# Create the parser.\u001b[39;00m\n\u001b[0;32m--> 575\u001b[0m parser \u001b[38;5;241m=\u001b[39m \u001b[43mTextFileReader\u001b[49m\u001b[43m(\u001b[49m\u001b[43mfilepath_or_buffer\u001b[49m\u001b[43m,\u001b[49m\u001b[43m \u001b[49m\u001b[38;5;241;43m*\u001b[39;49m\u001b[38;5;241;43m*\u001b[39;49m\u001b[43mkwds\u001b[49m\u001b[43m)\u001b[49m\n\u001b[1;32m    577\u001b[0m \u001b[38;5;28;01mif\u001b[39;00m chunksize \u001b[38;5;129;01mor\u001b[39;00m iterator:\n\u001b[1;32m    578\u001b[0m     \u001b[38;5;28;01mreturn\u001b[39;00m parser\n",
      "File \u001b[0;32m~/opt/anaconda3/lib/python3.8/site-packages/pandas/io/parsers/readers.py:933\u001b[0m, in \u001b[0;36mTextFileReader.__init__\u001b[0;34m(self, f, engine, **kwds)\u001b[0m\n\u001b[1;32m    930\u001b[0m     \u001b[38;5;28mself\u001b[39m\u001b[38;5;241m.\u001b[39moptions[\u001b[38;5;124m\"\u001b[39m\u001b[38;5;124mhas_index_names\u001b[39m\u001b[38;5;124m\"\u001b[39m] \u001b[38;5;241m=\u001b[39m kwds[\u001b[38;5;124m\"\u001b[39m\u001b[38;5;124mhas_index_names\u001b[39m\u001b[38;5;124m\"\u001b[39m]\n\u001b[1;32m    932\u001b[0m \u001b[38;5;28mself\u001b[39m\u001b[38;5;241m.\u001b[39mhandles: IOHandles \u001b[38;5;241m|\u001b[39m \u001b[38;5;28;01mNone\u001b[39;00m \u001b[38;5;241m=\u001b[39m \u001b[38;5;28;01mNone\u001b[39;00m\n\u001b[0;32m--> 933\u001b[0m \u001b[38;5;28mself\u001b[39m\u001b[38;5;241m.\u001b[39m_engine \u001b[38;5;241m=\u001b[39m \u001b[38;5;28;43mself\u001b[39;49m\u001b[38;5;241;43m.\u001b[39;49m\u001b[43m_make_engine\u001b[49m\u001b[43m(\u001b[49m\u001b[43mf\u001b[49m\u001b[43m,\u001b[49m\u001b[43m \u001b[49m\u001b[38;5;28;43mself\u001b[39;49m\u001b[38;5;241;43m.\u001b[39;49m\u001b[43mengine\u001b[49m\u001b[43m)\u001b[49m\n",
      "File \u001b[0;32m~/opt/anaconda3/lib/python3.8/site-packages/pandas/io/parsers/readers.py:1217\u001b[0m, in \u001b[0;36mTextFileReader._make_engine\u001b[0;34m(self, f, engine)\u001b[0m\n\u001b[1;32m   1213\u001b[0m     mode \u001b[38;5;241m=\u001b[39m \u001b[38;5;124m\"\u001b[39m\u001b[38;5;124mrb\u001b[39m\u001b[38;5;124m\"\u001b[39m\n\u001b[1;32m   1214\u001b[0m \u001b[38;5;66;03m# error: No overload variant of \"get_handle\" matches argument types\u001b[39;00m\n\u001b[1;32m   1215\u001b[0m \u001b[38;5;66;03m# \"Union[str, PathLike[str], ReadCsvBuffer[bytes], ReadCsvBuffer[str]]\"\u001b[39;00m\n\u001b[1;32m   1216\u001b[0m \u001b[38;5;66;03m# , \"str\", \"bool\", \"Any\", \"Any\", \"Any\", \"Any\", \"Any\"\u001b[39;00m\n\u001b[0;32m-> 1217\u001b[0m \u001b[38;5;28mself\u001b[39m\u001b[38;5;241m.\u001b[39mhandles \u001b[38;5;241m=\u001b[39m \u001b[43mget_handle\u001b[49m\u001b[43m(\u001b[49m\u001b[43m  \u001b[49m\u001b[38;5;66;43;03m# type: ignore[call-overload]\u001b[39;49;00m\n\u001b[1;32m   1218\u001b[0m \u001b[43m    \u001b[49m\u001b[43mf\u001b[49m\u001b[43m,\u001b[49m\n\u001b[1;32m   1219\u001b[0m \u001b[43m    \u001b[49m\u001b[43mmode\u001b[49m\u001b[43m,\u001b[49m\n\u001b[1;32m   1220\u001b[0m \u001b[43m    \u001b[49m\u001b[43mencoding\u001b[49m\u001b[38;5;241;43m=\u001b[39;49m\u001b[38;5;28;43mself\u001b[39;49m\u001b[38;5;241;43m.\u001b[39;49m\u001b[43moptions\u001b[49m\u001b[38;5;241;43m.\u001b[39;49m\u001b[43mget\u001b[49m\u001b[43m(\u001b[49m\u001b[38;5;124;43m\"\u001b[39;49m\u001b[38;5;124;43mencoding\u001b[39;49m\u001b[38;5;124;43m\"\u001b[39;49m\u001b[43m,\u001b[49m\u001b[43m \u001b[49m\u001b[38;5;28;43;01mNone\u001b[39;49;00m\u001b[43m)\u001b[49m\u001b[43m,\u001b[49m\n\u001b[1;32m   1221\u001b[0m \u001b[43m    \u001b[49m\u001b[43mcompression\u001b[49m\u001b[38;5;241;43m=\u001b[39;49m\u001b[38;5;28;43mself\u001b[39;49m\u001b[38;5;241;43m.\u001b[39;49m\u001b[43moptions\u001b[49m\u001b[38;5;241;43m.\u001b[39;49m\u001b[43mget\u001b[49m\u001b[43m(\u001b[49m\u001b[38;5;124;43m\"\u001b[39;49m\u001b[38;5;124;43mcompression\u001b[39;49m\u001b[38;5;124;43m\"\u001b[39;49m\u001b[43m,\u001b[49m\u001b[43m \u001b[49m\u001b[38;5;28;43;01mNone\u001b[39;49;00m\u001b[43m)\u001b[49m\u001b[43m,\u001b[49m\n\u001b[1;32m   1222\u001b[0m \u001b[43m    \u001b[49m\u001b[43mmemory_map\u001b[49m\u001b[38;5;241;43m=\u001b[39;49m\u001b[38;5;28;43mself\u001b[39;49m\u001b[38;5;241;43m.\u001b[39;49m\u001b[43moptions\u001b[49m\u001b[38;5;241;43m.\u001b[39;49m\u001b[43mget\u001b[49m\u001b[43m(\u001b[49m\u001b[38;5;124;43m\"\u001b[39;49m\u001b[38;5;124;43mmemory_map\u001b[39;49m\u001b[38;5;124;43m\"\u001b[39;49m\u001b[43m,\u001b[49m\u001b[43m \u001b[49m\u001b[38;5;28;43;01mFalse\u001b[39;49;00m\u001b[43m)\u001b[49m\u001b[43m,\u001b[49m\n\u001b[1;32m   1223\u001b[0m \u001b[43m    \u001b[49m\u001b[43mis_text\u001b[49m\u001b[38;5;241;43m=\u001b[39;49m\u001b[43mis_text\u001b[49m\u001b[43m,\u001b[49m\n\u001b[1;32m   1224\u001b[0m \u001b[43m    \u001b[49m\u001b[43merrors\u001b[49m\u001b[38;5;241;43m=\u001b[39;49m\u001b[38;5;28;43mself\u001b[39;49m\u001b[38;5;241;43m.\u001b[39;49m\u001b[43moptions\u001b[49m\u001b[38;5;241;43m.\u001b[39;49m\u001b[43mget\u001b[49m\u001b[43m(\u001b[49m\u001b[38;5;124;43m\"\u001b[39;49m\u001b[38;5;124;43mencoding_errors\u001b[39;49m\u001b[38;5;124;43m\"\u001b[39;49m\u001b[43m,\u001b[49m\u001b[43m \u001b[49m\u001b[38;5;124;43m\"\u001b[39;49m\u001b[38;5;124;43mstrict\u001b[39;49m\u001b[38;5;124;43m\"\u001b[39;49m\u001b[43m)\u001b[49m\u001b[43m,\u001b[49m\n\u001b[1;32m   1225\u001b[0m \u001b[43m    \u001b[49m\u001b[43mstorage_options\u001b[49m\u001b[38;5;241;43m=\u001b[39;49m\u001b[38;5;28;43mself\u001b[39;49m\u001b[38;5;241;43m.\u001b[39;49m\u001b[43moptions\u001b[49m\u001b[38;5;241;43m.\u001b[39;49m\u001b[43mget\u001b[49m\u001b[43m(\u001b[49m\u001b[38;5;124;43m\"\u001b[39;49m\u001b[38;5;124;43mstorage_options\u001b[39;49m\u001b[38;5;124;43m\"\u001b[39;49m\u001b[43m,\u001b[49m\u001b[43m \u001b[49m\u001b[38;5;28;43;01mNone\u001b[39;49;00m\u001b[43m)\u001b[49m\u001b[43m,\u001b[49m\n\u001b[1;32m   1226\u001b[0m \u001b[43m\u001b[49m\u001b[43m)\u001b[49m\n\u001b[1;32m   1227\u001b[0m \u001b[38;5;28;01massert\u001b[39;00m \u001b[38;5;28mself\u001b[39m\u001b[38;5;241m.\u001b[39mhandles \u001b[38;5;129;01mis\u001b[39;00m \u001b[38;5;129;01mnot\u001b[39;00m \u001b[38;5;28;01mNone\u001b[39;00m\n\u001b[1;32m   1228\u001b[0m f \u001b[38;5;241m=\u001b[39m \u001b[38;5;28mself\u001b[39m\u001b[38;5;241m.\u001b[39mhandles\u001b[38;5;241m.\u001b[39mhandle\n",
      "File \u001b[0;32m~/opt/anaconda3/lib/python3.8/site-packages/pandas/io/common.py:789\u001b[0m, in \u001b[0;36mget_handle\u001b[0;34m(path_or_buf, mode, encoding, compression, memory_map, is_text, errors, storage_options)\u001b[0m\n\u001b[1;32m    784\u001b[0m \u001b[38;5;28;01melif\u001b[39;00m \u001b[38;5;28misinstance\u001b[39m(handle, \u001b[38;5;28mstr\u001b[39m):\n\u001b[1;32m    785\u001b[0m     \u001b[38;5;66;03m# Check whether the filename is to be opened in binary mode.\u001b[39;00m\n\u001b[1;32m    786\u001b[0m     \u001b[38;5;66;03m# Binary mode does not support 'encoding' and 'newline'.\u001b[39;00m\n\u001b[1;32m    787\u001b[0m     \u001b[38;5;28;01mif\u001b[39;00m ioargs\u001b[38;5;241m.\u001b[39mencoding \u001b[38;5;129;01mand\u001b[39;00m \u001b[38;5;124m\"\u001b[39m\u001b[38;5;124mb\u001b[39m\u001b[38;5;124m\"\u001b[39m \u001b[38;5;129;01mnot\u001b[39;00m \u001b[38;5;129;01min\u001b[39;00m ioargs\u001b[38;5;241m.\u001b[39mmode:\n\u001b[1;32m    788\u001b[0m         \u001b[38;5;66;03m# Encoding\u001b[39;00m\n\u001b[0;32m--> 789\u001b[0m         handle \u001b[38;5;241m=\u001b[39m \u001b[38;5;28;43mopen\u001b[39;49m\u001b[43m(\u001b[49m\n\u001b[1;32m    790\u001b[0m \u001b[43m            \u001b[49m\u001b[43mhandle\u001b[49m\u001b[43m,\u001b[49m\n\u001b[1;32m    791\u001b[0m \u001b[43m            \u001b[49m\u001b[43mioargs\u001b[49m\u001b[38;5;241;43m.\u001b[39;49m\u001b[43mmode\u001b[49m\u001b[43m,\u001b[49m\n\u001b[1;32m    792\u001b[0m \u001b[43m            \u001b[49m\u001b[43mencoding\u001b[49m\u001b[38;5;241;43m=\u001b[39;49m\u001b[43mioargs\u001b[49m\u001b[38;5;241;43m.\u001b[39;49m\u001b[43mencoding\u001b[49m\u001b[43m,\u001b[49m\n\u001b[1;32m    793\u001b[0m \u001b[43m            \u001b[49m\u001b[43merrors\u001b[49m\u001b[38;5;241;43m=\u001b[39;49m\u001b[43merrors\u001b[49m\u001b[43m,\u001b[49m\n\u001b[1;32m    794\u001b[0m \u001b[43m            \u001b[49m\u001b[43mnewline\u001b[49m\u001b[38;5;241;43m=\u001b[39;49m\u001b[38;5;124;43m\"\u001b[39;49m\u001b[38;5;124;43m\"\u001b[39;49m\u001b[43m,\u001b[49m\n\u001b[1;32m    795\u001b[0m \u001b[43m        \u001b[49m\u001b[43m)\u001b[49m\n\u001b[1;32m    796\u001b[0m     \u001b[38;5;28;01melse\u001b[39;00m:\n\u001b[1;32m    797\u001b[0m         \u001b[38;5;66;03m# Binary mode\u001b[39;00m\n\u001b[1;32m    798\u001b[0m         handle \u001b[38;5;241m=\u001b[39m \u001b[38;5;28mopen\u001b[39m(handle, ioargs\u001b[38;5;241m.\u001b[39mmode)\n",
      "\u001b[0;31mFileNotFoundError\u001b[0m: [Errno 2] No such file or directory: 'Resources/fifa_cleaned.csv'"
     ]
    }
   ],
   "source": [
    "#read in the CSV as a dataframe \n",
    "df = pd.read_csv('Resources/fifa_cleaned.csv')\n",
    "df.head()"
   ]
  },
  {
   "cell_type": "code",
   "execution_count": null,
   "id": "c2fb2202",
   "metadata": {},
   "outputs": [],
   "source": [
    "# Rename the headers to be more explanatory\n",
    "df.rename(columns=str.title, inplace =True)\n",
    "df"
   ]
  },
  {
   "cell_type": "code",
   "execution_count": null,
   "id": "6aafffda",
   "metadata": {},
   "outputs": [],
   "source": [
    "# Backup our dataframe\n",
    "backup_df = df.copy()"
   ]
  },
  {
   "cell_type": "code",
   "execution_count": null,
   "id": "ea6e6d5c",
   "metadata": {},
   "outputs": [],
   "source": [
    "df.info()"
   ]
  },
  {
   "cell_type": "code",
   "execution_count": null,
   "id": "22bdbe0a",
   "metadata": {},
   "outputs": [],
   "source": [
    "df.describe()"
   ]
  },
  {
   "cell_type": "code",
   "execution_count": null,
   "id": "83b38909",
   "metadata": {
    "scrolled": true
   },
   "outputs": [],
   "source": [
    "#  Get the data types of each column.\n",
    "df.dtypes"
   ]
  },
  {
   "cell_type": "code",
   "execution_count": null,
   "id": "db51b2e6",
   "metadata": {
    "scrolled": true
   },
   "outputs": [],
   "source": [
    "#  Get a list of all columns within the DataFrame.\n",
    "df.columns"
   ]
  },
  {
   "cell_type": "code",
   "execution_count": null,
   "id": "61996e11",
   "metadata": {},
   "outputs": [],
   "source": [
    "#  Get a list of all columns within the DataFrame.\n",
    "df.columns"
   ]
  },
  {
   "cell_type": "code",
   "execution_count": null,
   "id": "9e5b807a",
   "metadata": {},
   "outputs": [],
   "source": [
    "# Drop Columns \n",
    "df.drop('Full_Name',axis='columns', inplace=True)\n",
    "df.drop('Birth_Date',axis=1, inplace=True)\n",
    "df.drop('Wage_Euro',axis=1, inplace=True)\n",
    "df.drop('Preferred_Foot',axis=1, inplace=True)\n",
    "df.drop('Weak_Foot_1_5',axis=1, inplace=True)\n",
    "df.drop('Body_Type',axis=1, inplace=True)\n",
    "df.drop('Release_Clause_Euro',axis=1, inplace=True)\n",
    "df.drop('Club_Rating',axis=1, inplace=True)\n",
    "df.drop('Club_Position',axis=1, inplace=True)\n",
    "df.drop('Club_Jersey_Number',axis=1, inplace=True)\n",
    "df.drop('Club_Join_Date',axis=1, inplace=True)\n",
    "df.drop('Contract_End_Year',axis=1, inplace=True)\n",
    "df.drop('National_Rating',axis=1, inplace=True)\n",
    "df.drop('National_Team_Position',axis=1, inplace=True)\n",
    "df.drop('National_Jersey_Number',axis=1, inplace=True)\n",
    "df.drop('Tags',axis=1, inplace=True)\n",
    "df.drop('Traits',axis=1, inplace=True)\n",
    "\n",
    "df.head()"
   ]
  },
  {
   "cell_type": "code",
   "execution_count": null,
   "id": "8038efc6",
   "metadata": {},
   "outputs": [],
   "source": [
    "df.nunique()"
   ]
  },
  {
   "cell_type": "code",
   "execution_count": null,
   "id": "baf1d874",
   "metadata": {},
   "outputs": [],
   "source": [
    "df['Positions'] = df['Positions'].replace(['CF','RF','LF','ST'],'FW')\n",
    "df['Positions'] = df['Positions'].replace(['AM','CAM','CDM','LM','RM','RW','LW','DM','CM'],'MF')\n",
    "df['Positions'] = df['Positions'].replace(['SW','RWB','LWB','RB','LB','RB','CB','LH','LCB','WB'],'DF')\n",
    "\n",
    "df['Positions'] = df['Positions'].replace(['CB,CDM,CM,CAM','CB,ST,CM', 'CB,ST', 'CB,RWB,RB', 'CB,RWB', 'CB,RM', 'CB,RB,RWB', 'CB,RB,RM', 'CB,RB,LB,CDM', 'CB,RB,LB', 'CB,RB,CM', 'CB,RB,CDM', 'CB,RB,CAM', 'CB,RB', 'CB,LWB,LM', 'CB,LWB,LB', 'CB,LWB', 'CB,LM,LB,LWB', 'CB,LM,LB', 'CB,LB,RB', 'CB,LB,LWB', 'CB,LB,LM', 'CB,LB,CM', 'CB,LB,CDM', 'CB,LB', 'CB,CM,RWB', 'CB,CM,CDM,CAM', 'CB,CM,CDM', 'CB,CM,CAM', 'CB,CM', 'CB,CDM,RB', 'CB,CDM,LB', 'CB,CDM,CM', 'CB,CDM,CAM', 'CB,CDM',\n",
    "                                           'LB,LWB,CB,LM','LB,LM,CB','LB,LM,CDM','LB,LW,CM','LB,LW,CM','LB,LWB,CM',\n",
    "                                           'LB,RB,RM,LM','LB,CM,LWB',\n",
    "                                           'LB,RWB,LWB', 'LB,RW,LW', 'LB,RM,LM', 'LB,RM', 'LB,RB,RWB', 'LB,RB,RM,CDM', 'LB,RB,RM', 'LB,RB,LW', 'LB,RB,LM,RM', 'LB,RB,LM,CM', 'LB,RB,LM', 'LB,RB,CM', 'LB,RB,CDM', 'LB,RB,CB', 'LB,RB', 'LB,LWB,LM,CB', 'LB,LWB,LM', 'LB,LWB,CDM', 'LB,LWB,CB', 'LB,LWB,CAM,LM', 'LB,LWB', 'LB,LW,ST', 'LB,LW,RW', 'LB,LW,LWB', 'LB,LW', 'LB,LM,ST', 'LB,LM,RM', 'LB,LM,RB,CM', 'LB,LM,RB', 'LB,LM,LWB,RM', 'LB,LM,LWB,CB', 'LB,LM,LWB', 'LB,LM,LW', 'LB,LM,CM', 'LB,LM,CAM', 'LB,LM', 'LB,CM,RB', 'LB,CM,LW', 'LB,CM,LM', 'LB,CM', 'LB,CDM,CM', 'LB,CDM,CB', 'LB,CDM', 'LB,CB,RB', 'LB,CB,LWB', 'LB,CB,LM,LWB', 'LB,CB,LM,CM', 'LB,CB,LM', 'LB,CB,CM', 'LB,CB,CDM,RB', 'LB,CB,CDM,LM', 'LB,CB,CDM', 'LB,CB', 'LB,CAM,LM',\n",
    "                                           'LWB,LM,LB,CM','LW,CAM,CM,RB',\n",
    "                                           'RWB,RM,RB,LB', 'RWB,RM,RB', 'RWB,RM,LM', 'RWB,RM', 'RWB,RB,RW', 'RWB,RB,RM', 'RWB,RB,CDM,RM', 'RWB,RB,CDM', 'RWB,RB', 'RWB,LWB', 'RWB,LW,RW', 'RWB,LB', 'RWB,CB', 'RW,ST,RM', 'RW,ST,LW,CF', 'RW,ST,LW', 'RW,ST,CAM,RM', 'RW,ST,CAM', 'RW,ST', 'RW,RWB', 'RW,RM,ST,LW', 'RW,RM,ST', 'RW,RM,LW,ST', 'RW,RM,LM,ST', 'RW,RM,LM', 'RW,RM,LB,CM', 'RW,RM,CM,CAM', 'RW,RM,CM', 'RW,RM,CF,CAM', 'RW,RM,CF', 'RW,RM,CAM,ST', 'RW,RM,CAM', 'RW,RM', 'RW,RB', 'RW,LW,ST', 'RW,LW,RM,ST', 'RW,LW,RM', 'RW,LW,LM', 'RW,LW,CM', 'RW,LW,CAM,ST', 'RW,LW,CAM,CM', 'RW,LW,CAM', 'RW,LW', 'RW,LM,RM,ST', 'RW,LM,RM', 'RW,LM,CAM', 'RW,LM', 'RW,LB', 'RW,CM,RM', 'RW,CM,CAM,LW', 'RW,CM,CAM', 'RW,CM', 'RW,CF,LW', 'RW,CF', 'RW,CAM,ST,LW', 'RW,CAM,ST', 'RW,CAM,RM,CF', 'RW,CAM,RM', 'RW,CAM,LW', 'RW,CAM,CF', 'RW,CAM', \n",
    "'RB,RWB,RM,LWB','RB,CDM,RM,LB','RB,CB,CM,CDM','RB,RW,CM','RB,RW,RM',\n",
    "                                           'RB,LB,LWB,RWB','RWB,LWB,LB,RB','RB,RM,LM,CM','RB,CDM,CB,CM','RB,RM,RW',\n",
    "                                           'RB,CDM,CB,CM','RB,LW,LB,RW','RB,RM,LM,CM','RB,CAM','RB,CB,LB,CDM',\n",
    "                                           'RB,ST,RM', 'RB,ST', 'RB,RWB,RM,RW', 'RB,RWB,RM', 'RB,RWB,LWB,LB', 'RB,RWB,LB', 'RB,RWB,CDM', 'RB,RWB,CB', 'RB,RWB', 'RB,RW,LW', 'RB,RW,LB', 'RB,RW,CAM,LW', 'RB,RW', 'RB,RM,ST', 'RB,RM,RWB', 'RB,RM,LM', 'RB,RM,LB,RWB', 'RB,RM,LB,LM', 'RB,RM,LB', 'RB,RM,CM', 'RB,RM,CDM', 'RB,RM,CB', 'RB,RM,CAM,LM', 'RB,RM', 'RB,LW', 'RB,LM,RM', 'RB,LM,LB,RM', 'RB,LM', 'RB,LB,ST', 'RB,LB,RWB,LWB', 'RB,LB,RWB', 'RB,LB,RM', 'RB,LB,LWB', 'RB,LB,LM,RM', 'RB,LB,LM', 'RB,LB,CM', 'RB,LB,CDM,CM', 'RB,LB,CDM', 'RB,LB,CB', 'RB,LB', 'RB,CM,RM', 'RB,CM,CDM', 'RB,CM', 'RB,CDM,RWB', 'RB,CDM,RM', 'RB,CDM,LB', 'RB,CDM,CM,RM', 'RB,CDM,CM', 'RB,CDM,CB,LB', 'RB,CDM,CB', 'RB,CDM', 'RB,CB,RWB,RM', 'RB,CB,RWB', 'RB,CB,RM', 'RB,CB,LB,RWB', 'RB,CB,LB', 'RB,CB,CM', 'RB,CB,CDM', 'RB,CB',\n",
    "                                           'RWB,LM,ST','RWB,RB,LWB','RWB,LM,LWB,RB'],'DF')\n",
    "\n",
    "\n",
    "\n",
    "df['Positions'] = df['Positions'].replace(['CAM,RM,CM','CAM,CDM,CM,RM','CAM,CF,CM,RM','CAM,LM,CM,CF','CAM,ST,CF,LM','CAM,CDM',\n",
    "                                           'CAM,CDM,CM','CAM,CF','CAM,CDM,RM,CM','CAM,CDM,RM','CAM,CF,RW','CAM,CF,LM',\n",
    "                                           'CAM,CF,CM','CAM,CF,ST','CAM,CF,RW,RM','CAM,CF,RM','CAM,CM','CAM,CF,ST,RM',\n",
    "                                           'CAM,CM,CDM','CAM,CF,ST,RM','CAM,CM,CF','CAM,CM,CDM,RM','CAM,CM,LM','CAM,CM,CF,RM',\n",
    "                                           'CAM,CM,CF,CDM','CAM,CM,LM,RM','CAM,CM,LM,CDM','CAM,CM,LW','CAM,CM,LM,ST',\n",
    "                                           'CAM,CM,RM','CAM,CM,RM,LM','CAM,CM,RM,CF','CAM,CM,RW','CAM,CM,RM,ST','CAM,CM,RM,RW',\n",
    "                                           'CAM,CM,ST','CAM,CM,RWB','CAM,CM,RW,RM','CAM,CM,RW,LW','CAM,RM,RW,CF',\n",
    "                                           'CAM,LM','CAM,LB,CM,RM','CAM,LB,CM','CAM,LB','CAM,LM,CM',\n",
    "                                           'CAM,LM,CF','CAM,LM,CDM','CAM,LB','CAM,LM,LW','CAM,LM,LB','CAM,LM,CM,ST',\n",
    "                                           'CAM,LM,ST','CAM,LM,RW','CAM,LM,RM,ST','CAM,LW,CM',\n",
    "                                           'CAM,RM,LM','CAM,RM,CM,ST','CAM,RM,CM,LM',\n",
    "                                           'CAM,LM,RM','CAM,LM,LWB,LB','CAM,LM,LW,CM','CAM,LM,RM,RW','CAM,LM,RM,LB','CAM,LM,RM,CM',\n",
    "                                           'CAM,LM,RM,CF','CAM,ST,CF,CM','CAM,LW','CAM,LM,ST,RM','CAM,LM,ST,CM',\n",
    "                                           'CAM,LW,RW','CAM,LW,RB','CAM,LW,RB','CAM,LW,LM,ST','CAM,RM','CAM,RB',\n",
    "                                           'CAM,LW,ST','CAM,RM,CF','CAM,RM,CDM','CAM,ST,RM,LM', 'CAM,ST,RM', 'CAM,ST,LW', 'CAM,ST,LM,RM', 'CAM,ST,LM', 'CAM,ST,CM', 'CAM,ST,CF', 'CAM,ST,CDM', 'CAM,ST', 'CAM,RW,ST', 'CAM,RW,RWB', 'CAM,RW,RM', 'CAM,RW,LW,CF', 'CAM,RW,LW', 'CAM,RW,CM', 'CAM,RW,CF,RM', 'CAM,RW,CF', 'CAM,RW', 'CAM,RM,ST,LM', 'CAM,RM,ST', 'CAM,RM,RWB', 'CAM,RM,RW', 'CAM,RM,RB', 'CAM,RM,LM,ST', 'CAM,RM,LM,CM', 'CAM,RM,LM', 'CAM,RM,CM,ST', 'CAM,RM,CM,LM'\n",
    "                                           'CDM,CM,LM,CAM','CDM,CM,RB,LM','CDM,RM,CM','CDM,RWB','CDM,RM,CM','CDM,RM,CM',\n",
    "                                           'CDM,RM,CM,CAM','CDM,CM,CB,LM','CDM,RM,RB','CDM,RM,LM,RB', 'CDM,RM,LM', 'CDM,RM,CAM', 'CDM,RM', 'CDM,RB,RM', 'CDM,RB,LB', 'CDM,RB,CM', 'CDM,RB,CB,CM', 'CDM,RB,CB', 'CDM,RB', 'CDM,LWB,LB', 'CDM,LWB', 'CDM,LM,CAM,CM', 'CDM,LM', 'CDM,LB,LM,CB', 'CDM,LB,CM,RB', 'CDM,LB,CM', 'CDM,LB', 'CDM,CM,RM,RB', 'CDM,CM,RM', 'CDM,CM,RB,RM', 'CDM,CM,RB,CB', 'CDM,CM,RB', 'CDM,CM,LM', 'CDM,CM,LB', 'CDM,CM,CF', 'CDM,CM,CB,ST', 'CDM,CM,CB,RM', 'CDM,CM,CB', 'CDM,CM,CAM,RM', 'CDM,CM,CAM', 'CDM,CM', 'CDM,CB,RB', 'CDM,CB,LB', 'CDM,CB,CM', 'CDM,CB', 'CDM,CAM,LM,LB', 'CDM,CAM,CM,LM', 'CDM,CAM,CM', 'CDM,CAM', 'CDM,CM,LM,CAM',\n",
    "                                           'CAM,LW,LM,CM','CAM,LW,CM,RM','CAM,LW,CF',\n",
    "                                           'CM,RW,LM','CM,CAM,RM,CDM','CM,CAM','CM,CF,RB','CM,CDM,LW','CM,RM,CF',\n",
    "                                           'CM,LM,RM,CAM','CM,CDM,CAM,CF','CM,CAM,LM,RM',\n",
    "                                           'CM,ST,RW', 'CM,ST,RM', 'CM,ST,LM', 'CM,ST,CAM,CF', 'CM,ST,CAM', 'CM,ST', 'CM,RWB,RM', 'CM,RWB,CDM', 'CM,RWB', 'CM,RW,RM', 'CM,RW,LW', 'CM,RW,CAM', 'CM,RW', 'CM,RM,RWB', 'CM,RM,RB', 'CM,RM,LW', 'CM,RM,LM,CDM', 'CM,RM,LM,CAM', 'CM,RM,LM', 'CM,RM,LB,RB', 'CM,RM,LB', 'CM,RM,CDM,RB', 'CM,RM,CDM,LM', 'CM,RM,CDM,CAM', 'CM,RM,CDM', 'CM,RM,CAM', 'CM,RM', 'CM,RB,RM', 'CM,RB,LB', 'CM,RB,CDM,LB', 'CM,RB,CDM', 'CM,RB,CB', 'CM,RB,CAM', 'CM,RB', 'CM,LWB,LB', 'CM,LWB', 'CM,LW,RW,LM', 'CM,LW,RW', 'CM,LW,LWB', 'CM,LW,LM,CAM', 'CM,LW', 'CM,LM,RM', 'CM,LM,RB,RM', 'CM,LM,LW,CAM', 'CM,LM,LB,CF', 'CM,LM,LB', 'CM,LM,CDM,CAM', 'CM,LM,CDM', 'CM,LM,CB', 'CM,LM,CAM,CDM', 'CM,LM,CAM', 'CM,LM', 'CM,LB,RM', 'CM,LB,LM', 'CM,LB,CDM', 'CM,LB', 'CM,CF,LW', 'CM,CF', 'CM,CDM,RWB', 'CM,CDM,RM,LM', 'CM,CDM,RM', 'CM,CDM,RB,RWB', 'CM,CDM,RB', 'CM,CDM,LWB', 'CM,CDM,LM,LB', 'CM,CDM,LM', 'CM,CDM,LB', 'CM,CDM,CB,RB', 'CM,CDM,CB', 'CM,CDM,CAM,ST', 'CM,CDM,CAM,RM', 'CM,CDM,CAM,LM', 'CM,CDM,CAM', 'CM,CDM', 'CM,CB,LB', 'CM,CB,CDM', 'CM,CB,CAM', 'CM,CB', 'CM,CAM,ST', 'CM,CAM,RW', 'CM,CAM,RM,LM', 'CM,CAM,RM,CF', 'CM,CAM,RM', 'CM,CAM,LW', 'CM,CAM,LM,CDM', 'CM,CAM,LM', 'CM,CAM,CF', 'CM,CAM,CDM,RM', 'CM,CAM,CDM,LM', 'CM,CAM,CDM', \n",
    "                                           'LM,CAM,LB,LW','LM,RM,CM,ST','LM,CM,LW','LM,CM,LWB','LM,LWB,RM,RWB',\n",
    "                                           'LM,CM,CDM,RM','LM,LW,CM','LM,RM,RWB','LM,LW,RM,ST','LM,CM,RM,CDM',\n",
    "                                           'LM,ST,RW','LM,RM,ST,LB','LW,LB,LM','LM,CM,RM,RB',\n",
    "                                           'LM,ST,RM,LW', 'LM,ST,RM,CAM', 'LM,ST,RM', 'LM,ST,RB', 'LM,ST,LW', 'LM,ST,LB', 'LM,ST,CM', 'LM,ST,CF', 'LM,ST,CAM,LW', 'LM,ST,CAM', 'LM,ST', 'LM,RW,LW', 'LM,RW', 'LM,RM,ST,LW', 'LM,RM,ST,CF', 'LM,RM,ST,CAM', 'LM,RM,ST', 'LM,RM,RW,CM', 'LM,RM,RW', 'LM,RM,RB', 'LM,RM,LWB,CM', 'LM,RM,LWB', 'LM,RM,LW,ST', 'LM,RM,LW,RW', 'LM,RM,LW,CM', 'LM,RM,LW', 'LM,RM,LB,RB', 'LM,RM,LB', 'LM,RM,CM,CDM', 'LM,RM,CM,CAM', 'LM,RM,CM', 'LM,RM,CF', 'LM,RM,CAM,ST', 'LM,RM,CAM,LW', 'LM,RM,CAM,CM', 'LM,RM,CAM', 'LM,RM', 'LM,RB', 'LM,LWB,LW', 'LM,LWB,LB,LW', 'LM,LWB,LB', 'LM,LWB,CM', 'LM,LWB', 'LM,LW,ST', 'LM,LW,RW,ST', 'LM,LW,RW,RM', 'LM,LW,RW', 'LM,LW,RM,RW', 'LM,LW,RM,RB', 'LM,LW,RM', 'LM,LW,LB', 'LM,LW,CF', 'LM,LW,CDM,LWB', 'LM,LW,CAM', 'LM,LW', 'LM,LB,ST', 'LM,LB,RM', 'LM,LB,RB', 'LM,LB,LWB', 'LM,LB,LW', 'LM,LB,CM', 'LM,LB,CDM,CM', 'LM,LB,CDM', 'LM,LB,CB', 'LM,LB,CAM', 'LM,LB', 'LM,CM,ST', 'LM,CM,RM,ST', 'LM,CM,RM,CAM', 'LM,CM,RM', 'LM,CM,LB', 'LM,CM,CDM,LB', 'LM,CM,CAM', 'LM,CM', 'LM,CF,CAM', 'LM,CF', 'LM,CDM,LB', 'LM,CDM,CM,RM', 'LM,CDM', 'LM,CAM,ST', 'LM,CAM,RW,CF', 'LM,CAM,RM,CF', 'LM,CAM,RM,CDM', 'LM,CAM,RM', 'LM,CAM,LW', 'LM,CAM,LB', 'LM,CAM,CM,CF', 'LM,CAM,CM', 'LM,CAM,CF,RM', 'LM,CAM,CDM', 'LM,CAM',\n",
    "                                           'LW,LM,CF','LW,LM,CF','LW,ST,LM,CAM','LW,RW,CF,ST','LW,ST','LW,RM,RW',\n",
    "                                           'LW,RW,CAM,LM','LWB,RWB,LM,RM', 'LWB,RWB', 'LWB,LW', 'LWB,LM,LB,RWB', 'LWB,LM,LB', 'LWB,LM,CB,RWB', 'LWB,LM', 'LWB,LB,RB,RWB', 'LWB,LB,RB', 'LWB,LB,LM,CDM', 'LWB,LB,LM', 'LWB,LB,CDM', 'LWB,LB,CB,LM', 'LWB,LB,CB', 'LWB,LB', 'LWB,CM,LM', 'LWB,CB', 'LW,ST,RW', 'LW,ST,LM', 'LW,RW,ST,RM', 'LW,RW,ST', 'LW,RW,RM', 'LW,RW,LM', 'LW,RW,LB,CM', 'LW,RW,CM,RB', 'LW,RW,CM', 'LW,RW,CF', 'LW,RW,CAM,ST', 'LW,RW,CAM', 'LW,RW', 'LW,RM,ST,LM', 'LW,RM,LM,RW', 'LW,RM', 'LW,RB,LB', 'LW,RB', 'LW,LWB,LB,RW', 'LW,LM,ST,RM', 'LW,LM,ST,LWB', 'LW,LM,ST', 'LW,LM,RW,RM', 'LW,LM,RW,CAM', 'LW,LM,RW', 'LW,LM,RM,RW', 'LW,LM,RM,CAM', 'LW,LM,RM', 'LW,LM,CM', 'LW,LM,CAM,ST', 'LW,LM,CAM,CF', 'LW,LM,CAM', 'LW,LM', 'LW,LB,RW,LM', 'LW,LB,CM,LM', 'LW,LB', 'LW,CM,RW', 'LW,CM,CAM', 'LW,CM', 'LW,CF,ST', 'LW,CF,RM,RW', 'LW,CF', 'LW,CAM,ST', 'LW,CAM,RW,RM', 'LW,CAM,RW,LM', 'LW,CAM,RW', 'LW,CAM,LM,CM', 'LW,CAM,LM', 'LW,CAM', \n",
    "                                           'RM,ST,RW', 'RM,ST,LM,RW', 'RM,ST,LM,LW', 'RM,ST,LM', 'RM,ST,CAM', 'RM,ST', 'RM,RWB,RW,CM', 'RM,RWB,RB', 'RM,RWB,LM,CAM', 'RM,RWB,LM', 'RM,RWB', 'RM,RW,ST,LM', 'RM,RW,ST,CAM', 'RM,RW,ST', 'RM,RW,RWB', 'RM,RW,RB,RWB', 'RM,RW,RB,LM', 'RM,RW,LW', 'RM,RW,LM,LW', 'RM,RW,LM', 'RM,RW,CM', 'RM,RW,CAM,ST', 'RM,RW,CAM', 'RM,RW', 'RM,RB,ST', 'RM,RB,RWB', 'RM,RB,RW', 'RM,RB,LM,LB', 'RM,RB,LM', 'RM,RB,LB', 'RM,RB,CM', 'RM,RB,CDM,CM', 'RM,RB,CDM', 'RM,RB,CB', 'RM,RB,CAM,CM', 'RM,RB', 'RM,LWB', 'RM,LW,RW', 'RM,LW,LM', 'RM,LW,CAM,ST', 'RM,LW,CAM', 'RM,LW', 'RM,LM,ST,CAM', 'RM,LM,ST', 'RM,LM,RWB,RB', 'RM,LM,RW,ST', 'RM,LM,RW,RWB', 'RM,LM,RW,LW', 'RM,LM,RW,CAM', 'RM,LM,RW', 'RM,LM,RB,LB', 'RM,LM,RB,CM', 'RM,LM,RB,CF', 'RM,LM,RB', 'RM,LM,LWB', 'RM,LM,LW,RW', 'RM,LM,LW', 'RM,LM,LB', 'RM,LM,CM,CDM', 'RM,LM,CM', 'RM,LM,CF,CAM', 'RM,LM,CF', 'RM,LM,CDM,CM', 'RM,LM,CAM,ST', 'RM,LM,CAM,RW', 'RM,LM,CAM,CM', 'RM,LM,CAM', 'RM,LM', 'RM,CM,ST,LM', 'RM,CM,RW,CAM', 'RM,CM,RW', 'RM,CM,RB,RWB', 'RM,CM,RB', 'RM,CM,LM,RB', 'RM,CM,LM,LB', 'RM,CM,LM,CAM', 'RM,CM,LM', 'RM,CM,CDM,RWB', 'RM,CM,CDM', 'RM,CM,CAM,RB', 'RM,CM', 'RM,CF,LM,CAM', 'RM,CF,LM', 'RM,CF,CAM', 'RM,CF', 'RM,CB,RB,RWB', 'RM,CB,RB', 'RM,CAM,ST', 'RM,CAM,RW', 'RM,CAM,LM,ST', 'RM,CAM,LM,CM', 'RM,CAM,LM,CDM', 'RM,CAM,LM', 'RM,CAM,CM,LM', 'RM,CAM,CF,LB', 'RM,CAM,CF', 'RM,CAM', \n",
    "\n",
    "                                           'RM,CAM,CM','RM,RWB,ST','RM,LM,RWB','RM,LM,RW,LWB','RM,RW,CF',\n",
    "                                           'RW,LW,CF','RW,CAM,CM','RW,CAM,CM','RM,ST,LM,CAM','RW,ST,RM,LW',\n",
    "                                           'RM,RW,CM,CAM','RW,RM,LW,LM','RW,ST,CM',\n",
    "                                           'RWB,RM,RB,LWB','RWB,RM,RB,LWB','RWB,RB,RM,CM','RWB,RM,RB,LB',\n",
    "                                           'RWB,RM,RB','RWB,RM,LM','RWB,RM',\n",
    "                                          ],'MF')\n",
    "\n",
    "\n",
    "\n",
    "df['Positions'] = df['Positions'].replace(['CF,RW,ST','CF,ST,LM,RM','CF,ST,CAM,LM','CF,LW,ST',\n",
    "                                           'CF,ST,RW,CAM', 'CF,ST,RW', 'CF,ST,RM,CAM', 'CF,ST,LW', 'CF,ST,LM,CAM', 'CF,ST,LM', 'CF,ST,CM', 'CF,ST,CAM,LW', 'CF,ST,CAM', 'CF,ST', 'CF,RW,RM,LW', 'CF,RW,CM', 'CF,RW', 'CF,RM,LM', 'CF,RM,CM', 'CF,RM,CAM', 'CF,RM', 'CF,LW,ST', 'CF,LW,RW', 'CF,LW,CAM', 'CF,LW', 'CF,LM,ST,CAM', 'CF,LM,RM', 'CF,LM', 'CF,CM,ST', 'CF,CM,LW', 'CF,CM', 'CF,CAM,ST,LW', 'CF,CAM,ST', 'CF,CAM,RM', 'CF,CAM,LW', 'CF,CAM,LM', 'CF,CAM,CM,ST', 'CF,CAM,CM', 'CF,CAM', \n",
    "                                           'ST,LM','ST,LW','ST,CF','ST,RB','ST,RW','ST,LM,CF','ST,CB',\n",
    "                                           'ST,RM,RW,LM','ST,RWB,RM','ST,RW,RM','ST,RW,LW,CF','ST,RW,LW,CAM',\n",
    "                                           'ST,RW,LW','ST,RW,LM,LW','ST,RW,LM','ST,RW,CF,RM','ST,RW,CF','ST,RW,CAM',\n",
    "                                           'ST,RM,RWB,LM','ST,RM,RW,LW','ST,RM,RW','ST,RM,LW','ST,RM,LM,LW',\n",
    "                                           'ST,RM,LM,CF','ST,RM,LM,CAM','ST,RM,LM','ST,RM,CAM,LM','ST,RM,CAM','ST,RM',\n",
    "                                           'ST,LW,RW,LM','ST,LW,RW,CAM','ST,LW,RW','ST,LW,RW','ST,LW,RM','ST,LW,LM,CF',\n",
    "                                           'ST,LW,LM','ST,LW,CM','ST,LW,CDM','ST,LW,CAM','ST,CF,RW',\n",
    "                                           'ST,LM,LWB','ST,LM,LW,RW','ST,LM,LW','ST,LM,CAM','ST,CM,RB','ST,CM',\n",
    "                                           'ST,CAM,RW,LW','ST,CAM,RW,LW','ST,CAM,RW','ST,CAM,RM,LM','ST,CAM,RM','ST,CAM,LW,RW',\n",
    "                                           'ST,CAM,LM,CM','ST,CAM,LM,CF','ST,CAM,LM','ST,CAM,CF',\n",
    "                                           'ST,CAM,RM,LM','ST,CAM,RM','ST,CAM,LW,RW','ST,CAM,LM,CM','ST,CAM',\n",
    "                                           'ST,CF,RM','ST,CF,LW','ST,CF,LM,RW','ST,CF,LM,CAM','ST,CF,CAM,LM','ST,CF,CAM',\n",
    "                                           'ST,LM,RW,RM','ST,LM,RW','ST,LM,RM,CM','ST,LM,RM,CF','ST,LM,RM','ST,LM,RM,CF'\n",
    "                                          ],'FW')\n",
    "df"
   ]
  },
  {
   "cell_type": "code",
   "execution_count": null,
   "id": "9ceebb19",
   "metadata": {},
   "outputs": [],
   "source": [
    "backup_df.columns"
   ]
  },
  {
   "cell_type": "code",
   "execution_count": null,
   "id": "ffc178cc",
   "metadata": {},
   "outputs": [],
   "source": [
    "df['Original_Position'] = backup_df['Positions']\n",
    "df"
   ]
  },
  {
   "cell_type": "code",
   "execution_count": null,
   "id": "a5cb677c",
   "metadata": {},
   "outputs": [],
   "source": [
    "df['Positions'].unique()"
   ]
  },
  {
   "cell_type": "code",
   "execution_count": null,
   "id": "2c88a308",
   "metadata": {},
   "outputs": [],
   "source": [
    "df['Club_Team'].value_counts()"
   ]
  },
  {
   "cell_type": "code",
   "execution_count": null,
   "id": "054e4255",
   "metadata": {},
   "outputs": [],
   "source": [
    "df['National_Team'].value_counts()"
   ]
  },
  {
   "cell_type": "code",
   "execution_count": null,
   "id": "8327c6e9",
   "metadata": {},
   "outputs": [],
   "source": [
    "df['Nationality'].value_counts()"
   ]
  },
  {
   "cell_type": "code",
   "execution_count": null,
   "id": "269d91cd",
   "metadata": {},
   "outputs": [],
   "source": [
    "df.head()"
   ]
  },
  {
   "cell_type": "code",
   "execution_count": null,
   "id": "163f493f",
   "metadata": {},
   "outputs": [],
   "source": [
    "df['Positions'].value_counts()\n"
   ]
  },
  {
   "cell_type": "code",
   "execution_count": null,
   "id": "99e4915e",
   "metadata": {},
   "outputs": [],
   "source": [
    "df.head()"
   ]
  },
  {
   "cell_type": "code",
   "execution_count": null,
   "id": "ed1f8b47",
   "metadata": {},
   "outputs": [],
   "source": [
    "df['Positions'].nunique()"
   ]
  },
  {
   "cell_type": "code",
   "execution_count": null,
   "id": "eca73f6e",
   "metadata": {},
   "outputs": [],
   "source": [
    "position_df= df['Positions'].to_list()\n",
    "print('position_df: ', position_df)"
   ]
  },
  {
   "cell_type": "code",
   "execution_count": null,
   "id": "d940cbb3",
   "metadata": {},
   "outputs": [],
   "source": [
    "# initializing list\n",
    "test_list = position_df\n",
    "\n",
    "res = []\n",
    "for i in test_list:\n",
    "    if i not in res:\n",
    "        res.append(i)\n",
    "# printing list after removal \n",
    "print (res)"
   ]
  },
  {
   "cell_type": "code",
   "execution_count": null,
   "id": "3e4efdae",
   "metadata": {},
   "outputs": [],
   "source": [
    "df.head()"
   ]
  },
  {
   "cell_type": "code",
   "execution_count": null,
   "id": "91fbac5a",
   "metadata": {},
   "outputs": [],
   "source": [
    "df.to_csv('modified_fifa_data.csv')"
   ]
  },
  {
   "cell_type": "code",
   "execution_count": null,
   "id": "b7961971",
   "metadata": {},
   "outputs": [],
   "source": [
    "df[df.Positions == 'GK'].describe()\n"
   ]
  },
  {
   "cell_type": "code",
   "execution_count": null,
   "id": "9a51e361",
   "metadata": {},
   "outputs": [],
   "source": [
    "df[df.Positions == 'FW'].describe()"
   ]
  },
  {
   "cell_type": "code",
   "execution_count": null,
   "id": "04479c8a",
   "metadata": {},
   "outputs": [],
   "source": []
  }
 ],
 "metadata": {
  "interpreter": {
   "hash": "8d758d14bb25247c4134bd7a2e56717621f9d48264e8f5ab1fdd0a2ca2d46760"
  },
  "kernelspec": {
   "display_name": "Python 3 (ipykernel)",
   "language": "python",
   "name": "python3"
  },
  "language_info": {
   "codemirror_mode": {
    "name": "ipython",
    "version": 3
   },
   "file_extension": ".py",
   "mimetype": "text/x-python",
   "name": "python",
   "nbconvert_exporter": "python",
   "pygments_lexer": "ipython3",
   "version": "3.8.8"
  }
 },
 "nbformat": 4,
 "nbformat_minor": 5
}
