{
 "cells": [
  {
   "cell_type": "code",
   "execution_count": null,
   "id": "7ca4614d",
   "metadata": {},
   "outputs": [],
   "source": [
    "# Initial imports\n",
    "import os\n",
    "import numpy as np\n",
    "import pandas as pd\n",
    "import hvplot.pandas\n",
    "from path import Path\n",
    "import plotly.express as px\n",
    "from sklearn.preprocessing import StandardScaler, MinMaxScaler\n",
    "from sklearn.decomposition import PCA\n",
    "from sklearn.cluster import KMeans\n",
    "import matplotlib.pyplot as plt\n",
    "from scipy import stats\n",
    "import seaborn as sns\n",
    "from scipy import stats\n",
    "from itertools import combinations\n"
   ]
  },
  {
   "cell_type": "code",
   "execution_count": null,
   "id": "35acf10b",
   "metadata": {},
   "outputs": [],
   "source": [
    "df = pd.read_csv('fifa_cleaned.csv', index_col = 0)\n",
    "df"
   ]
  },
  {
   "cell_type": "code",
   "execution_count": null,
   "id": "c5e09c6c",
   "metadata": {},
   "outputs": [],
   "source": [
    "new_df = df[['value_euro','age']]\n",
    "new_df"
   ]
  },
  {
   "cell_type": "code",
   "execution_count": null,
   "id": "3b09864c",
   "metadata": {},
   "outputs": [],
   "source": [
    "name_df = df['name']\n",
    "name_df"
   ]
  },
  {
   "cell_type": "code",
   "execution_count": null,
   "id": "8edb44d2",
   "metadata": {},
   "outputs": [],
   "source": [
    "tester = new_df.join(name_df, how='inner')\n",
    "tester"
   ]
  },
  {
   "cell_type": "code",
   "execution_count": null,
   "id": "49f39bec",
   "metadata": {},
   "outputs": [],
   "source": [
    "clustered_df = clustered_df.join(name_df, how='inner')\n",
    "clustered_df.head()\n",
    "#  Add a new column, \"Class\" to the clustered_df DataFrame that holds the predictions.\n",
    "clustered_df[\"value_euro\"]= model.labels_\n",
    "\n",
    "# Print the shape of the clustered_df\n",
    "print(clustered_df.shape)\n",
    "clustered_df.head(10)"
   ]
  },
  {
   "cell_type": "code",
   "execution_count": null,
   "id": "7e55eb8c",
   "metadata": {},
   "outputs": [],
   "source": [
    "# Use get_dummies() to create variables for text features.\n",
    "dummy_df = pd.get_dummies(new_df, columns=['value_euro','age'])\n",
    "dummy_df.head(15)"
   ]
  },
  {
   "cell_type": "code",
   "execution_count": null,
   "id": "4b3418eb",
   "metadata": {},
   "outputs": [],
   "source": [
    "scaled_X = StandardScaler().fit_transform(dummy_df)\n",
    "print(scaled_X[0:5])"
   ]
  },
  {
   "cell_type": "code",
   "execution_count": null,
   "id": "2dd4a837",
   "metadata": {},
   "outputs": [],
   "source": [
    "pca=PCA(n_components=3)\n",
    "x_pca = pca.fit_transform(scaled_X)\n",
    "x_pca"
   ]
  },
  {
   "cell_type": "code",
   "execution_count": null,
   "id": "d639b7f1",
   "metadata": {},
   "outputs": [],
   "source": [
    "index_values = (dummy_df.index.tolist())\n",
    "index_values"
   ]
  },
  {
   "cell_type": "code",
   "execution_count": null,
   "id": "c8e793c8",
   "metadata": {},
   "outputs": [],
   "source": [
    "ppp_df =pd.DataFrame(data = x_pca, columns=[\"PC 1\", \"PC 2\", \"PC 3\"], index = index_values)\n",
    "ppp_df.head()"
   ]
  },
  {
   "cell_type": "code",
   "execution_count": null,
   "id": "6c22175d",
   "metadata": {},
   "outputs": [],
   "source": [
    "inertia = []\n",
    "k = list(range(1,11))\n",
    "for i in k:\n",
    "    km =KMeans(n_clusters=i,random_state=0)\n",
    "    km.fit(ppp_df)\n",
    "    inertia.append(km.inertia_)"
   ]
  },
  {
   "cell_type": "code",
   "execution_count": null,
   "id": "93f8bdbb",
   "metadata": {},
   "outputs": [],
   "source": [
    "elbow_data = {\"k\": k, \"inertia\": inertia}\n",
    "df_elbow = pd.DataFrame(elbow_data)\n",
    "df_elbow.hvplot.line(x=\"k\", y=\"inertia\", title=\"Elbow Curve\", xticks=k)"
   ]
  }
 ],
 "metadata": {
  "kernelspec": {
   "display_name": "mlenv",
   "language": "python",
   "name": "mlenv"
  },
  "language_info": {
   "codemirror_mode": {
    "name": "ipython",
    "version": 3
   },
   "file_extension": ".py",
   "mimetype": "text/x-python",
   "name": "python",
   "nbconvert_exporter": "python",
   "pygments_lexer": "ipython3",
   "version": "3.7.11"
  }
 },
 "nbformat": 4,
 "nbformat_minor": 5
}
