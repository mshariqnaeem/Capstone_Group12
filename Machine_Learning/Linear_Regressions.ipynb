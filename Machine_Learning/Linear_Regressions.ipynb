{
 "cells": [
  {
   "cell_type": "code",
   "execution_count": 1,
   "id": "3204de62",
   "metadata": {},
   "outputs": [],
   "source": [
    "# import libraries \n",
    "import pandas as pd\n",
    "import numpy as np\n",
    "from pathlib import Path\n",
    "import matplotlib.pyplot as plt\n",
    "from sklearn.linear_model import LinearRegression"
   ]
  },
  {
   "cell_type": "code",
   "execution_count": 2,
   "id": "18c48bf0",
   "metadata": {},
   "outputs": [
    {
     "data": {
      "text/html": [
       "<div>\n",
       "<style scoped>\n",
       "    .dataframe tbody tr th:only-of-type {\n",
       "        vertical-align: middle;\n",
       "    }\n",
       "\n",
       "    .dataframe tbody tr th {\n",
       "        vertical-align: top;\n",
       "    }\n",
       "\n",
       "    .dataframe thead th {\n",
       "        text-align: right;\n",
       "    }\n",
       "</style>\n",
       "<table border=\"1\" class=\"dataframe\">\n",
       "  <thead>\n",
       "    <tr style=\"text-align: right;\">\n",
       "      <th></th>\n",
       "      <th>Unnamed: 0</th>\n",
       "      <th>Id</th>\n",
       "      <th>Name</th>\n",
       "      <th>Age</th>\n",
       "      <th>Height_Cm</th>\n",
       "      <th>Weight_Kgs</th>\n",
       "      <th>Positions</th>\n",
       "      <th>Nationality</th>\n",
       "      <th>Overall_Rating</th>\n",
       "      <th>Potential</th>\n",
       "      <th>...</th>\n",
       "      <th>Ldm</th>\n",
       "      <th>Cdm</th>\n",
       "      <th>Rdm</th>\n",
       "      <th>Rwb</th>\n",
       "      <th>Lb</th>\n",
       "      <th>Lcb</th>\n",
       "      <th>Cb</th>\n",
       "      <th>Rcb</th>\n",
       "      <th>Rb</th>\n",
       "      <th>Original_Position</th>\n",
       "    </tr>\n",
       "  </thead>\n",
       "  <tbody>\n",
       "    <tr>\n",
       "      <th>0</th>\n",
       "      <td>0</td>\n",
       "      <td>158023</td>\n",
       "      <td>L. Messi</td>\n",
       "      <td>31</td>\n",
       "      <td>170.18</td>\n",
       "      <td>72.1</td>\n",
       "      <td>FW</td>\n",
       "      <td>Argentina</td>\n",
       "      <td>94</td>\n",
       "      <td>94</td>\n",
       "      <td>...</td>\n",
       "      <td>61+2</td>\n",
       "      <td>61+2</td>\n",
       "      <td>61+2</td>\n",
       "      <td>64+2</td>\n",
       "      <td>59+2</td>\n",
       "      <td>48+2</td>\n",
       "      <td>48+2</td>\n",
       "      <td>48+2</td>\n",
       "      <td>59+2</td>\n",
       "      <td>CF,RW,ST</td>\n",
       "    </tr>\n",
       "    <tr>\n",
       "      <th>1</th>\n",
       "      <td>1</td>\n",
       "      <td>190460</td>\n",
       "      <td>C. Eriksen</td>\n",
       "      <td>27</td>\n",
       "      <td>154.94</td>\n",
       "      <td>76.2</td>\n",
       "      <td>MF</td>\n",
       "      <td>Denmark</td>\n",
       "      <td>88</td>\n",
       "      <td>89</td>\n",
       "      <td>...</td>\n",
       "      <td>71+3</td>\n",
       "      <td>71+3</td>\n",
       "      <td>71+3</td>\n",
       "      <td>71+3</td>\n",
       "      <td>66+3</td>\n",
       "      <td>57+3</td>\n",
       "      <td>57+3</td>\n",
       "      <td>57+3</td>\n",
       "      <td>66+3</td>\n",
       "      <td>CAM,RM,CM</td>\n",
       "    </tr>\n",
       "    <tr>\n",
       "      <th>2</th>\n",
       "      <td>2</td>\n",
       "      <td>195864</td>\n",
       "      <td>P. Pogba</td>\n",
       "      <td>25</td>\n",
       "      <td>190.50</td>\n",
       "      <td>83.9</td>\n",
       "      <td>MF</td>\n",
       "      <td>France</td>\n",
       "      <td>88</td>\n",
       "      <td>91</td>\n",
       "      <td>...</td>\n",
       "      <td>77+3</td>\n",
       "      <td>77+3</td>\n",
       "      <td>77+3</td>\n",
       "      <td>76+3</td>\n",
       "      <td>74+3</td>\n",
       "      <td>72+3</td>\n",
       "      <td>72+3</td>\n",
       "      <td>72+3</td>\n",
       "      <td>74+3</td>\n",
       "      <td>CM,CAM</td>\n",
       "    </tr>\n",
       "    <tr>\n",
       "      <th>3</th>\n",
       "      <td>3</td>\n",
       "      <td>198219</td>\n",
       "      <td>L. Insigne</td>\n",
       "      <td>27</td>\n",
       "      <td>162.56</td>\n",
       "      <td>59.0</td>\n",
       "      <td>MF</td>\n",
       "      <td>Italy</td>\n",
       "      <td>88</td>\n",
       "      <td>88</td>\n",
       "      <td>...</td>\n",
       "      <td>58+3</td>\n",
       "      <td>58+3</td>\n",
       "      <td>58+3</td>\n",
       "      <td>63+3</td>\n",
       "      <td>58+3</td>\n",
       "      <td>44+3</td>\n",
       "      <td>44+3</td>\n",
       "      <td>44+3</td>\n",
       "      <td>58+3</td>\n",
       "      <td>LW,ST</td>\n",
       "    </tr>\n",
       "    <tr>\n",
       "      <th>4</th>\n",
       "      <td>4</td>\n",
       "      <td>201024</td>\n",
       "      <td>K. Koulibaly</td>\n",
       "      <td>27</td>\n",
       "      <td>187.96</td>\n",
       "      <td>88.9</td>\n",
       "      <td>DF</td>\n",
       "      <td>Senegal</td>\n",
       "      <td>88</td>\n",
       "      <td>91</td>\n",
       "      <td>...</td>\n",
       "      <td>77+3</td>\n",
       "      <td>77+3</td>\n",
       "      <td>77+3</td>\n",
       "      <td>73+3</td>\n",
       "      <td>76+3</td>\n",
       "      <td>85+3</td>\n",
       "      <td>85+3</td>\n",
       "      <td>85+3</td>\n",
       "      <td>76+3</td>\n",
       "      <td>CB</td>\n",
       "    </tr>\n",
       "  </tbody>\n",
       "</table>\n",
       "<p>5 rows × 77 columns</p>\n",
       "</div>"
      ],
      "text/plain": [
       "   Unnamed: 0      Id          Name  Age  Height_Cm  Weight_Kgs Positions  \\\n",
       "0           0  158023      L. Messi   31     170.18        72.1        FW   \n",
       "1           1  190460    C. Eriksen   27     154.94        76.2        MF   \n",
       "2           2  195864      P. Pogba   25     190.50        83.9        MF   \n",
       "3           3  198219    L. Insigne   27     162.56        59.0        MF   \n",
       "4           4  201024  K. Koulibaly   27     187.96        88.9        DF   \n",
       "\n",
       "  Nationality  Overall_Rating  Potential  ...   Ldm   Cdm   Rdm   Rwb    Lb  \\\n",
       "0   Argentina              94         94  ...  61+2  61+2  61+2  64+2  59+2   \n",
       "1     Denmark              88         89  ...  71+3  71+3  71+3  71+3  66+3   \n",
       "2      France              88         91  ...  77+3  77+3  77+3  76+3  74+3   \n",
       "3       Italy              88         88  ...  58+3  58+3  58+3  63+3  58+3   \n",
       "4     Senegal              88         91  ...  77+3  77+3  77+3  73+3  76+3   \n",
       "\n",
       "    Lcb    Cb   Rcb    Rb  Original_Position  \n",
       "0  48+2  48+2  48+2  59+2           CF,RW,ST  \n",
       "1  57+3  57+3  57+3  66+3          CAM,RM,CM  \n",
       "2  72+3  72+3  72+3  74+3             CM,CAM  \n",
       "3  44+3  44+3  44+3  58+3              LW,ST  \n",
       "4  85+3  85+3  85+3  76+3                 CB  \n",
       "\n",
       "[5 rows x 77 columns]"
      ]
     },
     "execution_count": 2,
     "metadata": {},
     "output_type": "execute_result"
    }
   ],
   "source": [
    "#read in the CSV as a dataframe \n",
    "df = pd.read_csv(Path('C:/Users/Sydney Kieswetter/Class/Capstone_Group12/Resources/Modified_fifa_data.csv'))\n",
    "df.head()"
   ]
  },
  {
   "cell_type": "code",
   "execution_count": 3,
   "id": "abeb6c6c",
   "metadata": {},
   "outputs": [
    {
     "data": {
      "text/html": [
       "<div>\n",
       "<style scoped>\n",
       "    .dataframe tbody tr th:only-of-type {\n",
       "        vertical-align: middle;\n",
       "    }\n",
       "\n",
       "    .dataframe tbody tr th {\n",
       "        vertical-align: top;\n",
       "    }\n",
       "\n",
       "    .dataframe thead th {\n",
       "        text-align: right;\n",
       "    }\n",
       "</style>\n",
       "<table border=\"1\" class=\"dataframe\">\n",
       "  <thead>\n",
       "    <tr style=\"text-align: right;\">\n",
       "      <th></th>\n",
       "      <th>Id</th>\n",
       "      <th>Name</th>\n",
       "      <th>Age</th>\n",
       "      <th>Height_Cm</th>\n",
       "      <th>Weight_Kgs</th>\n",
       "      <th>Positions</th>\n",
       "      <th>Nationality</th>\n",
       "      <th>Overall_Rating</th>\n",
       "      <th>Potential</th>\n",
       "      <th>Value_Euro</th>\n",
       "      <th>...</th>\n",
       "      <th>Ldm</th>\n",
       "      <th>Cdm</th>\n",
       "      <th>Rdm</th>\n",
       "      <th>Rwb</th>\n",
       "      <th>Lb</th>\n",
       "      <th>Lcb</th>\n",
       "      <th>Cb</th>\n",
       "      <th>Rcb</th>\n",
       "      <th>Rb</th>\n",
       "      <th>Original_Position</th>\n",
       "    </tr>\n",
       "  </thead>\n",
       "  <tbody>\n",
       "    <tr>\n",
       "      <th>0</th>\n",
       "      <td>158023</td>\n",
       "      <td>L. Messi</td>\n",
       "      <td>31</td>\n",
       "      <td>170.18</td>\n",
       "      <td>72.1</td>\n",
       "      <td>FW</td>\n",
       "      <td>Argentina</td>\n",
       "      <td>94</td>\n",
       "      <td>94</td>\n",
       "      <td>110500000.0</td>\n",
       "      <td>...</td>\n",
       "      <td>61+2</td>\n",
       "      <td>61+2</td>\n",
       "      <td>61+2</td>\n",
       "      <td>64+2</td>\n",
       "      <td>59+2</td>\n",
       "      <td>48+2</td>\n",
       "      <td>48+2</td>\n",
       "      <td>48+2</td>\n",
       "      <td>59+2</td>\n",
       "      <td>CF,RW,ST</td>\n",
       "    </tr>\n",
       "    <tr>\n",
       "      <th>1</th>\n",
       "      <td>190460</td>\n",
       "      <td>C. Eriksen</td>\n",
       "      <td>27</td>\n",
       "      <td>154.94</td>\n",
       "      <td>76.2</td>\n",
       "      <td>MF</td>\n",
       "      <td>Denmark</td>\n",
       "      <td>88</td>\n",
       "      <td>89</td>\n",
       "      <td>69500000.0</td>\n",
       "      <td>...</td>\n",
       "      <td>71+3</td>\n",
       "      <td>71+3</td>\n",
       "      <td>71+3</td>\n",
       "      <td>71+3</td>\n",
       "      <td>66+3</td>\n",
       "      <td>57+3</td>\n",
       "      <td>57+3</td>\n",
       "      <td>57+3</td>\n",
       "      <td>66+3</td>\n",
       "      <td>CAM,RM,CM</td>\n",
       "    </tr>\n",
       "    <tr>\n",
       "      <th>2</th>\n",
       "      <td>195864</td>\n",
       "      <td>P. Pogba</td>\n",
       "      <td>25</td>\n",
       "      <td>190.50</td>\n",
       "      <td>83.9</td>\n",
       "      <td>MF</td>\n",
       "      <td>France</td>\n",
       "      <td>88</td>\n",
       "      <td>91</td>\n",
       "      <td>73000000.0</td>\n",
       "      <td>...</td>\n",
       "      <td>77+3</td>\n",
       "      <td>77+3</td>\n",
       "      <td>77+3</td>\n",
       "      <td>76+3</td>\n",
       "      <td>74+3</td>\n",
       "      <td>72+3</td>\n",
       "      <td>72+3</td>\n",
       "      <td>72+3</td>\n",
       "      <td>74+3</td>\n",
       "      <td>CM,CAM</td>\n",
       "    </tr>\n",
       "    <tr>\n",
       "      <th>3</th>\n",
       "      <td>198219</td>\n",
       "      <td>L. Insigne</td>\n",
       "      <td>27</td>\n",
       "      <td>162.56</td>\n",
       "      <td>59.0</td>\n",
       "      <td>MF</td>\n",
       "      <td>Italy</td>\n",
       "      <td>88</td>\n",
       "      <td>88</td>\n",
       "      <td>62000000.0</td>\n",
       "      <td>...</td>\n",
       "      <td>58+3</td>\n",
       "      <td>58+3</td>\n",
       "      <td>58+3</td>\n",
       "      <td>63+3</td>\n",
       "      <td>58+3</td>\n",
       "      <td>44+3</td>\n",
       "      <td>44+3</td>\n",
       "      <td>44+3</td>\n",
       "      <td>58+3</td>\n",
       "      <td>LW,ST</td>\n",
       "    </tr>\n",
       "    <tr>\n",
       "      <th>4</th>\n",
       "      <td>201024</td>\n",
       "      <td>K. Koulibaly</td>\n",
       "      <td>27</td>\n",
       "      <td>187.96</td>\n",
       "      <td>88.9</td>\n",
       "      <td>DF</td>\n",
       "      <td>Senegal</td>\n",
       "      <td>88</td>\n",
       "      <td>91</td>\n",
       "      <td>60000000.0</td>\n",
       "      <td>...</td>\n",
       "      <td>77+3</td>\n",
       "      <td>77+3</td>\n",
       "      <td>77+3</td>\n",
       "      <td>73+3</td>\n",
       "      <td>76+3</td>\n",
       "      <td>85+3</td>\n",
       "      <td>85+3</td>\n",
       "      <td>85+3</td>\n",
       "      <td>76+3</td>\n",
       "      <td>CB</td>\n",
       "    </tr>\n",
       "  </tbody>\n",
       "</table>\n",
       "<p>5 rows × 76 columns</p>\n",
       "</div>"
      ],
      "text/plain": [
       "       Id          Name  Age  Height_Cm  Weight_Kgs Positions Nationality  \\\n",
       "0  158023      L. Messi   31     170.18        72.1        FW   Argentina   \n",
       "1  190460    C. Eriksen   27     154.94        76.2        MF     Denmark   \n",
       "2  195864      P. Pogba   25     190.50        83.9        MF      France   \n",
       "3  198219    L. Insigne   27     162.56        59.0        MF       Italy   \n",
       "4  201024  K. Koulibaly   27     187.96        88.9        DF     Senegal   \n",
       "\n",
       "   Overall_Rating  Potential   Value_Euro  ...   Ldm   Cdm   Rdm   Rwb    Lb  \\\n",
       "0              94         94  110500000.0  ...  61+2  61+2  61+2  64+2  59+2   \n",
       "1              88         89   69500000.0  ...  71+3  71+3  71+3  71+3  66+3   \n",
       "2              88         91   73000000.0  ...  77+3  77+3  77+3  76+3  74+3   \n",
       "3              88         88   62000000.0  ...  58+3  58+3  58+3  63+3  58+3   \n",
       "4              88         91   60000000.0  ...  77+3  77+3  77+3  73+3  76+3   \n",
       "\n",
       "    Lcb    Cb   Rcb    Rb  Original_Position  \n",
       "0  48+2  48+2  48+2  59+2           CF,RW,ST  \n",
       "1  57+3  57+3  57+3  66+3          CAM,RM,CM  \n",
       "2  72+3  72+3  72+3  74+3             CM,CAM  \n",
       "3  44+3  44+3  44+3  58+3              LW,ST  \n",
       "4  85+3  85+3  85+3  76+3                 CB  \n",
       "\n",
       "[5 rows x 76 columns]"
      ]
     },
     "execution_count": 3,
     "metadata": {},
     "output_type": "execute_result"
    }
   ],
   "source": [
    "df.drop(\"Unnamed: 0\",axis=1, inplace=True)\n",
    "df.head()"
   ]
  },
  {
   "cell_type": "code",
   "execution_count": 4,
   "id": "74ca031e",
   "metadata": {},
   "outputs": [
    {
     "data": {
      "text/plain": [
       "(17954, 76)"
      ]
     },
     "execution_count": 4,
     "metadata": {},
     "output_type": "execute_result"
    }
   ],
   "source": [
    "df.shape"
   ]
  },
  {
   "cell_type": "code",
   "execution_count": 5,
   "id": "d2208f80",
   "metadata": {},
   "outputs": [
    {
     "data": {
      "text/html": [
       "<div>\n",
       "<style scoped>\n",
       "    .dataframe tbody tr th:only-of-type {\n",
       "        vertical-align: middle;\n",
       "    }\n",
       "\n",
       "    .dataframe tbody tr th {\n",
       "        vertical-align: top;\n",
       "    }\n",
       "\n",
       "    .dataframe thead th {\n",
       "        text-align: right;\n",
       "    }\n",
       "</style>\n",
       "<table border=\"1\" class=\"dataframe\">\n",
       "  <thead>\n",
       "    <tr style=\"text-align: right;\">\n",
       "      <th></th>\n",
       "      <th>Age</th>\n",
       "      <th>Height_Cm</th>\n",
       "      <th>Weight_Kgs</th>\n",
       "      <th>Value_Euro</th>\n",
       "    </tr>\n",
       "  </thead>\n",
       "  <tbody>\n",
       "    <tr>\n",
       "      <th>0</th>\n",
       "      <td>31</td>\n",
       "      <td>170.18</td>\n",
       "      <td>72.1</td>\n",
       "      <td>110500000.0</td>\n",
       "    </tr>\n",
       "    <tr>\n",
       "      <th>1</th>\n",
       "      <td>27</td>\n",
       "      <td>154.94</td>\n",
       "      <td>76.2</td>\n",
       "      <td>69500000.0</td>\n",
       "    </tr>\n",
       "    <tr>\n",
       "      <th>2</th>\n",
       "      <td>25</td>\n",
       "      <td>190.50</td>\n",
       "      <td>83.9</td>\n",
       "      <td>73000000.0</td>\n",
       "    </tr>\n",
       "    <tr>\n",
       "      <th>3</th>\n",
       "      <td>27</td>\n",
       "      <td>162.56</td>\n",
       "      <td>59.0</td>\n",
       "      <td>62000000.0</td>\n",
       "    </tr>\n",
       "    <tr>\n",
       "      <th>4</th>\n",
       "      <td>27</td>\n",
       "      <td>187.96</td>\n",
       "      <td>88.9</td>\n",
       "      <td>60000000.0</td>\n",
       "    </tr>\n",
       "  </tbody>\n",
       "</table>\n",
       "</div>"
      ],
      "text/plain": [
       "   Age  Height_Cm  Weight_Kgs   Value_Euro\n",
       "0   31     170.18        72.1  110500000.0\n",
       "1   27     154.94        76.2   69500000.0\n",
       "2   25     190.50        83.9   73000000.0\n",
       "3   27     162.56        59.0   62000000.0\n",
       "4   27     187.96        88.9   60000000.0"
      ]
     },
     "execution_count": 5,
     "metadata": {},
     "output_type": "execute_result"
    }
   ],
   "source": [
    "# Create tables \n",
    "dfdemo=df.filter([\"Age\",\"Height_Cm\",\"Weight_Kgs\",\"Value_Euro\"],axis=1)\n",
    "dfdemo.head()"
   ]
  },
  {
   "cell_type": "code",
   "execution_count": 6,
   "id": "d4a7f2da",
   "metadata": {},
   "outputs": [
    {
     "data": {
      "text/html": [
       "<div>\n",
       "<style scoped>\n",
       "    .dataframe tbody tr th:only-of-type {\n",
       "        vertical-align: middle;\n",
       "    }\n",
       "\n",
       "    .dataframe tbody tr th {\n",
       "        vertical-align: top;\n",
       "    }\n",
       "\n",
       "    .dataframe thead th {\n",
       "        text-align: right;\n",
       "    }\n",
       "</style>\n",
       "<table border=\"1\" class=\"dataframe\">\n",
       "  <thead>\n",
       "    <tr style=\"text-align: right;\">\n",
       "      <th></th>\n",
       "      <th>Crossing</th>\n",
       "      <th>Finishing</th>\n",
       "      <th>Heading_Accuracy</th>\n",
       "      <th>Short_Passing</th>\n",
       "      <th>Volleys</th>\n",
       "      <th>Dribbling</th>\n",
       "      <th>Curve</th>\n",
       "      <th>Freekick_Accuracy</th>\n",
       "      <th>Long_Passing</th>\n",
       "      <th>Ball_Control</th>\n",
       "      <th>...</th>\n",
       "      <th>Aggression</th>\n",
       "      <th>Interceptions</th>\n",
       "      <th>Positioning</th>\n",
       "      <th>Vision</th>\n",
       "      <th>Penalties</th>\n",
       "      <th>Composure</th>\n",
       "      <th>Marking</th>\n",
       "      <th>Standing_Tackle</th>\n",
       "      <th>Sliding_Tackle</th>\n",
       "      <th>Value_Euro</th>\n",
       "    </tr>\n",
       "  </thead>\n",
       "  <tbody>\n",
       "    <tr>\n",
       "      <th>0</th>\n",
       "      <td>86</td>\n",
       "      <td>95</td>\n",
       "      <td>70</td>\n",
       "      <td>92</td>\n",
       "      <td>86</td>\n",
       "      <td>97</td>\n",
       "      <td>93</td>\n",
       "      <td>94</td>\n",
       "      <td>89</td>\n",
       "      <td>96</td>\n",
       "      <td>...</td>\n",
       "      <td>48</td>\n",
       "      <td>22</td>\n",
       "      <td>94</td>\n",
       "      <td>94</td>\n",
       "      <td>75</td>\n",
       "      <td>96</td>\n",
       "      <td>33</td>\n",
       "      <td>28</td>\n",
       "      <td>26</td>\n",
       "      <td>110500000.0</td>\n",
       "    </tr>\n",
       "    <tr>\n",
       "      <th>1</th>\n",
       "      <td>88</td>\n",
       "      <td>81</td>\n",
       "      <td>52</td>\n",
       "      <td>91</td>\n",
       "      <td>80</td>\n",
       "      <td>84</td>\n",
       "      <td>86</td>\n",
       "      <td>87</td>\n",
       "      <td>89</td>\n",
       "      <td>91</td>\n",
       "      <td>...</td>\n",
       "      <td>46</td>\n",
       "      <td>56</td>\n",
       "      <td>84</td>\n",
       "      <td>91</td>\n",
       "      <td>67</td>\n",
       "      <td>88</td>\n",
       "      <td>59</td>\n",
       "      <td>57</td>\n",
       "      <td>22</td>\n",
       "      <td>69500000.0</td>\n",
       "    </tr>\n",
       "    <tr>\n",
       "      <th>2</th>\n",
       "      <td>80</td>\n",
       "      <td>75</td>\n",
       "      <td>75</td>\n",
       "      <td>86</td>\n",
       "      <td>85</td>\n",
       "      <td>87</td>\n",
       "      <td>85</td>\n",
       "      <td>82</td>\n",
       "      <td>90</td>\n",
       "      <td>90</td>\n",
       "      <td>...</td>\n",
       "      <td>78</td>\n",
       "      <td>64</td>\n",
       "      <td>82</td>\n",
       "      <td>88</td>\n",
       "      <td>82</td>\n",
       "      <td>87</td>\n",
       "      <td>63</td>\n",
       "      <td>67</td>\n",
       "      <td>67</td>\n",
       "      <td>73000000.0</td>\n",
       "    </tr>\n",
       "    <tr>\n",
       "      <th>3</th>\n",
       "      <td>86</td>\n",
       "      <td>77</td>\n",
       "      <td>56</td>\n",
       "      <td>85</td>\n",
       "      <td>74</td>\n",
       "      <td>90</td>\n",
       "      <td>87</td>\n",
       "      <td>77</td>\n",
       "      <td>78</td>\n",
       "      <td>93</td>\n",
       "      <td>...</td>\n",
       "      <td>34</td>\n",
       "      <td>26</td>\n",
       "      <td>83</td>\n",
       "      <td>87</td>\n",
       "      <td>61</td>\n",
       "      <td>83</td>\n",
       "      <td>51</td>\n",
       "      <td>24</td>\n",
       "      <td>22</td>\n",
       "      <td>62000000.0</td>\n",
       "    </tr>\n",
       "    <tr>\n",
       "      <th>4</th>\n",
       "      <td>30</td>\n",
       "      <td>22</td>\n",
       "      <td>83</td>\n",
       "      <td>68</td>\n",
       "      <td>14</td>\n",
       "      <td>69</td>\n",
       "      <td>28</td>\n",
       "      <td>28</td>\n",
       "      <td>60</td>\n",
       "      <td>63</td>\n",
       "      <td>...</td>\n",
       "      <td>87</td>\n",
       "      <td>88</td>\n",
       "      <td>24</td>\n",
       "      <td>49</td>\n",
       "      <td>33</td>\n",
       "      <td>80</td>\n",
       "      <td>91</td>\n",
       "      <td>88</td>\n",
       "      <td>87</td>\n",
       "      <td>60000000.0</td>\n",
       "    </tr>\n",
       "  </tbody>\n",
       "</table>\n",
       "<p>5 rows × 30 columns</p>\n",
       "</div>"
      ],
      "text/plain": [
       "   Crossing  Finishing  Heading_Accuracy  Short_Passing  Volleys  Dribbling  \\\n",
       "0        86         95                70             92       86         97   \n",
       "1        88         81                52             91       80         84   \n",
       "2        80         75                75             86       85         87   \n",
       "3        86         77                56             85       74         90   \n",
       "4        30         22                83             68       14         69   \n",
       "\n",
       "   Curve  Freekick_Accuracy  Long_Passing  Ball_Control  ...  Aggression  \\\n",
       "0     93                 94            89            96  ...          48   \n",
       "1     86                 87            89            91  ...          46   \n",
       "2     85                 82            90            90  ...          78   \n",
       "3     87                 77            78            93  ...          34   \n",
       "4     28                 28            60            63  ...          87   \n",
       "\n",
       "   Interceptions  Positioning  Vision  Penalties  Composure  Marking  \\\n",
       "0             22           94      94         75         96       33   \n",
       "1             56           84      91         67         88       59   \n",
       "2             64           82      88         82         87       63   \n",
       "3             26           83      87         61         83       51   \n",
       "4             88           24      49         33         80       91   \n",
       "\n",
       "   Standing_Tackle  Sliding_Tackle   Value_Euro  \n",
       "0               28              26  110500000.0  \n",
       "1               57              22   69500000.0  \n",
       "2               67              67   73000000.0  \n",
       "3               24              22   62000000.0  \n",
       "4               88              87   60000000.0  \n",
       "\n",
       "[5 rows x 30 columns]"
      ]
     },
     "execution_count": 6,
     "metadata": {},
     "output_type": "execute_result"
    }
   ],
   "source": [
    "dfskills=df.filter([\"Crossing\",\"Finishing\",\"Heading_Accuracy\",\"Short_Passing\",\"Volleys\",\"Dribbling\",\"Curve\",\"Freekick_Accuracy\",\"Long_Passing\",\"Ball_Control\",\"Acceleration\",\"Sprint_Speed\",\"Agility\",\"Reactions\",\"Balance\",\"Shot_Power\",\"Jumping\",\"Stamina\",\"Strength\",\"Long_Shots\",\"Aggression\",\"Interceptions\",\"Positioning\",\"Vision\",\"Penalties\",\"Composure\",\"Marking\",\"Standing_Tackle\",\"Sliding_Tackle\",\"Value_Euro\"],axis=1)\n",
    "dfskills.head()"
   ]
  },
  {
   "cell_type": "code",
   "execution_count": 7,
   "id": "790774a7",
   "metadata": {},
   "outputs": [
    {
     "data": {
      "text/html": [
       "<div>\n",
       "<style scoped>\n",
       "    .dataframe tbody tr th:only-of-type {\n",
       "        vertical-align: middle;\n",
       "    }\n",
       "\n",
       "    .dataframe tbody tr th {\n",
       "        vertical-align: top;\n",
       "    }\n",
       "\n",
       "    .dataframe thead th {\n",
       "        text-align: right;\n",
       "    }\n",
       "</style>\n",
       "<table border=\"1\" class=\"dataframe\">\n",
       "  <thead>\n",
       "    <tr style=\"text-align: right;\">\n",
       "      <th></th>\n",
       "      <th>Id</th>\n",
       "      <th>Name</th>\n",
       "      <th>Age</th>\n",
       "      <th>Height_Cm</th>\n",
       "      <th>Weight_Kgs</th>\n",
       "      <th>Positions</th>\n",
       "      <th>Nationality</th>\n",
       "      <th>Overall_Rating</th>\n",
       "      <th>Potential</th>\n",
       "      <th>Value_Euro</th>\n",
       "      <th>...</th>\n",
       "      <th>Ldm</th>\n",
       "      <th>Cdm</th>\n",
       "      <th>Rdm</th>\n",
       "      <th>Rwb</th>\n",
       "      <th>Lb</th>\n",
       "      <th>Lcb</th>\n",
       "      <th>Cb</th>\n",
       "      <th>Rcb</th>\n",
       "      <th>Rb</th>\n",
       "      <th>Original_Position</th>\n",
       "    </tr>\n",
       "  </thead>\n",
       "  <tbody>\n",
       "    <tr>\n",
       "      <th>4</th>\n",
       "      <td>201024</td>\n",
       "      <td>K. Koulibaly</td>\n",
       "      <td>27</td>\n",
       "      <td>187.96</td>\n",
       "      <td>88.9</td>\n",
       "      <td>DF</td>\n",
       "      <td>Senegal</td>\n",
       "      <td>88</td>\n",
       "      <td>91</td>\n",
       "      <td>60000000.0</td>\n",
       "      <td>...</td>\n",
       "      <td>77+3</td>\n",
       "      <td>77+3</td>\n",
       "      <td>77+3</td>\n",
       "      <td>73+3</td>\n",
       "      <td>76+3</td>\n",
       "      <td>85+3</td>\n",
       "      <td>85+3</td>\n",
       "      <td>85+3</td>\n",
       "      <td>76+3</td>\n",
       "      <td>CB</td>\n",
       "    </tr>\n",
       "    <tr>\n",
       "      <th>5</th>\n",
       "      <td>203376</td>\n",
       "      <td>V. van Dijk</td>\n",
       "      <td>27</td>\n",
       "      <td>193.04</td>\n",
       "      <td>92.1</td>\n",
       "      <td>DF</td>\n",
       "      <td>Netherlands</td>\n",
       "      <td>88</td>\n",
       "      <td>90</td>\n",
       "      <td>59500000.0</td>\n",
       "      <td>...</td>\n",
       "      <td>82+3</td>\n",
       "      <td>82+3</td>\n",
       "      <td>82+3</td>\n",
       "      <td>78+3</td>\n",
       "      <td>80+3</td>\n",
       "      <td>86+3</td>\n",
       "      <td>86+3</td>\n",
       "      <td>86+3</td>\n",
       "      <td>80+3</td>\n",
       "      <td>CB</td>\n",
       "    </tr>\n",
       "    <tr>\n",
       "      <th>6</th>\n",
       "      <td>231747</td>\n",
       "      <td>K. Mbappé</td>\n",
       "      <td>20</td>\n",
       "      <td>152.40</td>\n",
       "      <td>73.0</td>\n",
       "      <td>DF</td>\n",
       "      <td>France</td>\n",
       "      <td>88</td>\n",
       "      <td>95</td>\n",
       "      <td>81000000.0</td>\n",
       "      <td>...</td>\n",
       "      <td>62+3</td>\n",
       "      <td>62+3</td>\n",
       "      <td>62+3</td>\n",
       "      <td>66+3</td>\n",
       "      <td>62+3</td>\n",
       "      <td>54+3</td>\n",
       "      <td>54+3</td>\n",
       "      <td>54+3</td>\n",
       "      <td>62+3</td>\n",
       "      <td>RW,ST,RM</td>\n",
       "    </tr>\n",
       "    <tr>\n",
       "      <th>14</th>\n",
       "      <td>209331</td>\n",
       "      <td>M. Salah</td>\n",
       "      <td>26</td>\n",
       "      <td>175.26</td>\n",
       "      <td>71.2</td>\n",
       "      <td>DF</td>\n",
       "      <td>Egypt</td>\n",
       "      <td>89</td>\n",
       "      <td>90</td>\n",
       "      <td>78500000.0</td>\n",
       "      <td>...</td>\n",
       "      <td>66+3</td>\n",
       "      <td>66+3</td>\n",
       "      <td>66+3</td>\n",
       "      <td>70+3</td>\n",
       "      <td>66+3</td>\n",
       "      <td>57+3</td>\n",
       "      <td>57+3</td>\n",
       "      <td>57+3</td>\n",
       "      <td>66+3</td>\n",
       "      <td>RW,ST</td>\n",
       "    </tr>\n",
       "    <tr>\n",
       "      <th>16</th>\n",
       "      <td>232363</td>\n",
       "      <td>M. Škriniar</td>\n",
       "      <td>24</td>\n",
       "      <td>187.96</td>\n",
       "      <td>79.8</td>\n",
       "      <td>DF</td>\n",
       "      <td>Slovakia</td>\n",
       "      <td>86</td>\n",
       "      <td>93</td>\n",
       "      <td>53500000.0</td>\n",
       "      <td>...</td>\n",
       "      <td>79+2</td>\n",
       "      <td>79+2</td>\n",
       "      <td>79+2</td>\n",
       "      <td>74+2</td>\n",
       "      <td>77+2</td>\n",
       "      <td>84+2</td>\n",
       "      <td>84+2</td>\n",
       "      <td>84+2</td>\n",
       "      <td>77+2</td>\n",
       "      <td>CB</td>\n",
       "    </tr>\n",
       "  </tbody>\n",
       "</table>\n",
       "<p>5 rows × 76 columns</p>\n",
       "</div>"
      ],
      "text/plain": [
       "        Id          Name  Age  Height_Cm  Weight_Kgs Positions  Nationality  \\\n",
       "4   201024  K. Koulibaly   27     187.96        88.9        DF      Senegal   \n",
       "5   203376   V. van Dijk   27     193.04        92.1        DF  Netherlands   \n",
       "6   231747     K. Mbappé   20     152.40        73.0        DF       France   \n",
       "14  209331      M. Salah   26     175.26        71.2        DF        Egypt   \n",
       "16  232363   M. Škriniar   24     187.96        79.8        DF     Slovakia   \n",
       "\n",
       "    Overall_Rating  Potential  Value_Euro  ...   Ldm   Cdm   Rdm   Rwb    Lb  \\\n",
       "4               88         91  60000000.0  ...  77+3  77+3  77+3  73+3  76+3   \n",
       "5               88         90  59500000.0  ...  82+3  82+3  82+3  78+3  80+3   \n",
       "6               88         95  81000000.0  ...  62+3  62+3  62+3  66+3  62+3   \n",
       "14              89         90  78500000.0  ...  66+3  66+3  66+3  70+3  66+3   \n",
       "16              86         93  53500000.0  ...  79+2  79+2  79+2  74+2  77+2   \n",
       "\n",
       "     Lcb    Cb   Rcb    Rb  Original_Position  \n",
       "4   85+3  85+3  85+3  76+3                 CB  \n",
       "5   86+3  86+3  86+3  80+3                 CB  \n",
       "6   54+3  54+3  54+3  62+3           RW,ST,RM  \n",
       "14  57+3  57+3  57+3  66+3              RW,ST  \n",
       "16  84+2  84+2  84+2  77+2                 CB  \n",
       "\n",
       "[5 rows x 76 columns]"
      ]
     },
     "execution_count": 7,
     "metadata": {},
     "output_type": "execute_result"
    }
   ],
   "source": [
    "dfDF=df[df.Positions==\"DF\"]\n",
    "dfDF.head()"
   ]
  },
  {
   "cell_type": "code",
   "execution_count": 8,
   "id": "4084712c",
   "metadata": {},
   "outputs": [
    {
     "data": {
      "text/html": [
       "<div>\n",
       "<style scoped>\n",
       "    .dataframe tbody tr th:only-of-type {\n",
       "        vertical-align: middle;\n",
       "    }\n",
       "\n",
       "    .dataframe tbody tr th {\n",
       "        vertical-align: top;\n",
       "    }\n",
       "\n",
       "    .dataframe thead th {\n",
       "        text-align: right;\n",
       "    }\n",
       "</style>\n",
       "<table border=\"1\" class=\"dataframe\">\n",
       "  <thead>\n",
       "    <tr style=\"text-align: right;\">\n",
       "      <th></th>\n",
       "      <th>Id</th>\n",
       "      <th>Name</th>\n",
       "      <th>Age</th>\n",
       "      <th>Height_Cm</th>\n",
       "      <th>Weight_Kgs</th>\n",
       "      <th>Positions</th>\n",
       "      <th>Nationality</th>\n",
       "      <th>Overall_Rating</th>\n",
       "      <th>Potential</th>\n",
       "      <th>Value_Euro</th>\n",
       "      <th>...</th>\n",
       "      <th>Ldm</th>\n",
       "      <th>Cdm</th>\n",
       "      <th>Rdm</th>\n",
       "      <th>Rwb</th>\n",
       "      <th>Lb</th>\n",
       "      <th>Lcb</th>\n",
       "      <th>Cb</th>\n",
       "      <th>Rcb</th>\n",
       "      <th>Rb</th>\n",
       "      <th>Original_Position</th>\n",
       "    </tr>\n",
       "  </thead>\n",
       "  <tbody>\n",
       "    <tr>\n",
       "      <th>0</th>\n",
       "      <td>158023</td>\n",
       "      <td>L. Messi</td>\n",
       "      <td>31</td>\n",
       "      <td>170.18</td>\n",
       "      <td>72.1</td>\n",
       "      <td>FW</td>\n",
       "      <td>Argentina</td>\n",
       "      <td>94</td>\n",
       "      <td>94</td>\n",
       "      <td>110500000.0</td>\n",
       "      <td>...</td>\n",
       "      <td>61+2</td>\n",
       "      <td>61+2</td>\n",
       "      <td>61+2</td>\n",
       "      <td>64+2</td>\n",
       "      <td>59+2</td>\n",
       "      <td>48+2</td>\n",
       "      <td>48+2</td>\n",
       "      <td>48+2</td>\n",
       "      <td>59+2</td>\n",
       "      <td>CF,RW,ST</td>\n",
       "    </tr>\n",
       "    <tr>\n",
       "      <th>7</th>\n",
       "      <td>153079</td>\n",
       "      <td>S. Agüero</td>\n",
       "      <td>30</td>\n",
       "      <td>172.72</td>\n",
       "      <td>69.9</td>\n",
       "      <td>FW</td>\n",
       "      <td>Argentina</td>\n",
       "      <td>89</td>\n",
       "      <td>89</td>\n",
       "      <td>64500000.0</td>\n",
       "      <td>...</td>\n",
       "      <td>56+3</td>\n",
       "      <td>56+3</td>\n",
       "      <td>56+3</td>\n",
       "      <td>58+3</td>\n",
       "      <td>53+3</td>\n",
       "      <td>47+3</td>\n",
       "      <td>47+3</td>\n",
       "      <td>47+3</td>\n",
       "      <td>53+3</td>\n",
       "      <td>ST</td>\n",
       "    </tr>\n",
       "    <tr>\n",
       "      <th>9</th>\n",
       "      <td>179813</td>\n",
       "      <td>E. Cavani</td>\n",
       "      <td>32</td>\n",
       "      <td>185.42</td>\n",
       "      <td>77.1</td>\n",
       "      <td>FW</td>\n",
       "      <td>Uruguay</td>\n",
       "      <td>89</td>\n",
       "      <td>89</td>\n",
       "      <td>60000000.0</td>\n",
       "      <td>...</td>\n",
       "      <td>65+3</td>\n",
       "      <td>65+3</td>\n",
       "      <td>65+3</td>\n",
       "      <td>67+3</td>\n",
       "      <td>65+3</td>\n",
       "      <td>63+3</td>\n",
       "      <td>63+3</td>\n",
       "      <td>63+3</td>\n",
       "      <td>65+3</td>\n",
       "      <td>ST</td>\n",
       "    </tr>\n",
       "    <tr>\n",
       "      <th>13</th>\n",
       "      <td>194765</td>\n",
       "      <td>A. Griezmann</td>\n",
       "      <td>27</td>\n",
       "      <td>175.26</td>\n",
       "      <td>73.0</td>\n",
       "      <td>FW</td>\n",
       "      <td>France</td>\n",
       "      <td>89</td>\n",
       "      <td>90</td>\n",
       "      <td>78000000.0</td>\n",
       "      <td>...</td>\n",
       "      <td>70+3</td>\n",
       "      <td>70+3</td>\n",
       "      <td>70+3</td>\n",
       "      <td>72+3</td>\n",
       "      <td>70+3</td>\n",
       "      <td>65+3</td>\n",
       "      <td>65+3</td>\n",
       "      <td>65+3</td>\n",
       "      <td>70+3</td>\n",
       "      <td>CF,ST</td>\n",
       "    </tr>\n",
       "    <tr>\n",
       "      <th>18</th>\n",
       "      <td>167664</td>\n",
       "      <td>G. Higuaín</td>\n",
       "      <td>31</td>\n",
       "      <td>185.42</td>\n",
       "      <td>88.9</td>\n",
       "      <td>FW</td>\n",
       "      <td>Argentina</td>\n",
       "      <td>87</td>\n",
       "      <td>87</td>\n",
       "      <td>48500000.0</td>\n",
       "      <td>...</td>\n",
       "      <td>53+3</td>\n",
       "      <td>53+3</td>\n",
       "      <td>53+3</td>\n",
       "      <td>55+3</td>\n",
       "      <td>51+3</td>\n",
       "      <td>48+3</td>\n",
       "      <td>48+3</td>\n",
       "      <td>48+3</td>\n",
       "      <td>51+3</td>\n",
       "      <td>ST</td>\n",
       "    </tr>\n",
       "  </tbody>\n",
       "</table>\n",
       "<p>5 rows × 76 columns</p>\n",
       "</div>"
      ],
      "text/plain": [
       "        Id          Name  Age  Height_Cm  Weight_Kgs Positions Nationality  \\\n",
       "0   158023      L. Messi   31     170.18        72.1        FW   Argentina   \n",
       "7   153079     S. Agüero   30     172.72        69.9        FW   Argentina   \n",
       "9   179813     E. Cavani   32     185.42        77.1        FW     Uruguay   \n",
       "13  194765  A. Griezmann   27     175.26        73.0        FW      France   \n",
       "18  167664    G. Higuaín   31     185.42        88.9        FW   Argentina   \n",
       "\n",
       "    Overall_Rating  Potential   Value_Euro  ...   Ldm   Cdm   Rdm   Rwb    Lb  \\\n",
       "0               94         94  110500000.0  ...  61+2  61+2  61+2  64+2  59+2   \n",
       "7               89         89   64500000.0  ...  56+3  56+3  56+3  58+3  53+3   \n",
       "9               89         89   60000000.0  ...  65+3  65+3  65+3  67+3  65+3   \n",
       "13              89         90   78000000.0  ...  70+3  70+3  70+3  72+3  70+3   \n",
       "18              87         87   48500000.0  ...  53+3  53+3  53+3  55+3  51+3   \n",
       "\n",
       "     Lcb    Cb   Rcb    Rb  Original_Position  \n",
       "0   48+2  48+2  48+2  59+2           CF,RW,ST  \n",
       "7   47+3  47+3  47+3  53+3                 ST  \n",
       "9   63+3  63+3  63+3  65+3                 ST  \n",
       "13  65+3  65+3  65+3  70+3              CF,ST  \n",
       "18  48+3  48+3  48+3  51+3                 ST  \n",
       "\n",
       "[5 rows x 76 columns]"
      ]
     },
     "execution_count": 8,
     "metadata": {},
     "output_type": "execute_result"
    }
   ],
   "source": [
    "dfFW=df[df.Positions==\"FW\"]\n",
    "dfFW.head()"
   ]
  },
  {
   "cell_type": "code",
   "execution_count": 9,
   "id": "5457fb0b",
   "metadata": {},
   "outputs": [
    {
     "data": {
      "text/html": [
       "<div>\n",
       "<style scoped>\n",
       "    .dataframe tbody tr th:only-of-type {\n",
       "        vertical-align: middle;\n",
       "    }\n",
       "\n",
       "    .dataframe tbody tr th {\n",
       "        vertical-align: top;\n",
       "    }\n",
       "\n",
       "    .dataframe thead th {\n",
       "        text-align: right;\n",
       "    }\n",
       "</style>\n",
       "<table border=\"1\" class=\"dataframe\">\n",
       "  <thead>\n",
       "    <tr style=\"text-align: right;\">\n",
       "      <th></th>\n",
       "      <th>Id</th>\n",
       "      <th>Name</th>\n",
       "      <th>Age</th>\n",
       "      <th>Height_Cm</th>\n",
       "      <th>Weight_Kgs</th>\n",
       "      <th>Positions</th>\n",
       "      <th>Nationality</th>\n",
       "      <th>Overall_Rating</th>\n",
       "      <th>Potential</th>\n",
       "      <th>Value_Euro</th>\n",
       "      <th>...</th>\n",
       "      <th>Ldm</th>\n",
       "      <th>Cdm</th>\n",
       "      <th>Rdm</th>\n",
       "      <th>Rwb</th>\n",
       "      <th>Lb</th>\n",
       "      <th>Lcb</th>\n",
       "      <th>Cb</th>\n",
       "      <th>Rcb</th>\n",
       "      <th>Rb</th>\n",
       "      <th>Original_Position</th>\n",
       "    </tr>\n",
       "  </thead>\n",
       "  <tbody>\n",
       "    <tr>\n",
       "      <th>8</th>\n",
       "      <td>167495</td>\n",
       "      <td>M. Neuer</td>\n",
       "      <td>32</td>\n",
       "      <td>193.04</td>\n",
       "      <td>92.1</td>\n",
       "      <td>GK</td>\n",
       "      <td>Germany</td>\n",
       "      <td>89</td>\n",
       "      <td>89</td>\n",
       "      <td>38000000.0</td>\n",
       "      <td>...</td>\n",
       "      <td>NaN</td>\n",
       "      <td>NaN</td>\n",
       "      <td>NaN</td>\n",
       "      <td>NaN</td>\n",
       "      <td>NaN</td>\n",
       "      <td>NaN</td>\n",
       "      <td>NaN</td>\n",
       "      <td>NaN</td>\n",
       "      <td>NaN</td>\n",
       "      <td>GK</td>\n",
       "    </tr>\n",
       "    <tr>\n",
       "      <th>11</th>\n",
       "      <td>192119</td>\n",
       "      <td>T. Courtois</td>\n",
       "      <td>26</td>\n",
       "      <td>198.12</td>\n",
       "      <td>96.2</td>\n",
       "      <td>GK</td>\n",
       "      <td>Belgium</td>\n",
       "      <td>89</td>\n",
       "      <td>90</td>\n",
       "      <td>53500000.0</td>\n",
       "      <td>...</td>\n",
       "      <td>NaN</td>\n",
       "      <td>NaN</td>\n",
       "      <td>NaN</td>\n",
       "      <td>NaN</td>\n",
       "      <td>NaN</td>\n",
       "      <td>NaN</td>\n",
       "      <td>NaN</td>\n",
       "      <td>NaN</td>\n",
       "      <td>NaN</td>\n",
       "      <td>GK</td>\n",
       "    </tr>\n",
       "    <tr>\n",
       "      <th>12</th>\n",
       "      <td>192448</td>\n",
       "      <td>M. ter Stegen</td>\n",
       "      <td>26</td>\n",
       "      <td>187.96</td>\n",
       "      <td>84.8</td>\n",
       "      <td>GK</td>\n",
       "      <td>Germany</td>\n",
       "      <td>89</td>\n",
       "      <td>92</td>\n",
       "      <td>58000000.0</td>\n",
       "      <td>...</td>\n",
       "      <td>NaN</td>\n",
       "      <td>NaN</td>\n",
       "      <td>NaN</td>\n",
       "      <td>NaN</td>\n",
       "      <td>NaN</td>\n",
       "      <td>NaN</td>\n",
       "      <td>NaN</td>\n",
       "      <td>NaN</td>\n",
       "      <td>NaN</td>\n",
       "      <td>GK</td>\n",
       "    </tr>\n",
       "    <tr>\n",
       "      <th>27</th>\n",
       "      <td>193041</td>\n",
       "      <td>K. Navas</td>\n",
       "      <td>32</td>\n",
       "      <td>185.42</td>\n",
       "      <td>79.8</td>\n",
       "      <td>GK</td>\n",
       "      <td>Costa Rica</td>\n",
       "      <td>87</td>\n",
       "      <td>87</td>\n",
       "      <td>30500000.0</td>\n",
       "      <td>...</td>\n",
       "      <td>NaN</td>\n",
       "      <td>NaN</td>\n",
       "      <td>NaN</td>\n",
       "      <td>NaN</td>\n",
       "      <td>NaN</td>\n",
       "      <td>NaN</td>\n",
       "      <td>NaN</td>\n",
       "      <td>NaN</td>\n",
       "      <td>NaN</td>\n",
       "      <td>GK</td>\n",
       "    </tr>\n",
       "    <tr>\n",
       "      <th>32</th>\n",
       "      <td>206585</td>\n",
       "      <td>Kepa</td>\n",
       "      <td>24</td>\n",
       "      <td>185.42</td>\n",
       "      <td>84.8</td>\n",
       "      <td>GK</td>\n",
       "      <td>Spain</td>\n",
       "      <td>84</td>\n",
       "      <td>90</td>\n",
       "      <td>31000000.0</td>\n",
       "      <td>...</td>\n",
       "      <td>NaN</td>\n",
       "      <td>NaN</td>\n",
       "      <td>NaN</td>\n",
       "      <td>NaN</td>\n",
       "      <td>NaN</td>\n",
       "      <td>NaN</td>\n",
       "      <td>NaN</td>\n",
       "      <td>NaN</td>\n",
       "      <td>NaN</td>\n",
       "      <td>GK</td>\n",
       "    </tr>\n",
       "  </tbody>\n",
       "</table>\n",
       "<p>5 rows × 76 columns</p>\n",
       "</div>"
      ],
      "text/plain": [
       "        Id           Name  Age  Height_Cm  Weight_Kgs Positions Nationality  \\\n",
       "8   167495       M. Neuer   32     193.04        92.1        GK     Germany   \n",
       "11  192119    T. Courtois   26     198.12        96.2        GK     Belgium   \n",
       "12  192448  M. ter Stegen   26     187.96        84.8        GK     Germany   \n",
       "27  193041       K. Navas   32     185.42        79.8        GK  Costa Rica   \n",
       "32  206585           Kepa   24     185.42        84.8        GK       Spain   \n",
       "\n",
       "    Overall_Rating  Potential  Value_Euro  ...  Ldm  Cdm  Rdm  Rwb   Lb  Lcb  \\\n",
       "8               89         89  38000000.0  ...  NaN  NaN  NaN  NaN  NaN  NaN   \n",
       "11              89         90  53500000.0  ...  NaN  NaN  NaN  NaN  NaN  NaN   \n",
       "12              89         92  58000000.0  ...  NaN  NaN  NaN  NaN  NaN  NaN   \n",
       "27              87         87  30500000.0  ...  NaN  NaN  NaN  NaN  NaN  NaN   \n",
       "32              84         90  31000000.0  ...  NaN  NaN  NaN  NaN  NaN  NaN   \n",
       "\n",
       "     Cb  Rcb   Rb  Original_Position  \n",
       "8   NaN  NaN  NaN                 GK  \n",
       "11  NaN  NaN  NaN                 GK  \n",
       "12  NaN  NaN  NaN                 GK  \n",
       "27  NaN  NaN  NaN                 GK  \n",
       "32  NaN  NaN  NaN                 GK  \n",
       "\n",
       "[5 rows x 76 columns]"
      ]
     },
     "execution_count": 9,
     "metadata": {},
     "output_type": "execute_result"
    }
   ],
   "source": [
    "dfGK=df[df.Positions==\"GK\"]\n",
    "dfGK.head()"
   ]
  },
  {
   "cell_type": "code",
   "execution_count": 10,
   "id": "d4c01eaa",
   "metadata": {},
   "outputs": [
    {
     "data": {
      "text/html": [
       "<div>\n",
       "<style scoped>\n",
       "    .dataframe tbody tr th:only-of-type {\n",
       "        vertical-align: middle;\n",
       "    }\n",
       "\n",
       "    .dataframe tbody tr th {\n",
       "        vertical-align: top;\n",
       "    }\n",
       "\n",
       "    .dataframe thead th {\n",
       "        text-align: right;\n",
       "    }\n",
       "</style>\n",
       "<table border=\"1\" class=\"dataframe\">\n",
       "  <thead>\n",
       "    <tr style=\"text-align: right;\">\n",
       "      <th></th>\n",
       "      <th>Id</th>\n",
       "      <th>Name</th>\n",
       "      <th>Age</th>\n",
       "      <th>Height_Cm</th>\n",
       "      <th>Weight_Kgs</th>\n",
       "      <th>Positions</th>\n",
       "      <th>Nationality</th>\n",
       "      <th>Overall_Rating</th>\n",
       "      <th>Potential</th>\n",
       "      <th>Value_Euro</th>\n",
       "      <th>...</th>\n",
       "      <th>Ldm</th>\n",
       "      <th>Cdm</th>\n",
       "      <th>Rdm</th>\n",
       "      <th>Rwb</th>\n",
       "      <th>Lb</th>\n",
       "      <th>Lcb</th>\n",
       "      <th>Cb</th>\n",
       "      <th>Rcb</th>\n",
       "      <th>Rb</th>\n",
       "      <th>Original_Position</th>\n",
       "    </tr>\n",
       "  </thead>\n",
       "  <tbody>\n",
       "    <tr>\n",
       "      <th>1</th>\n",
       "      <td>190460</td>\n",
       "      <td>C. Eriksen</td>\n",
       "      <td>27</td>\n",
       "      <td>154.94</td>\n",
       "      <td>76.2</td>\n",
       "      <td>MF</td>\n",
       "      <td>Denmark</td>\n",
       "      <td>88</td>\n",
       "      <td>89</td>\n",
       "      <td>69500000.0</td>\n",
       "      <td>...</td>\n",
       "      <td>71+3</td>\n",
       "      <td>71+3</td>\n",
       "      <td>71+3</td>\n",
       "      <td>71+3</td>\n",
       "      <td>66+3</td>\n",
       "      <td>57+3</td>\n",
       "      <td>57+3</td>\n",
       "      <td>57+3</td>\n",
       "      <td>66+3</td>\n",
       "      <td>CAM,RM,CM</td>\n",
       "    </tr>\n",
       "    <tr>\n",
       "      <th>2</th>\n",
       "      <td>195864</td>\n",
       "      <td>P. Pogba</td>\n",
       "      <td>25</td>\n",
       "      <td>190.50</td>\n",
       "      <td>83.9</td>\n",
       "      <td>MF</td>\n",
       "      <td>France</td>\n",
       "      <td>88</td>\n",
       "      <td>91</td>\n",
       "      <td>73000000.0</td>\n",
       "      <td>...</td>\n",
       "      <td>77+3</td>\n",
       "      <td>77+3</td>\n",
       "      <td>77+3</td>\n",
       "      <td>76+3</td>\n",
       "      <td>74+3</td>\n",
       "      <td>72+3</td>\n",
       "      <td>72+3</td>\n",
       "      <td>72+3</td>\n",
       "      <td>74+3</td>\n",
       "      <td>CM,CAM</td>\n",
       "    </tr>\n",
       "    <tr>\n",
       "      <th>3</th>\n",
       "      <td>198219</td>\n",
       "      <td>L. Insigne</td>\n",
       "      <td>27</td>\n",
       "      <td>162.56</td>\n",
       "      <td>59.0</td>\n",
       "      <td>MF</td>\n",
       "      <td>Italy</td>\n",
       "      <td>88</td>\n",
       "      <td>88</td>\n",
       "      <td>62000000.0</td>\n",
       "      <td>...</td>\n",
       "      <td>58+3</td>\n",
       "      <td>58+3</td>\n",
       "      <td>58+3</td>\n",
       "      <td>63+3</td>\n",
       "      <td>58+3</td>\n",
       "      <td>44+3</td>\n",
       "      <td>44+3</td>\n",
       "      <td>44+3</td>\n",
       "      <td>58+3</td>\n",
       "      <td>LW,ST</td>\n",
       "    </tr>\n",
       "    <tr>\n",
       "      <th>10</th>\n",
       "      <td>189511</td>\n",
       "      <td>Sergio Busquets</td>\n",
       "      <td>30</td>\n",
       "      <td>187.96</td>\n",
       "      <td>76.2</td>\n",
       "      <td>MF</td>\n",
       "      <td>Spain</td>\n",
       "      <td>89</td>\n",
       "      <td>89</td>\n",
       "      <td>51500000.0</td>\n",
       "      <td>...</td>\n",
       "      <td>86+3</td>\n",
       "      <td>86+3</td>\n",
       "      <td>86+3</td>\n",
       "      <td>79+3</td>\n",
       "      <td>78+3</td>\n",
       "      <td>82+3</td>\n",
       "      <td>82+3</td>\n",
       "      <td>82+3</td>\n",
       "      <td>78+3</td>\n",
       "      <td>CDM,CM</td>\n",
       "    </tr>\n",
       "    <tr>\n",
       "      <th>15</th>\n",
       "      <td>211110</td>\n",
       "      <td>P. Dybala</td>\n",
       "      <td>25</td>\n",
       "      <td>152.40</td>\n",
       "      <td>74.8</td>\n",
       "      <td>MF</td>\n",
       "      <td>Argentina</td>\n",
       "      <td>89</td>\n",
       "      <td>94</td>\n",
       "      <td>89000000.0</td>\n",
       "      <td>...</td>\n",
       "      <td>58+3</td>\n",
       "      <td>58+3</td>\n",
       "      <td>58+3</td>\n",
       "      <td>62+3</td>\n",
       "      <td>56+3</td>\n",
       "      <td>45+3</td>\n",
       "      <td>45+3</td>\n",
       "      <td>45+3</td>\n",
       "      <td>56+3</td>\n",
       "      <td>CAM,RW</td>\n",
       "    </tr>\n",
       "  </tbody>\n",
       "</table>\n",
       "<p>5 rows × 76 columns</p>\n",
       "</div>"
      ],
      "text/plain": [
       "        Id             Name  Age  Height_Cm  Weight_Kgs Positions Nationality  \\\n",
       "1   190460       C. Eriksen   27     154.94        76.2        MF     Denmark   \n",
       "2   195864         P. Pogba   25     190.50        83.9        MF      France   \n",
       "3   198219       L. Insigne   27     162.56        59.0        MF       Italy   \n",
       "10  189511  Sergio Busquets   30     187.96        76.2        MF       Spain   \n",
       "15  211110        P. Dybala   25     152.40        74.8        MF   Argentina   \n",
       "\n",
       "    Overall_Rating  Potential  Value_Euro  ...   Ldm   Cdm   Rdm   Rwb    Lb  \\\n",
       "1               88         89  69500000.0  ...  71+3  71+3  71+3  71+3  66+3   \n",
       "2               88         91  73000000.0  ...  77+3  77+3  77+3  76+3  74+3   \n",
       "3               88         88  62000000.0  ...  58+3  58+3  58+3  63+3  58+3   \n",
       "10              89         89  51500000.0  ...  86+3  86+3  86+3  79+3  78+3   \n",
       "15              89         94  89000000.0  ...  58+3  58+3  58+3  62+3  56+3   \n",
       "\n",
       "     Lcb    Cb   Rcb    Rb  Original_Position  \n",
       "1   57+3  57+3  57+3  66+3          CAM,RM,CM  \n",
       "2   72+3  72+3  72+3  74+3             CM,CAM  \n",
       "3   44+3  44+3  44+3  58+3              LW,ST  \n",
       "10  82+3  82+3  82+3  78+3             CDM,CM  \n",
       "15  45+3  45+3  45+3  56+3             CAM,RW  \n",
       "\n",
       "[5 rows x 76 columns]"
      ]
     },
     "execution_count": 10,
     "metadata": {},
     "output_type": "execute_result"
    }
   ],
   "source": [
    "dfMF=df[df.Positions==\"MF\"]\n",
    "dfMF.head()"
   ]
  },
  {
   "cell_type": "code",
   "execution_count": 11,
   "id": "062b0a72",
   "metadata": {},
   "outputs": [
    {
     "data": {
      "text/html": [
       "<div>\n",
       "<style scoped>\n",
       "    .dataframe tbody tr th:only-of-type {\n",
       "        vertical-align: middle;\n",
       "    }\n",
       "\n",
       "    .dataframe tbody tr th {\n",
       "        vertical-align: top;\n",
       "    }\n",
       "\n",
       "    .dataframe thead th {\n",
       "        text-align: right;\n",
       "    }\n",
       "</style>\n",
       "<table border=\"1\" class=\"dataframe\">\n",
       "  <thead>\n",
       "    <tr style=\"text-align: right;\">\n",
       "      <th></th>\n",
       "      <th>Overall_Rating</th>\n",
       "      <th>International_Reputation_1_5</th>\n",
       "      <th>Skill_Moves_1_5</th>\n",
       "      <th>Value_Euro</th>\n",
       "    </tr>\n",
       "  </thead>\n",
       "  <tbody>\n",
       "    <tr>\n",
       "      <th>0</th>\n",
       "      <td>94</td>\n",
       "      <td>5</td>\n",
       "      <td>4</td>\n",
       "      <td>110500000.0</td>\n",
       "    </tr>\n",
       "    <tr>\n",
       "      <th>1</th>\n",
       "      <td>88</td>\n",
       "      <td>3</td>\n",
       "      <td>4</td>\n",
       "      <td>69500000.0</td>\n",
       "    </tr>\n",
       "    <tr>\n",
       "      <th>2</th>\n",
       "      <td>88</td>\n",
       "      <td>4</td>\n",
       "      <td>5</td>\n",
       "      <td>73000000.0</td>\n",
       "    </tr>\n",
       "    <tr>\n",
       "      <th>3</th>\n",
       "      <td>88</td>\n",
       "      <td>3</td>\n",
       "      <td>4</td>\n",
       "      <td>62000000.0</td>\n",
       "    </tr>\n",
       "    <tr>\n",
       "      <th>4</th>\n",
       "      <td>88</td>\n",
       "      <td>3</td>\n",
       "      <td>2</td>\n",
       "      <td>60000000.0</td>\n",
       "    </tr>\n",
       "  </tbody>\n",
       "</table>\n",
       "</div>"
      ],
      "text/plain": [
       "   Overall_Rating  International_Reputation_1_5  Skill_Moves_1_5   Value_Euro\n",
       "0              94                             5                4  110500000.0\n",
       "1              88                             3                4   69500000.0\n",
       "2              88                             4                5   73000000.0\n",
       "3              88                             3                4   62000000.0\n",
       "4              88                             3                2   60000000.0"
      ]
     },
     "execution_count": 11,
     "metadata": {},
     "output_type": "execute_result"
    }
   ],
   "source": [
    "dfrating=df.filter([\"Overall_Rating\",\"International_Reputation_1_5\",\"Skill_Moves_1_5\",\"Value_Euro\"],axis=1)\n",
    "dfrating.head()"
   ]
  },
  {
   "cell_type": "code",
   "execution_count": 12,
   "id": "662bf794",
   "metadata": {},
   "outputs": [
    {
     "name": "stdout",
     "output_type": "stream",
     "text": [
      "(17954, 4)\n",
      "(17954, 30)\n",
      "(6107, 76)\n",
      "(2604, 76)\n",
      "(7178, 76)\n",
      "(2065, 76)\n",
      "(17954, 4)\n"
     ]
    }
   ],
   "source": [
    "print(dfdemo.shape)\n",
    "print(dfskills.shape)\n",
    "print(dfDF.shape)\n",
    "print(dfFW.shape)\n",
    "print(dfMF.shape)\n",
    "print(dfGK.shape)\n",
    "print(dfrating.shape)"
   ]
  },
  {
   "cell_type": "markdown",
   "id": "fb4921cd",
   "metadata": {},
   "source": [
    "# Skills Model\n"
   ]
  },
  {
   "cell_type": "code",
   "execution_count": 13,
   "id": "24226794",
   "metadata": {},
   "outputs": [
    {
     "data": {
      "text/plain": [
       "Crossing               0\n",
       "Finishing              0\n",
       "Heading_Accuracy       0\n",
       "Short_Passing          0\n",
       "Volleys                0\n",
       "Dribbling              0\n",
       "Curve                  0\n",
       "Freekick_Accuracy      0\n",
       "Long_Passing           0\n",
       "Ball_Control           0\n",
       "Acceleration           0\n",
       "Sprint_Speed           0\n",
       "Agility                0\n",
       "Reactions              0\n",
       "Balance                0\n",
       "Shot_Power             0\n",
       "Jumping                0\n",
       "Stamina                0\n",
       "Strength               0\n",
       "Long_Shots             0\n",
       "Aggression             0\n",
       "Interceptions          0\n",
       "Positioning            0\n",
       "Vision                 0\n",
       "Penalties              0\n",
       "Composure              0\n",
       "Marking                0\n",
       "Standing_Tackle        0\n",
       "Sliding_Tackle         0\n",
       "Value_Euro           255\n",
       "dtype: int64"
      ]
     },
     "execution_count": 13,
     "metadata": {},
     "output_type": "execute_result"
    }
   ],
   "source": [
    "dfskills.isnull().sum()"
   ]
  },
  {
   "cell_type": "code",
   "execution_count": 14,
   "id": "3e544d3b",
   "metadata": {},
   "outputs": [],
   "source": [
    "NoNull=dfskills.dropna()"
   ]
  },
  {
   "cell_type": "code",
   "execution_count": 15,
   "id": "3d8da16a",
   "metadata": {},
   "outputs": [],
   "source": [
    "# y variable/ target variable \n",
    "y= NoNull.Value_Euro"
   ]
  },
  {
   "cell_type": "code",
   "execution_count": 16,
   "id": "908be2b9",
   "metadata": {},
   "outputs": [],
   "source": [
    "x=NoNull.drop(columns=\"Value_Euro\").values"
   ]
  },
  {
   "cell_type": "code",
   "execution_count": 17,
   "id": "eee32988",
   "metadata": {},
   "outputs": [
    {
     "data": {
      "text/plain": [
       "(17699, 29)"
      ]
     },
     "execution_count": 17,
     "metadata": {},
     "output_type": "execute_result"
    }
   ],
   "source": [
    "x.shape"
   ]
  },
  {
   "cell_type": "code",
   "execution_count": 18,
   "id": "5ba5215b",
   "metadata": {},
   "outputs": [
    {
     "data": {
      "text/plain": [
       "(17699,)"
      ]
     },
     "execution_count": 18,
     "metadata": {},
     "output_type": "execute_result"
    }
   ],
   "source": [
    "y.shape"
   ]
  },
  {
   "cell_type": "code",
   "execution_count": 19,
   "id": "dbee903d",
   "metadata": {},
   "outputs": [],
   "source": [
    "#y = y.values.reshape(-1,1)"
   ]
  },
  {
   "cell_type": "code",
   "execution_count": 20,
   "id": "f7d1eadc",
   "metadata": {},
   "outputs": [
    {
     "data": {
      "text/plain": [
       "(11799, 29)"
      ]
     },
     "execution_count": 20,
     "metadata": {},
     "output_type": "execute_result"
    }
   ],
   "source": [
    "# split into training and testing sets \n",
    "from sklearn.model_selection import train_test_split \n",
    "\n",
    "x_train, x_test, y_train, y_test = train_test_split(x, y, test_size=1/3, random_state=0)\n",
    "\n",
    "x_train.shape\n",
    "# remember had to remove stratisfy because of small data size "
   ]
  },
  {
   "cell_type": "code",
   "execution_count": 21,
   "id": "e4a967fe",
   "metadata": {},
   "outputs": [],
   "source": [
    "model =LinearRegression()"
   ]
  },
  {
   "cell_type": "code",
   "execution_count": 22,
   "id": "c804fb17",
   "metadata": {},
   "outputs": [],
   "source": [
    "#fit the model- this needed to be a variable \n",
    "c = model.fit(x_train, y_train)"
   ]
  },
  {
   "cell_type": "code",
   "execution_count": 23,
   "id": "e50ad513",
   "metadata": {},
   "outputs": [
    {
     "name": "stdout",
     "output_type": "stream",
     "text": [
      "[ 3042921.55051463  6838244.83261156 -3522085.08513407 ...\n",
      "  3328969.51219276 -4149888.68121517  6304268.39812916]\n"
     ]
    }
   ],
   "source": [
    "# Use model to predict on Test Data \n",
    "y_pred=c.predict(x_test)\n",
    "print(y_pred)"
   ]
  },
  {
   "cell_type": "code",
   "execution_count": 24,
   "id": "d94ae981",
   "metadata": {},
   "outputs": [
    {
     "name": "stdout",
     "output_type": "stream",
     "text": [
      "0.3396281113676335\n"
     ]
    }
   ],
   "source": [
    "from sklearn.metrics import r2_score\n",
    "print(r2_score(y_test, y_pred))"
   ]
  },
  {
   "cell_type": "code",
   "execution_count": 25,
   "id": "773a5637",
   "metadata": {},
   "outputs": [],
   "source": [
    "y_pred_train= c.predict(x_train)\n",
    "#this will show one score for testing and one score for testing- training is high because we are using it to traint the model"
   ]
  },
  {
   "cell_type": "code",
   "execution_count": 26,
   "id": "d3a438aa",
   "metadata": {},
   "outputs": [
    {
     "name": "stdout",
     "output_type": "stream",
     "text": [
      "0.33496837607995433\n"
     ]
    }
   ],
   "source": [
    "print(r2_score(y_train, y_pred_train))\n",
    "#should expect to have higher than .33..."
   ]
  },
  {
   "cell_type": "code",
   "execution_count": 27,
   "id": "ff1e4792",
   "metadata": {},
   "outputs": [
    {
     "data": {
      "text/plain": [
       "Text(0, 0.5, 'Predicted')"
      ]
     },
     "execution_count": 27,
     "metadata": {},
     "output_type": "execute_result"
    },
    {
     "data": {
      "image/png": "[encoded data removed]",
      "text/plain": [
       "<Figure size 432x288 with 1 Axes>"
      ]
     },
     "metadata": {
      "needs_background": "light"
     },
     "output_type": "display_data"
    }
   ],
   "source": [
    "# plot the results- actual vs predicted \n",
    "plt.scatter(y_test, y_pred)\n",
    "plt.xlabel('Actual')\n",
    "plt.ylabel('Predicted')"
   ]
  },
  {
   "cell_type": "markdown",
   "id": "c0cc3188",
   "metadata": {},
   "source": [
    "# Demographic Model"
   ]
  },
  {
   "cell_type": "code",
   "execution_count": null,
   "id": "ab2e7997",
   "metadata": {},
   "outputs": [],
   "source": [
    "dfdemo.isnull().sum()"
   ]
  },
  {
   "cell_type": "code",
   "execution_count": null,
   "id": "1ddedf35",
   "metadata": {},
   "outputs": [],
   "source": [
    "NoNullDemo=dfdemo.dropna()"
   ]
  },
  {
   "cell_type": "code",
   "execution_count": null,
   "id": "313a2b9c",
   "metadata": {},
   "outputs": [],
   "source": [
    "# y variable/ target variable \n",
    "y= NoNullDemo.Value_Euro"
   ]
  },
  {
   "cell_type": "code",
   "execution_count": null,
   "id": "737f9dee",
   "metadata": {},
   "outputs": [],
   "source": [
    "x=NoNullDemo.drop(columns=\"Value_Euro\").values"
   ]
  },
  {
   "cell_type": "code",
   "execution_count": null,
   "id": "feaa809f",
   "metadata": {},
   "outputs": [],
   "source": [
    "x.shape"
   ]
  },
  {
   "cell_type": "code",
   "execution_count": null,
   "id": "2e6276aa",
   "metadata": {},
   "outputs": [],
   "source": [
    "y.shape"
   ]
  },
  {
   "cell_type": "code",
   "execution_count": null,
   "id": "91e5190d",
   "metadata": {},
   "outputs": [],
   "source": [
    "# split into training and testing sets \n",
    "from sklearn.model_selection import train_test_split \n",
    "\n",
    "x_train, x_test, y_train, y_test = train_test_split(x, y, test_size=1/3, random_state=0)\n",
    "\n",
    "x_train.shape\n",
    "# remember had to remove stratisfy because of small data size"
   ]
  },
  {
   "cell_type": "code",
   "execution_count": null,
   "id": "36cee1cf",
   "metadata": {},
   "outputs": [],
   "source": [
    "model =LinearRegression()"
   ]
  },
  {
   "cell_type": "code",
   "execution_count": null,
   "id": "c2c64831",
   "metadata": {},
   "outputs": [],
   "source": [
    "#fit the model- this needed to be a variable \n",
    "c = model.fit(x_train, y_train)"
   ]
  },
  {
   "cell_type": "code",
   "execution_count": null,
   "id": "70134052",
   "metadata": {},
   "outputs": [],
   "source": [
    "# Use model to predict on Test Data \n",
    "y_pred=c.predict(x_test)\n",
    "print(y_pred)"
   ]
  },
  {
   "cell_type": "code",
   "execution_count": null,
   "id": "c64f7b5a",
   "metadata": {},
   "outputs": [],
   "source": [
    "from sklearn.metrics import r2_score\n",
    "print(r2_score(y_test, y_pred))"
   ]
  },
  {
   "cell_type": "code",
   "execution_count": null,
   "id": "8569f766",
   "metadata": {},
   "outputs": [],
   "source": [
    "# plot the results- actual vs predicted \n",
    "plt.scatter(y_test, y_pred)\n",
    "plt.xlabel('Actual')\n",
    "plt.ylabel('Predicted')"
   ]
  },
  {
   "cell_type": "markdown",
   "id": "8edb2d9f",
   "metadata": {},
   "source": [
    "# Ratings Model"
   ]
  },
  {
   "cell_type": "code",
   "execution_count": null,
   "id": "70283977",
   "metadata": {},
   "outputs": [],
   "source": [
    "dfrating.isnull().sum()"
   ]
  },
  {
   "cell_type": "code",
   "execution_count": null,
   "id": "1943d242",
   "metadata": {},
   "outputs": [],
   "source": [
    "NoNullRating=dfrating.dropna()"
   ]
  },
  {
   "cell_type": "code",
   "execution_count": null,
   "id": "e6ad8776",
   "metadata": {},
   "outputs": [],
   "source": [
    "# y variable/ target variable \n",
    "y= NoNullRating.Value_Euro"
   ]
  },
  {
   "cell_type": "code",
   "execution_count": null,
   "id": "73cd5598",
   "metadata": {},
   "outputs": [],
   "source": [
    "x=NoNullRating.drop(columns=\"Value_Euro\").values"
   ]
  },
  {
   "cell_type": "code",
   "execution_count": null,
   "id": "4310596f",
   "metadata": {},
   "outputs": [],
   "source": [
    "x.shape"
   ]
  },
  {
   "cell_type": "code",
   "execution_count": null,
   "id": "bf52771e",
   "metadata": {},
   "outputs": [],
   "source": [
    "y.shape"
   ]
  },
  {
   "cell_type": "code",
   "execution_count": null,
   "id": "887c0691",
   "metadata": {},
   "outputs": [],
   "source": [
    "# split into training and testing sets \n",
    "from sklearn.model_selection import train_test_split \n",
    "\n",
    "x_train, x_test, y_train, y_test = train_test_split(x, y, test_size=1/3, random_state=0)\n",
    "\n",
    "x_train.shape\n",
    "# remember had to remove stratisfy because of small data size"
   ]
  },
  {
   "cell_type": "code",
   "execution_count": null,
   "id": "a7c0ab3f",
   "metadata": {},
   "outputs": [],
   "source": [
    "model =LinearRegression()"
   ]
  },
  {
   "cell_type": "code",
   "execution_count": null,
   "id": "93b86a23",
   "metadata": {},
   "outputs": [],
   "source": [
    "#fit the model- this needed to be a variable \n",
    "c = model.fit(x_train, y_train)"
   ]
  },
  {
   "cell_type": "code",
   "execution_count": null,
   "id": "5492b25b",
   "metadata": {},
   "outputs": [],
   "source": [
    "# Use model to predict on Test Data \n",
    "y_pred=c.predict(x_test)\n",
    "print(y_pred)"
   ]
  },
  {
   "cell_type": "code",
   "execution_count": null,
   "id": "046fbe61",
   "metadata": {},
   "outputs": [],
   "source": [
    "from sklearn.metrics import r2_score\n",
    "print(r2_score(y_test, y_pred))"
   ]
  },
  {
   "cell_type": "code",
   "execution_count": null,
   "id": "1c25e299",
   "metadata": {},
   "outputs": [],
   "source": [
    "# plot the results- actual vs predicted \n",
    "plt.scatter(y_test, y_pred)\n",
    "plt.xlabel('Actual')\n",
    "plt.ylabel('Predicted')"
   ]
  },
  {
   "cell_type": "markdown",
   "id": "ac900359",
   "metadata": {},
   "source": [
    "# Goal Keeping Model"
   ]
  },
  {
   "cell_type": "code",
   "execution_count": null,
   "id": "9073e7b8",
   "metadata": {},
   "outputs": [],
   "source": [
    "# drop addition columns and strings (names, club and national teams, nationality, work rate)\n",
    "dfGK.drop(['Ls','St','Rs','Lw','Lf','Cf','Rf','Rw','Lam','Cam','Ram','Lm','Lcm','Cm','Rcm','Rm','Lwb','Ldm','Cdm','Rdm','Rwb','Lb','Lcb','Cb','Rcb','Rb','National_Team','Club_Team','Name','Nationality','Work_Rate','Original_Position','Positions'], axis=1, inplace=True)\n",
    "dfGK.head()"
   ]
  },
  {
   "cell_type": "code",
   "execution_count": null,
   "id": "9028a6d3",
   "metadata": {},
   "outputs": [],
   "source": [
    "dfGK.isnull().sum()"
   ]
  },
  {
   "cell_type": "code",
   "execution_count": null,
   "id": "330848ac",
   "metadata": {},
   "outputs": [],
   "source": [
    "NoNullgoal=dfGK.dropna()"
   ]
  },
  {
   "cell_type": "code",
   "execution_count": null,
   "id": "54b1bcb3",
   "metadata": {},
   "outputs": [],
   "source": [
    "x=NoNullgoal.drop(columns=\"Value_Euro\").values"
   ]
  },
  {
   "cell_type": "code",
   "execution_count": null,
   "id": "bb128001",
   "metadata": {},
   "outputs": [],
   "source": [
    "# y variable/ target variable \n",
    "y= NoNullgoal.Value_Euro"
   ]
  },
  {
   "cell_type": "code",
   "execution_count": null,
   "id": "cb088d64",
   "metadata": {},
   "outputs": [],
   "source": [
    "x.shape"
   ]
  },
  {
   "cell_type": "code",
   "execution_count": null,
   "id": "b5a9b972",
   "metadata": {},
   "outputs": [],
   "source": [
    "y.shape"
   ]
  },
  {
   "cell_type": "code",
   "execution_count": null,
   "id": "67174e1f",
   "metadata": {},
   "outputs": [],
   "source": [
    "y = y.values.reshape(-1,1)"
   ]
  },
  {
   "cell_type": "code",
   "execution_count": null,
   "id": "f190220b",
   "metadata": {},
   "outputs": [],
   "source": [
    "# split into training and testing sets \n",
    "from sklearn.model_selection import train_test_split \n",
    "\n",
    "x_train, x_test, y_train, y_test = train_test_split(x, y, test_size=1/3, random_state=0)\n",
    "\n",
    "x_train.shape\n",
    "# remember had to remove stratisfy because of small data size"
   ]
  },
  {
   "cell_type": "code",
   "execution_count": null,
   "id": "f4e5f9b8",
   "metadata": {},
   "outputs": [],
   "source": [
    "model =LinearRegression()"
   ]
  },
  {
   "cell_type": "code",
   "execution_count": null,
   "id": "975304ba",
   "metadata": {},
   "outputs": [],
   "source": [
    "#fit the model- this needed to be a variable \n",
    "c = model.fit(x_train, y_train)"
   ]
  },
  {
   "cell_type": "code",
   "execution_count": null,
   "id": "88efadff",
   "metadata": {},
   "outputs": [],
   "source": [
    "# Use model to predict on Test Data \n",
    "y_pred=c.predict(x_test)\n",
    "print(y_pred)"
   ]
  },
  {
   "cell_type": "code",
   "execution_count": null,
   "id": "b3abbbbd",
   "metadata": {},
   "outputs": [],
   "source": [
    "from sklearn.metrics import r2_score\n",
    "print(r2_score(y_test, y_pred))"
   ]
  },
  {
   "cell_type": "code",
   "execution_count": null,
   "id": "93abf083",
   "metadata": {},
   "outputs": [],
   "source": [
    "# plot the results- actual vs predicted \n",
    "plt.scatter(y_test, y_pred)\n",
    "plt.xlabel('Actual')\n",
    "plt.ylabel('Predicted')"
   ]
  },
  {
   "cell_type": "markdown",
   "id": "659e7ca2",
   "metadata": {},
   "source": [
    "# Defence Model"
   ]
  },
  {
   "cell_type": "code",
   "execution_count": null,
   "id": "5109b20a",
   "metadata": {},
   "outputs": [],
   "source": [
    "# drop addition columns and strings (names, club and national teams, nationality, work rate)\n",
    "dfDF.drop(['Ls','St','Rs','Lw','Lf','Cf','Rf','Rw','Lam','Cam','Ram','Lm','Lcm','Cm','Rcm','Rm','Lwb','Ldm','Cdm','Rdm','Rwb','Lb','Lcb','Cb','Rcb','Rb','National_Team','Club_Team','Name','Nationality','Work_Rate','Original_Position','Positions'], axis=1, inplace=True)\n",
    "dfDF.head()"
   ]
  },
  {
   "cell_type": "code",
   "execution_count": null,
   "id": "f321e36f",
   "metadata": {},
   "outputs": [],
   "source": [
    "dfDF.isnull().sum()"
   ]
  },
  {
   "cell_type": "code",
   "execution_count": null,
   "id": "defc3ff9",
   "metadata": {},
   "outputs": [],
   "source": [
    "NoNulldef=dfDF.dropna()"
   ]
  },
  {
   "cell_type": "code",
   "execution_count": null,
   "id": "d9424b19",
   "metadata": {},
   "outputs": [],
   "source": [
    "x=NoNulldef.drop(columns=\"Value_Euro\").values"
   ]
  },
  {
   "cell_type": "code",
   "execution_count": null,
   "id": "e430a2b1",
   "metadata": {},
   "outputs": [],
   "source": [
    "# y variable/ target variable \n",
    "y= NoNulldef.Value_Euro"
   ]
  },
  {
   "cell_type": "code",
   "execution_count": null,
   "id": "b0c51b02",
   "metadata": {},
   "outputs": [],
   "source": [
    "x.shape"
   ]
  },
  {
   "cell_type": "code",
   "execution_count": null,
   "id": "abc58c4c",
   "metadata": {},
   "outputs": [],
   "source": [
    "y.shape"
   ]
  },
  {
   "cell_type": "code",
   "execution_count": null,
   "id": "e98f6117",
   "metadata": {},
   "outputs": [],
   "source": [
    "y = y.values.reshape(-1,1)"
   ]
  },
  {
   "cell_type": "code",
   "execution_count": null,
   "id": "a60f031d",
   "metadata": {},
   "outputs": [],
   "source": [
    "# split into training and testing sets \n",
    "from sklearn.model_selection import train_test_split \n",
    "\n",
    "x_train, x_test, y_train, y_test = train_test_split(x, y, test_size=1/3, random_state=0)\n",
    "\n",
    "x_train.shape\n",
    "# remember had to remove stratisfy because of small data size"
   ]
  },
  {
   "cell_type": "code",
   "execution_count": null,
   "id": "ffdbd5c5",
   "metadata": {},
   "outputs": [],
   "source": [
    "model =LinearRegression()"
   ]
  },
  {
   "cell_type": "code",
   "execution_count": null,
   "id": "fc8ae950",
   "metadata": {},
   "outputs": [],
   "source": [
    "#fit the model- this needed to be a variable \n",
    "c = model.fit(x_train, y_train)"
   ]
  },
  {
   "cell_type": "code",
   "execution_count": null,
   "id": "87fdcc69",
   "metadata": {},
   "outputs": [],
   "source": [
    "# Use model to predict on Test Data \n",
    "y_pred=c.predict(x_test)\n",
    "print(y_pred)"
   ]
  },
  {
   "cell_type": "code",
   "execution_count": null,
   "id": "9e51810b",
   "metadata": {},
   "outputs": [],
   "source": [
    "from sklearn.metrics import r2_score\n",
    "print(r2_score(y_test, y_pred))"
   ]
  },
  {
   "cell_type": "code",
   "execution_count": null,
   "id": "6228b10d",
   "metadata": {},
   "outputs": [],
   "source": [
    "# plot the results- actual vs predicted \n",
    "plt.scatter(y_test, y_pred)\n",
    "plt.xlabel('Actual')\n",
    "plt.ylabel('Predicted')"
   ]
  },
  {
   "cell_type": "markdown",
   "id": "b6f2d32b",
   "metadata": {},
   "source": [
    "# Midfeild Model "
   ]
  },
  {
   "cell_type": "code",
   "execution_count": null,
   "id": "61ad7fc1",
   "metadata": {},
   "outputs": [],
   "source": [
    "# drop addition columns and strings (names, club and national teams, nationality, work rate)\n",
    "dfMF.drop(['Ls','St','Rs','Lw','Lf','Cf','Rf','Rw','Lam','Cam','Ram','Lm','Lcm','Cm','Rcm','Rm','Lwb','Ldm','Cdm','Rdm','Rwb','Lb','Lcb','Cb','Rcb','Rb','National_Team','Club_Team','Name','Nationality','Work_Rate','Original_Position','Positions'], axis=1, inplace=True)\n",
    "dfMF.head()"
   ]
  },
  {
   "cell_type": "code",
   "execution_count": null,
   "id": "414d1ee1",
   "metadata": {},
   "outputs": [],
   "source": [
    "dfMF.isnull().sum()"
   ]
  },
  {
   "cell_type": "code",
   "execution_count": null,
   "id": "8a1966b1",
   "metadata": {},
   "outputs": [],
   "source": [
    "NoNullmid=dfMF.dropna()"
   ]
  },
  {
   "cell_type": "code",
   "execution_count": null,
   "id": "b77038a9",
   "metadata": {},
   "outputs": [],
   "source": [
    "x=NoNullmid.drop(columns=\"Value_Euro\").values"
   ]
  },
  {
   "cell_type": "code",
   "execution_count": null,
   "id": "40f1a806",
   "metadata": {},
   "outputs": [],
   "source": [
    "# y variable/ target variable \n",
    "y= NoNullmid.Value_Euro"
   ]
  },
  {
   "cell_type": "code",
   "execution_count": null,
   "id": "4d67a217",
   "metadata": {},
   "outputs": [],
   "source": [
    "x.shape"
   ]
  },
  {
   "cell_type": "code",
   "execution_count": null,
   "id": "3d860272",
   "metadata": {},
   "outputs": [],
   "source": [
    "y.shape"
   ]
  },
  {
   "cell_type": "code",
   "execution_count": null,
   "id": "7e3724e2",
   "metadata": {},
   "outputs": [],
   "source": [
    "y = y.values.reshape(-1,1)"
   ]
  },
  {
   "cell_type": "code",
   "execution_count": null,
   "id": "e3e6e9f4",
   "metadata": {},
   "outputs": [],
   "source": [
    "# split into training and testing sets \n",
    "from sklearn.model_selection import train_test_split \n",
    "\n",
    "x_train, x_test, y_train, y_test = train_test_split(x, y, test_size=1/3, random_state=0)\n",
    "\n",
    "x_train.shape\n",
    "# remember had to remove stratisfy because of small data size"
   ]
  },
  {
   "cell_type": "code",
   "execution_count": null,
   "id": "49f5f691",
   "metadata": {},
   "outputs": [],
   "source": [
    "model =LinearRegression()"
   ]
  },
  {
   "cell_type": "code",
   "execution_count": null,
   "id": "20680581",
   "metadata": {},
   "outputs": [],
   "source": [
    "#fit the model- this needed to be a variable \n",
    "c = model.fit(x_train, y_train)"
   ]
  },
  {
   "cell_type": "code",
   "execution_count": null,
   "id": "3d23fd89",
   "metadata": {},
   "outputs": [],
   "source": [
    "# Use model to predict on Test Data \n",
    "y_pred=c.predict(x_test)\n",
    "print(y_pred)"
   ]
  },
  {
   "cell_type": "code",
   "execution_count": null,
   "id": "1c90a3d9",
   "metadata": {},
   "outputs": [],
   "source": [
    "from sklearn.metrics import r2_score\n",
    "print(r2_score(y_test, y_pred))"
   ]
  },
  {
   "cell_type": "code",
   "execution_count": null,
   "id": "85ebc433",
   "metadata": {},
   "outputs": [],
   "source": [
    "# plot the results- actual vs predicted \n",
    "plt.scatter(y_test, y_pred)\n",
    "plt.xlabel('Actual')\n",
    "plt.ylabel('Predicted')"
   ]
  },
  {
   "cell_type": "markdown",
   "id": "280ddd69",
   "metadata": {},
   "source": [
    "# Forwards Model "
   ]
  },
  {
   "cell_type": "code",
   "execution_count": null,
   "id": "b04f6e38",
   "metadata": {},
   "outputs": [],
   "source": [
    "# drop addition columns and strings (names, club and national teams, nationality, work rate)\n",
    "dfFW.drop(['Ls','St','Rs','Lw','Lf','Cf','Rf','Rw','Lam','Cam','Ram','Lm','Lcm','Cm','Rcm','Rm','Lwb','Ldm','Cdm','Rdm','Rwb','Lb','Lcb','Cb','Rcb','Rb','National_Team','Club_Team','Name','Nationality','Work_Rate','Original_Position','Positions'], axis=1, inplace=True)\n",
    "dfFW.head()"
   ]
  },
  {
   "cell_type": "code",
   "execution_count": null,
   "id": "bb885bcd",
   "metadata": {},
   "outputs": [],
   "source": [
    "dfFW.isnull().sum()"
   ]
  },
  {
   "cell_type": "code",
   "execution_count": null,
   "id": "2d3c3b37",
   "metadata": {},
   "outputs": [],
   "source": [
    "NoNullforward=dfFW.dropna()"
   ]
  },
  {
   "cell_type": "code",
   "execution_count": null,
   "id": "5e2a9fcb",
   "metadata": {},
   "outputs": [],
   "source": [
    "x=NoNullforward.drop(columns=\"Value_Euro\").values"
   ]
  },
  {
   "cell_type": "code",
   "execution_count": null,
   "id": "3e707a38",
   "metadata": {},
   "outputs": [],
   "source": [
    "# y variable/ target variable \n",
    "y= NoNullforward.Value_Euro"
   ]
  },
  {
   "cell_type": "code",
   "execution_count": null,
   "id": "cb75ac93",
   "metadata": {},
   "outputs": [],
   "source": [
    "x.shape"
   ]
  },
  {
   "cell_type": "code",
   "execution_count": null,
   "id": "eff06ea8",
   "metadata": {},
   "outputs": [],
   "source": [
    "y.shape"
   ]
  },
  {
   "cell_type": "code",
   "execution_count": null,
   "id": "a48d8345",
   "metadata": {},
   "outputs": [],
   "source": [
    "y = y.values.reshape(-1,1)"
   ]
  },
  {
   "cell_type": "code",
   "execution_count": null,
   "id": "927d677a",
   "metadata": {},
   "outputs": [],
   "source": [
    "# split into training and testing sets \n",
    "from sklearn.model_selection import train_test_split \n",
    "\n",
    "x_train, x_test, y_train, y_test = train_test_split(x, y, test_size=1/3, random_state=0)\n",
    "\n",
    "x_train.shape\n",
    "# remember had to remove stratisfy because of small data size"
   ]
  },
  {
   "cell_type": "code",
   "execution_count": null,
   "id": "68b9d1dc",
   "metadata": {},
   "outputs": [],
   "source": [
    "model =LinearRegression()"
   ]
  },
  {
   "cell_type": "code",
   "execution_count": null,
   "id": "06b456aa",
   "metadata": {},
   "outputs": [],
   "source": [
    "#fit the model- this needed to be a variable \n",
    "c = model.fit(x_train, y_train)"
   ]
  },
  {
   "cell_type": "code",
   "execution_count": null,
   "id": "f9c9436b",
   "metadata": {},
   "outputs": [],
   "source": [
    "# Use model to predict on Test Data \n",
    "y_pred=c.predict(x_test)\n",
    "print(y_pred)"
   ]
  },
  {
   "cell_type": "code",
   "execution_count": null,
   "id": "fc3c5374",
   "metadata": {},
   "outputs": [],
   "source": [
    "from sklearn.metrics import r2_score\n",
    "print(r2_score(y_test, y_pred))"
   ]
  },
  {
   "cell_type": "code",
   "execution_count": null,
   "id": "6547a8f9",
   "metadata": {},
   "outputs": [],
   "source": [
    "# plot the results- actual vs predicted \n",
    "plt.scatter(y_test, y_pred)\n",
    "plt.xlabel('Actual')\n",
    "plt.ylabel('Predicted')"
   ]
  },
  {
   "cell_type": "code",
   "execution_count": null,
   "id": "e2c3e736",
   "metadata": {},
   "outputs": [],
   "source": []
  },
  {
   "cell_type": "code",
   "execution_count": null,
   "id": "c498f575",
   "metadata": {},
   "outputs": [],
   "source": []
  }
 ],
 "metadata": {
  "kernelspec": {
   "display_name": "mlenv",
   "language": "python",
   "name": "mlenv"
  },
  "language_info": {
   "codemirror_mode": {
    "name": "ipython",
    "version": 3
   },
   "file_extension": ".py",
   "mimetype": "text/x-python",
   "name": "python",
   "nbconvert_exporter": "python",
   "pygments_lexer": "ipython3",
   "version": "3.7.11"
  }
 },
 "nbformat": 4,
 "nbformat_minor": 5
}
