{
 "cells": [
  {
   "cell_type": "code",
   "execution_count": 199,
   "id": "67e7cec3",
   "metadata": {},
   "outputs": [],
   "source": [
    "# import libraries \n",
    "import pandas as pd\n",
    "import numpy as np\n",
    "from pathlib import Path\n",
    "import matplotlib.pyplot as plt\n",
    "from sklearn.linear_model import LinearRegression"
   ]
  },
  {
   "cell_type": "code",
   "execution_count": 200,
   "id": "c66d7375",
   "metadata": {},
   "outputs": [],
   "source": [
    "import numpy as np\n",
    "import matplotlib.pyplot as plt \n",
    "from matplotlib.colors import ListedColormap \n",
    "import pandas as pd \n",
    "from sklearn.model_selection import train_test_split \n",
    "from sklearn.preprocessing import StandardScaler\n",
    "from sklearn.metrics import accuracy_score\n",
    "from sklearn.linear_model import LogisticRegression"
   ]
  },
  {
   "cell_type": "code",
   "execution_count": 162,
   "id": "48078085",
   "metadata": {},
   "outputs": [
    {
     "data": {
      "text/html": [
       "<div>\n",
       "<style scoped>\n",
       "    .dataframe tbody tr th:only-of-type {\n",
       "        vertical-align: middle;\n",
       "    }\n",
       "\n",
       "    .dataframe tbody tr th {\n",
       "        vertical-align: top;\n",
       "    }\n",
       "\n",
       "    .dataframe thead th {\n",
       "        text-align: right;\n",
       "    }\n",
       "</style>\n",
       "<table border=\"1\" class=\"dataframe\">\n",
       "  <thead>\n",
       "    <tr style=\"text-align: right;\">\n",
       "      <th></th>\n",
       "      <th>Unnamed: 0</th>\n",
       "      <th>Name</th>\n",
       "      <th>Age</th>\n",
       "      <th>Height_Cm</th>\n",
       "      <th>Weight_Kgs</th>\n",
       "      <th>Positions</th>\n",
       "      <th>Nationality</th>\n",
       "      <th>Overall_Rating</th>\n",
       "      <th>Potential</th>\n",
       "      <th>Value_Euro</th>\n",
       "      <th>...</th>\n",
       "      <th>Ldm</th>\n",
       "      <th>Cdm</th>\n",
       "      <th>Rdm</th>\n",
       "      <th>Rwb</th>\n",
       "      <th>Lb</th>\n",
       "      <th>Lcb</th>\n",
       "      <th>Cb</th>\n",
       "      <th>Rcb</th>\n",
       "      <th>Rb</th>\n",
       "      <th>Original_Position</th>\n",
       "    </tr>\n",
       "    <tr>\n",
       "      <th>Id</th>\n",
       "      <th></th>\n",
       "      <th></th>\n",
       "      <th></th>\n",
       "      <th></th>\n",
       "      <th></th>\n",
       "      <th></th>\n",
       "      <th></th>\n",
       "      <th></th>\n",
       "      <th></th>\n",
       "      <th></th>\n",
       "      <th></th>\n",
       "      <th></th>\n",
       "      <th></th>\n",
       "      <th></th>\n",
       "      <th></th>\n",
       "      <th></th>\n",
       "      <th></th>\n",
       "      <th></th>\n",
       "      <th></th>\n",
       "      <th></th>\n",
       "      <th></th>\n",
       "    </tr>\n",
       "  </thead>\n",
       "  <tbody>\n",
       "    <tr>\n",
       "      <th>158023</th>\n",
       "      <td>0</td>\n",
       "      <td>L. Messi</td>\n",
       "      <td>31</td>\n",
       "      <td>170.18</td>\n",
       "      <td>72.1</td>\n",
       "      <td>FW</td>\n",
       "      <td>Argentina</td>\n",
       "      <td>94</td>\n",
       "      <td>94</td>\n",
       "      <td>110500000.0</td>\n",
       "      <td>...</td>\n",
       "      <td>61+2</td>\n",
       "      <td>61+2</td>\n",
       "      <td>61+2</td>\n",
       "      <td>64+2</td>\n",
       "      <td>59+2</td>\n",
       "      <td>48+2</td>\n",
       "      <td>48+2</td>\n",
       "      <td>48+2</td>\n",
       "      <td>59+2</td>\n",
       "      <td>CF,RW,ST</td>\n",
       "    </tr>\n",
       "    <tr>\n",
       "      <th>190460</th>\n",
       "      <td>1</td>\n",
       "      <td>C. Eriksen</td>\n",
       "      <td>27</td>\n",
       "      <td>154.94</td>\n",
       "      <td>76.2</td>\n",
       "      <td>MF</td>\n",
       "      <td>Denmark</td>\n",
       "      <td>88</td>\n",
       "      <td>89</td>\n",
       "      <td>69500000.0</td>\n",
       "      <td>...</td>\n",
       "      <td>71+3</td>\n",
       "      <td>71+3</td>\n",
       "      <td>71+3</td>\n",
       "      <td>71+3</td>\n",
       "      <td>66+3</td>\n",
       "      <td>57+3</td>\n",
       "      <td>57+3</td>\n",
       "      <td>57+3</td>\n",
       "      <td>66+3</td>\n",
       "      <td>CAM,RM,CM</td>\n",
       "    </tr>\n",
       "    <tr>\n",
       "      <th>195864</th>\n",
       "      <td>2</td>\n",
       "      <td>P. Pogba</td>\n",
       "      <td>25</td>\n",
       "      <td>190.50</td>\n",
       "      <td>83.9</td>\n",
       "      <td>MF</td>\n",
       "      <td>France</td>\n",
       "      <td>88</td>\n",
       "      <td>91</td>\n",
       "      <td>73000000.0</td>\n",
       "      <td>...</td>\n",
       "      <td>77+3</td>\n",
       "      <td>77+3</td>\n",
       "      <td>77+3</td>\n",
       "      <td>76+3</td>\n",
       "      <td>74+3</td>\n",
       "      <td>72+3</td>\n",
       "      <td>72+3</td>\n",
       "      <td>72+3</td>\n",
       "      <td>74+3</td>\n",
       "      <td>CM,CAM</td>\n",
       "    </tr>\n",
       "    <tr>\n",
       "      <th>198219</th>\n",
       "      <td>3</td>\n",
       "      <td>L. Insigne</td>\n",
       "      <td>27</td>\n",
       "      <td>162.56</td>\n",
       "      <td>59.0</td>\n",
       "      <td>MF</td>\n",
       "      <td>Italy</td>\n",
       "      <td>88</td>\n",
       "      <td>88</td>\n",
       "      <td>62000000.0</td>\n",
       "      <td>...</td>\n",
       "      <td>58+3</td>\n",
       "      <td>58+3</td>\n",
       "      <td>58+3</td>\n",
       "      <td>63+3</td>\n",
       "      <td>58+3</td>\n",
       "      <td>44+3</td>\n",
       "      <td>44+3</td>\n",
       "      <td>44+3</td>\n",
       "      <td>58+3</td>\n",
       "      <td>LW,ST</td>\n",
       "    </tr>\n",
       "    <tr>\n",
       "      <th>201024</th>\n",
       "      <td>4</td>\n",
       "      <td>K. Koulibaly</td>\n",
       "      <td>27</td>\n",
       "      <td>187.96</td>\n",
       "      <td>88.9</td>\n",
       "      <td>DF</td>\n",
       "      <td>Senegal</td>\n",
       "      <td>88</td>\n",
       "      <td>91</td>\n",
       "      <td>60000000.0</td>\n",
       "      <td>...</td>\n",
       "      <td>77+3</td>\n",
       "      <td>77+3</td>\n",
       "      <td>77+3</td>\n",
       "      <td>73+3</td>\n",
       "      <td>76+3</td>\n",
       "      <td>85+3</td>\n",
       "      <td>85+3</td>\n",
       "      <td>85+3</td>\n",
       "      <td>76+3</td>\n",
       "      <td>CB</td>\n",
       "    </tr>\n",
       "  </tbody>\n",
       "</table>\n",
       "<p>5 rows × 76 columns</p>\n",
       "</div>"
      ],
      "text/plain": [
       "        Unnamed: 0          Name  Age  Height_Cm  Weight_Kgs Positions  \\\n",
       "Id                                                                       \n",
       "158023           0      L. Messi   31     170.18        72.1        FW   \n",
       "190460           1    C. Eriksen   27     154.94        76.2        MF   \n",
       "195864           2      P. Pogba   25     190.50        83.9        MF   \n",
       "198219           3    L. Insigne   27     162.56        59.0        MF   \n",
       "201024           4  K. Koulibaly   27     187.96        88.9        DF   \n",
       "\n",
       "       Nationality  Overall_Rating  Potential   Value_Euro  ...   Ldm   Cdm  \\\n",
       "Id                                                          ...               \n",
       "158023   Argentina              94         94  110500000.0  ...  61+2  61+2   \n",
       "190460     Denmark              88         89   69500000.0  ...  71+3  71+3   \n",
       "195864      France              88         91   73000000.0  ...  77+3  77+3   \n",
       "198219       Italy              88         88   62000000.0  ...  58+3  58+3   \n",
       "201024     Senegal              88         91   60000000.0  ...  77+3  77+3   \n",
       "\n",
       "         Rdm   Rwb    Lb   Lcb    Cb   Rcb    Rb  Original_Position  \n",
       "Id                                                                   \n",
       "158023  61+2  64+2  59+2  48+2  48+2  48+2  59+2           CF,RW,ST  \n",
       "190460  71+3  71+3  66+3  57+3  57+3  57+3  66+3          CAM,RM,CM  \n",
       "195864  77+3  76+3  74+3  72+3  72+3  72+3  74+3             CM,CAM  \n",
       "198219  58+3  63+3  58+3  44+3  44+3  44+3  58+3              LW,ST  \n",
       "201024  77+3  73+3  76+3  85+3  85+3  85+3  76+3                 CB  \n",
       "\n",
       "[5 rows x 76 columns]"
      ]
     },
     "execution_count": 162,
     "metadata": {},
     "output_type": "execute_result"
    }
   ],
   "source": [
    "#read in the CSV as a dataframe \n",
    "df = pd.read_csv('modified_fifa_data.csv', index_col = 1)\n",
    "df.head()"
   ]
  },
  {
   "cell_type": "code",
   "execution_count": 163,
   "id": "7f7bfb67",
   "metadata": {},
   "outputs": [
    {
     "data": {
      "text/html": [
       "<div>\n",
       "<style scoped>\n",
       "    .dataframe tbody tr th:only-of-type {\n",
       "        vertical-align: middle;\n",
       "    }\n",
       "\n",
       "    .dataframe tbody tr th {\n",
       "        vertical-align: top;\n",
       "    }\n",
       "\n",
       "    .dataframe thead th {\n",
       "        text-align: right;\n",
       "    }\n",
       "</style>\n",
       "<table border=\"1\" class=\"dataframe\">\n",
       "  <thead>\n",
       "    <tr style=\"text-align: right;\">\n",
       "      <th></th>\n",
       "      <th>Name</th>\n",
       "      <th>Age</th>\n",
       "      <th>Height_Cm</th>\n",
       "      <th>Weight_Kgs</th>\n",
       "      <th>Positions</th>\n",
       "      <th>Nationality</th>\n",
       "      <th>Overall_Rating</th>\n",
       "      <th>Potential</th>\n",
       "      <th>Value_Euro</th>\n",
       "      <th>International_Reputation_1_5</th>\n",
       "      <th>...</th>\n",
       "      <th>Ldm</th>\n",
       "      <th>Cdm</th>\n",
       "      <th>Rdm</th>\n",
       "      <th>Rwb</th>\n",
       "      <th>Lb</th>\n",
       "      <th>Lcb</th>\n",
       "      <th>Cb</th>\n",
       "      <th>Rcb</th>\n",
       "      <th>Rb</th>\n",
       "      <th>Original_Position</th>\n",
       "    </tr>\n",
       "    <tr>\n",
       "      <th>Id</th>\n",
       "      <th></th>\n",
       "      <th></th>\n",
       "      <th></th>\n",
       "      <th></th>\n",
       "      <th></th>\n",
       "      <th></th>\n",
       "      <th></th>\n",
       "      <th></th>\n",
       "      <th></th>\n",
       "      <th></th>\n",
       "      <th></th>\n",
       "      <th></th>\n",
       "      <th></th>\n",
       "      <th></th>\n",
       "      <th></th>\n",
       "      <th></th>\n",
       "      <th></th>\n",
       "      <th></th>\n",
       "      <th></th>\n",
       "      <th></th>\n",
       "      <th></th>\n",
       "    </tr>\n",
       "  </thead>\n",
       "  <tbody>\n",
       "    <tr>\n",
       "      <th>158023</th>\n",
       "      <td>L. Messi</td>\n",
       "      <td>31</td>\n",
       "      <td>170.18</td>\n",
       "      <td>72.1</td>\n",
       "      <td>FW</td>\n",
       "      <td>Argentina</td>\n",
       "      <td>94</td>\n",
       "      <td>94</td>\n",
       "      <td>110500000.0</td>\n",
       "      <td>5</td>\n",
       "      <td>...</td>\n",
       "      <td>61+2</td>\n",
       "      <td>61+2</td>\n",
       "      <td>61+2</td>\n",
       "      <td>64+2</td>\n",
       "      <td>59+2</td>\n",
       "      <td>48+2</td>\n",
       "      <td>48+2</td>\n",
       "      <td>48+2</td>\n",
       "      <td>59+2</td>\n",
       "      <td>CF,RW,ST</td>\n",
       "    </tr>\n",
       "    <tr>\n",
       "      <th>190460</th>\n",
       "      <td>C. Eriksen</td>\n",
       "      <td>27</td>\n",
       "      <td>154.94</td>\n",
       "      <td>76.2</td>\n",
       "      <td>MF</td>\n",
       "      <td>Denmark</td>\n",
       "      <td>88</td>\n",
       "      <td>89</td>\n",
       "      <td>69500000.0</td>\n",
       "      <td>3</td>\n",
       "      <td>...</td>\n",
       "      <td>71+3</td>\n",
       "      <td>71+3</td>\n",
       "      <td>71+3</td>\n",
       "      <td>71+3</td>\n",
       "      <td>66+3</td>\n",
       "      <td>57+3</td>\n",
       "      <td>57+3</td>\n",
       "      <td>57+3</td>\n",
       "      <td>66+3</td>\n",
       "      <td>CAM,RM,CM</td>\n",
       "    </tr>\n",
       "    <tr>\n",
       "      <th>195864</th>\n",
       "      <td>P. Pogba</td>\n",
       "      <td>25</td>\n",
       "      <td>190.50</td>\n",
       "      <td>83.9</td>\n",
       "      <td>MF</td>\n",
       "      <td>France</td>\n",
       "      <td>88</td>\n",
       "      <td>91</td>\n",
       "      <td>73000000.0</td>\n",
       "      <td>4</td>\n",
       "      <td>...</td>\n",
       "      <td>77+3</td>\n",
       "      <td>77+3</td>\n",
       "      <td>77+3</td>\n",
       "      <td>76+3</td>\n",
       "      <td>74+3</td>\n",
       "      <td>72+3</td>\n",
       "      <td>72+3</td>\n",
       "      <td>72+3</td>\n",
       "      <td>74+3</td>\n",
       "      <td>CM,CAM</td>\n",
       "    </tr>\n",
       "    <tr>\n",
       "      <th>198219</th>\n",
       "      <td>L. Insigne</td>\n",
       "      <td>27</td>\n",
       "      <td>162.56</td>\n",
       "      <td>59.0</td>\n",
       "      <td>MF</td>\n",
       "      <td>Italy</td>\n",
       "      <td>88</td>\n",
       "      <td>88</td>\n",
       "      <td>62000000.0</td>\n",
       "      <td>3</td>\n",
       "      <td>...</td>\n",
       "      <td>58+3</td>\n",
       "      <td>58+3</td>\n",
       "      <td>58+3</td>\n",
       "      <td>63+3</td>\n",
       "      <td>58+3</td>\n",
       "      <td>44+3</td>\n",
       "      <td>44+3</td>\n",
       "      <td>44+3</td>\n",
       "      <td>58+3</td>\n",
       "      <td>LW,ST</td>\n",
       "    </tr>\n",
       "    <tr>\n",
       "      <th>201024</th>\n",
       "      <td>K. Koulibaly</td>\n",
       "      <td>27</td>\n",
       "      <td>187.96</td>\n",
       "      <td>88.9</td>\n",
       "      <td>DF</td>\n",
       "      <td>Senegal</td>\n",
       "      <td>88</td>\n",
       "      <td>91</td>\n",
       "      <td>60000000.0</td>\n",
       "      <td>3</td>\n",
       "      <td>...</td>\n",
       "      <td>77+3</td>\n",
       "      <td>77+3</td>\n",
       "      <td>77+3</td>\n",
       "      <td>73+3</td>\n",
       "      <td>76+3</td>\n",
       "      <td>85+3</td>\n",
       "      <td>85+3</td>\n",
       "      <td>85+3</td>\n",
       "      <td>76+3</td>\n",
       "      <td>CB</td>\n",
       "    </tr>\n",
       "  </tbody>\n",
       "</table>\n",
       "<p>5 rows × 75 columns</p>\n",
       "</div>"
      ],
      "text/plain": [
       "                Name  Age  Height_Cm  Weight_Kgs Positions Nationality  \\\n",
       "Id                                                                       \n",
       "158023      L. Messi   31     170.18        72.1        FW   Argentina   \n",
       "190460    C. Eriksen   27     154.94        76.2        MF     Denmark   \n",
       "195864      P. Pogba   25     190.50        83.9        MF      France   \n",
       "198219    L. Insigne   27     162.56        59.0        MF       Italy   \n",
       "201024  K. Koulibaly   27     187.96        88.9        DF     Senegal   \n",
       "\n",
       "        Overall_Rating  Potential   Value_Euro  International_Reputation_1_5  \\\n",
       "Id                                                                             \n",
       "158023              94         94  110500000.0                             5   \n",
       "190460              88         89   69500000.0                             3   \n",
       "195864              88         91   73000000.0                             4   \n",
       "198219              88         88   62000000.0                             3   \n",
       "201024              88         91   60000000.0                             3   \n",
       "\n",
       "        ...   Ldm   Cdm   Rdm   Rwb    Lb   Lcb    Cb   Rcb    Rb  \\\n",
       "Id      ...                                                         \n",
       "158023  ...  61+2  61+2  61+2  64+2  59+2  48+2  48+2  48+2  59+2   \n",
       "190460  ...  71+3  71+3  71+3  71+3  66+3  57+3  57+3  57+3  66+3   \n",
       "195864  ...  77+3  77+3  77+3  76+3  74+3  72+3  72+3  72+3  74+3   \n",
       "198219  ...  58+3  58+3  58+3  63+3  58+3  44+3  44+3  44+3  58+3   \n",
       "201024  ...  77+3  77+3  77+3  73+3  76+3  85+3  85+3  85+3  76+3   \n",
       "\n",
       "        Original_Position  \n",
       "Id                         \n",
       "158023           CF,RW,ST  \n",
       "190460          CAM,RM,CM  \n",
       "195864             CM,CAM  \n",
       "198219              LW,ST  \n",
       "201024                 CB  \n",
       "\n",
       "[5 rows x 75 columns]"
      ]
     },
     "execution_count": 163,
     "metadata": {},
     "output_type": "execute_result"
    }
   ],
   "source": [
    "df.drop(\"Unnamed: 0\",axis=1, inplace=True)\n",
    "df.head()"
   ]
  },
  {
   "cell_type": "code",
   "execution_count": 164,
   "id": "e9b39339",
   "metadata": {},
   "outputs": [
    {
     "data": {
      "text/plain": [
       "(17954, 75)"
      ]
     },
     "execution_count": 164,
     "metadata": {},
     "output_type": "execute_result"
    }
   ],
   "source": [
    "df.shape\n"
   ]
  },
  {
   "cell_type": "code",
   "execution_count": 165,
   "id": "28cddb35",
   "metadata": {},
   "outputs": [
    {
     "data": {
      "text/plain": [
       "Id\n",
       "158023          L. Messi\n",
       "190460        C. Eriksen\n",
       "195864          P. Pogba\n",
       "198219        L. Insigne\n",
       "201024      K. Koulibaly\n",
       "               ...      \n",
       "204322       R. McKenzie\n",
       "239762         M. Sipľak\n",
       "235155        J. Bekkema\n",
       "244883        A. Al Yami\n",
       "247187    Júnior Brumado\n",
       "Name: Name, Length: 17954, dtype: object"
      ]
     },
     "execution_count": 165,
     "metadata": {},
     "output_type": "execute_result"
    }
   ],
   "source": [
    "name_df = df['Name']\n",
    "name_df"
   ]
  },
  {
   "cell_type": "code",
   "execution_count": 166,
   "id": "2c4ca18e",
   "metadata": {},
   "outputs": [
    {
     "data": {
      "text/plain": [
       "Id\n",
       "158023       Argentina\n",
       "190460         Denmark\n",
       "195864          France\n",
       "198219           Italy\n",
       "201024         Senegal\n",
       "              ...     \n",
       "204322        Scotland\n",
       "239762        Slovakia\n",
       "235155     Netherlands\n",
       "244883    Saudi Arabia\n",
       "247187          Brazil\n",
       "Name: Nationality, Length: 17954, dtype: object"
      ]
     },
     "execution_count": 166,
     "metadata": {},
     "output_type": "execute_result"
    }
   ],
   "source": [
    "nat_df = df['Nationality']\n",
    "nat_df"
   ]
  },
  {
   "cell_type": "code",
   "execution_count": 167,
   "id": "c718232e",
   "metadata": {
    "scrolled": true
   },
   "outputs": [
    {
     "data": {
      "text/html": [
       "<div>\n",
       "<style scoped>\n",
       "    .dataframe tbody tr th:only-of-type {\n",
       "        vertical-align: middle;\n",
       "    }\n",
       "\n",
       "    .dataframe tbody tr th {\n",
       "        vertical-align: top;\n",
       "    }\n",
       "\n",
       "    .dataframe thead th {\n",
       "        text-align: right;\n",
       "    }\n",
       "</style>\n",
       "<table border=\"1\" class=\"dataframe\">\n",
       "  <thead>\n",
       "    <tr style=\"text-align: right;\">\n",
       "      <th></th>\n",
       "      <th>Age</th>\n",
       "      <th>Height_Cm</th>\n",
       "      <th>Weight_Kgs</th>\n",
       "      <th>Value_Euro</th>\n",
       "    </tr>\n",
       "    <tr>\n",
       "      <th>Id</th>\n",
       "      <th></th>\n",
       "      <th></th>\n",
       "      <th></th>\n",
       "      <th></th>\n",
       "    </tr>\n",
       "  </thead>\n",
       "  <tbody>\n",
       "    <tr>\n",
       "      <th>158023</th>\n",
       "      <td>31</td>\n",
       "      <td>170.18</td>\n",
       "      <td>72.1</td>\n",
       "      <td>110500000.0</td>\n",
       "    </tr>\n",
       "    <tr>\n",
       "      <th>190460</th>\n",
       "      <td>27</td>\n",
       "      <td>154.94</td>\n",
       "      <td>76.2</td>\n",
       "      <td>69500000.0</td>\n",
       "    </tr>\n",
       "    <tr>\n",
       "      <th>195864</th>\n",
       "      <td>25</td>\n",
       "      <td>190.50</td>\n",
       "      <td>83.9</td>\n",
       "      <td>73000000.0</td>\n",
       "    </tr>\n",
       "    <tr>\n",
       "      <th>198219</th>\n",
       "      <td>27</td>\n",
       "      <td>162.56</td>\n",
       "      <td>59.0</td>\n",
       "      <td>62000000.0</td>\n",
       "    </tr>\n",
       "    <tr>\n",
       "      <th>201024</th>\n",
       "      <td>27</td>\n",
       "      <td>187.96</td>\n",
       "      <td>88.9</td>\n",
       "      <td>60000000.0</td>\n",
       "    </tr>\n",
       "    <tr>\n",
       "      <th>...</th>\n",
       "      <td>...</td>\n",
       "      <td>...</td>\n",
       "      <td>...</td>\n",
       "      <td>...</td>\n",
       "    </tr>\n",
       "    <tr>\n",
       "      <th>204322</th>\n",
       "      <td>25</td>\n",
       "      <td>175.26</td>\n",
       "      <td>74.8</td>\n",
       "      <td>975000.0</td>\n",
       "    </tr>\n",
       "    <tr>\n",
       "      <th>239762</th>\n",
       "      <td>23</td>\n",
       "      <td>182.88</td>\n",
       "      <td>79.8</td>\n",
       "      <td>190000.0</td>\n",
       "    </tr>\n",
       "    <tr>\n",
       "      <th>235155</th>\n",
       "      <td>22</td>\n",
       "      <td>185.42</td>\n",
       "      <td>89.8</td>\n",
       "      <td>170000.0</td>\n",
       "    </tr>\n",
       "    <tr>\n",
       "      <th>244883</th>\n",
       "      <td>21</td>\n",
       "      <td>175.26</td>\n",
       "      <td>64.9</td>\n",
       "      <td>280000.0</td>\n",
       "    </tr>\n",
       "    <tr>\n",
       "      <th>247187</th>\n",
       "      <td>19</td>\n",
       "      <td>190.50</td>\n",
       "      <td>79.8</td>\n",
       "      <td>325000.0</td>\n",
       "    </tr>\n",
       "  </tbody>\n",
       "</table>\n",
       "<p>17699 rows × 4 columns</p>\n",
       "</div>"
      ],
      "text/plain": [
       "        Age  Height_Cm  Weight_Kgs   Value_Euro\n",
       "Id                                             \n",
       "158023   31     170.18        72.1  110500000.0\n",
       "190460   27     154.94        76.2   69500000.0\n",
       "195864   25     190.50        83.9   73000000.0\n",
       "198219   27     162.56        59.0   62000000.0\n",
       "201024   27     187.96        88.9   60000000.0\n",
       "...     ...        ...         ...          ...\n",
       "204322   25     175.26        74.8     975000.0\n",
       "239762   23     182.88        79.8     190000.0\n",
       "235155   22     185.42        89.8     170000.0\n",
       "244883   21     175.26        64.9     280000.0\n",
       "247187   19     190.50        79.8     325000.0\n",
       "\n",
       "[17699 rows x 4 columns]"
      ]
     },
     "execution_count": 167,
     "metadata": {},
     "output_type": "execute_result"
    }
   ],
   "source": [
    "df_demo=df.filter([\"Age\",\"Height_Cm\",\"Weight_Kgs\",\"Value_Euro\",''],axis=1)\n",
    "df_demo.dropna()"
   ]
  },
  {
   "cell_type": "code",
   "execution_count": 168,
   "id": "a2425ff9",
   "metadata": {},
   "outputs": [
    {
     "data": {
      "text/html": [
       "<div>\n",
       "<style scoped>\n",
       "    .dataframe tbody tr th:only-of-type {\n",
       "        vertical-align: middle;\n",
       "    }\n",
       "\n",
       "    .dataframe tbody tr th {\n",
       "        vertical-align: top;\n",
       "    }\n",
       "\n",
       "    .dataframe thead th {\n",
       "        text-align: right;\n",
       "    }\n",
       "</style>\n",
       "<table border=\"1\" class=\"dataframe\">\n",
       "  <thead>\n",
       "    <tr style=\"text-align: right;\">\n",
       "      <th></th>\n",
       "      <th>Crossing</th>\n",
       "      <th>Finishing</th>\n",
       "      <th>Heading_Accuracy</th>\n",
       "      <th>Short_Passing</th>\n",
       "      <th>Volleys</th>\n",
       "      <th>Dribbling</th>\n",
       "      <th>Curve</th>\n",
       "      <th>Freekick_Accuracy</th>\n",
       "      <th>Long_Passing</th>\n",
       "      <th>Ball_Control</th>\n",
       "      <th>...</th>\n",
       "      <th>Aggression</th>\n",
       "      <th>Interceptions</th>\n",
       "      <th>Positioning</th>\n",
       "      <th>Vision</th>\n",
       "      <th>Penalties</th>\n",
       "      <th>Composure</th>\n",
       "      <th>Marking</th>\n",
       "      <th>Standing_Tackle</th>\n",
       "      <th>Sliding_Tackle</th>\n",
       "      <th>Value_Euro</th>\n",
       "    </tr>\n",
       "    <tr>\n",
       "      <th>Id</th>\n",
       "      <th></th>\n",
       "      <th></th>\n",
       "      <th></th>\n",
       "      <th></th>\n",
       "      <th></th>\n",
       "      <th></th>\n",
       "      <th></th>\n",
       "      <th></th>\n",
       "      <th></th>\n",
       "      <th></th>\n",
       "      <th></th>\n",
       "      <th></th>\n",
       "      <th></th>\n",
       "      <th></th>\n",
       "      <th></th>\n",
       "      <th></th>\n",
       "      <th></th>\n",
       "      <th></th>\n",
       "      <th></th>\n",
       "      <th></th>\n",
       "      <th></th>\n",
       "    </tr>\n",
       "  </thead>\n",
       "  <tbody>\n",
       "    <tr>\n",
       "      <th>158023</th>\n",
       "      <td>86</td>\n",
       "      <td>95</td>\n",
       "      <td>70</td>\n",
       "      <td>92</td>\n",
       "      <td>86</td>\n",
       "      <td>97</td>\n",
       "      <td>93</td>\n",
       "      <td>94</td>\n",
       "      <td>89</td>\n",
       "      <td>96</td>\n",
       "      <td>...</td>\n",
       "      <td>48</td>\n",
       "      <td>22</td>\n",
       "      <td>94</td>\n",
       "      <td>94</td>\n",
       "      <td>75</td>\n",
       "      <td>96</td>\n",
       "      <td>33</td>\n",
       "      <td>28</td>\n",
       "      <td>26</td>\n",
       "      <td>110500000.0</td>\n",
       "    </tr>\n",
       "    <tr>\n",
       "      <th>190460</th>\n",
       "      <td>88</td>\n",
       "      <td>81</td>\n",
       "      <td>52</td>\n",
       "      <td>91</td>\n",
       "      <td>80</td>\n",
       "      <td>84</td>\n",
       "      <td>86</td>\n",
       "      <td>87</td>\n",
       "      <td>89</td>\n",
       "      <td>91</td>\n",
       "      <td>...</td>\n",
       "      <td>46</td>\n",
       "      <td>56</td>\n",
       "      <td>84</td>\n",
       "      <td>91</td>\n",
       "      <td>67</td>\n",
       "      <td>88</td>\n",
       "      <td>59</td>\n",
       "      <td>57</td>\n",
       "      <td>22</td>\n",
       "      <td>69500000.0</td>\n",
       "    </tr>\n",
       "    <tr>\n",
       "      <th>195864</th>\n",
       "      <td>80</td>\n",
       "      <td>75</td>\n",
       "      <td>75</td>\n",
       "      <td>86</td>\n",
       "      <td>85</td>\n",
       "      <td>87</td>\n",
       "      <td>85</td>\n",
       "      <td>82</td>\n",
       "      <td>90</td>\n",
       "      <td>90</td>\n",
       "      <td>...</td>\n",
       "      <td>78</td>\n",
       "      <td>64</td>\n",
       "      <td>82</td>\n",
       "      <td>88</td>\n",
       "      <td>82</td>\n",
       "      <td>87</td>\n",
       "      <td>63</td>\n",
       "      <td>67</td>\n",
       "      <td>67</td>\n",
       "      <td>73000000.0</td>\n",
       "    </tr>\n",
       "    <tr>\n",
       "      <th>198219</th>\n",
       "      <td>86</td>\n",
       "      <td>77</td>\n",
       "      <td>56</td>\n",
       "      <td>85</td>\n",
       "      <td>74</td>\n",
       "      <td>90</td>\n",
       "      <td>87</td>\n",
       "      <td>77</td>\n",
       "      <td>78</td>\n",
       "      <td>93</td>\n",
       "      <td>...</td>\n",
       "      <td>34</td>\n",
       "      <td>26</td>\n",
       "      <td>83</td>\n",
       "      <td>87</td>\n",
       "      <td>61</td>\n",
       "      <td>83</td>\n",
       "      <td>51</td>\n",
       "      <td>24</td>\n",
       "      <td>22</td>\n",
       "      <td>62000000.0</td>\n",
       "    </tr>\n",
       "    <tr>\n",
       "      <th>201024</th>\n",
       "      <td>30</td>\n",
       "      <td>22</td>\n",
       "      <td>83</td>\n",
       "      <td>68</td>\n",
       "      <td>14</td>\n",
       "      <td>69</td>\n",
       "      <td>28</td>\n",
       "      <td>28</td>\n",
       "      <td>60</td>\n",
       "      <td>63</td>\n",
       "      <td>...</td>\n",
       "      <td>87</td>\n",
       "      <td>88</td>\n",
       "      <td>24</td>\n",
       "      <td>49</td>\n",
       "      <td>33</td>\n",
       "      <td>80</td>\n",
       "      <td>91</td>\n",
       "      <td>88</td>\n",
       "      <td>87</td>\n",
       "      <td>60000000.0</td>\n",
       "    </tr>\n",
       "  </tbody>\n",
       "</table>\n",
       "<p>5 rows × 30 columns</p>\n",
       "</div>"
      ],
      "text/plain": [
       "        Crossing  Finishing  Heading_Accuracy  Short_Passing  Volleys  \\\n",
       "Id                                                                      \n",
       "158023        86         95                70             92       86   \n",
       "190460        88         81                52             91       80   \n",
       "195864        80         75                75             86       85   \n",
       "198219        86         77                56             85       74   \n",
       "201024        30         22                83             68       14   \n",
       "\n",
       "        Dribbling  Curve  Freekick_Accuracy  Long_Passing  Ball_Control  ...  \\\n",
       "Id                                                                       ...   \n",
       "158023         97     93                 94            89            96  ...   \n",
       "190460         84     86                 87            89            91  ...   \n",
       "195864         87     85                 82            90            90  ...   \n",
       "198219         90     87                 77            78            93  ...   \n",
       "201024         69     28                 28            60            63  ...   \n",
       "\n",
       "        Aggression  Interceptions  Positioning  Vision  Penalties  Composure  \\\n",
       "Id                                                                             \n",
       "158023          48             22           94      94         75         96   \n",
       "190460          46             56           84      91         67         88   \n",
       "195864          78             64           82      88         82         87   \n",
       "198219          34             26           83      87         61         83   \n",
       "201024          87             88           24      49         33         80   \n",
       "\n",
       "        Marking  Standing_Tackle  Sliding_Tackle   Value_Euro  \n",
       "Id                                                             \n",
       "158023       33               28              26  110500000.0  \n",
       "190460       59               57              22   69500000.0  \n",
       "195864       63               67              67   73000000.0  \n",
       "198219       51               24              22   62000000.0  \n",
       "201024       91               88              87   60000000.0  \n",
       "\n",
       "[5 rows x 30 columns]"
      ]
     },
     "execution_count": 168,
     "metadata": {},
     "output_type": "execute_result"
    }
   ],
   "source": [
    "df_skills=df.filter([\"Crossing\",\"Finishing\",\"Heading_Accuracy\",\"Short_Passing\",\"Volleys\",\"Dribbling\",\"Curve\",\"Freekick_Accuracy\",\"Long_Passing\",\"Ball_Control\",\"Acceleration\",\"Sprint_Speed\",\"Agility\",\"Reactions\",\"Balance\",\"Shot_Power\",\"Jumping\",\"Stamina\",\"Strength\",\"Long_Shots\",\"Aggression\",\"Interceptions\",\"Positioning\",\"Vision\",\"Penalties\",\"Composure\",\"Marking\",\"Standing_Tackle\",\"Sliding_Tackle\",\"Value_Euro\"],axis=1)\n",
    "df_skills.head()"
   ]
  },
  {
   "cell_type": "code",
   "execution_count": 169,
   "id": "ba700a27",
   "metadata": {
    "scrolled": true
   },
   "outputs": [
    {
     "name": "stderr",
     "output_type": "stream",
     "text": [
      "C:\\Users\\RyanC\\anaconda3\\envs\\mlenv\\lib\\site-packages\\pandas\\core\\frame.py:4913: SettingWithCopyWarning: \n",
      "A value is trying to be set on a copy of a slice from a DataFrame\n",
      "\n",
      "See the caveats in the documentation: https://pandas.pydata.org/pandas-docs/stable/user_guide/indexing.html#returning-a-view-versus-a-copy\n",
      "  errors=errors,\n"
     ]
    },
    {
     "data": {
      "text/html": [
       "<div>\n",
       "<style scoped>\n",
       "    .dataframe tbody tr th:only-of-type {\n",
       "        vertical-align: middle;\n",
       "    }\n",
       "\n",
       "    .dataframe tbody tr th {\n",
       "        vertical-align: top;\n",
       "    }\n",
       "\n",
       "    .dataframe thead th {\n",
       "        text-align: right;\n",
       "    }\n",
       "</style>\n",
       "<table border=\"1\" class=\"dataframe\">\n",
       "  <thead>\n",
       "    <tr style=\"text-align: right;\">\n",
       "      <th></th>\n",
       "      <th>Age</th>\n",
       "      <th>Height_Cm</th>\n",
       "      <th>Weight_Kgs</th>\n",
       "      <th>Positions</th>\n",
       "      <th>Overall_Rating</th>\n",
       "      <th>Potential</th>\n",
       "      <th>Value_Euro</th>\n",
       "      <th>International_Reputation_1_5</th>\n",
       "      <th>Skill_Moves_1_5</th>\n",
       "      <th>Work_Rate</th>\n",
       "      <th>...</th>\n",
       "      <th>Ldm</th>\n",
       "      <th>Cdm</th>\n",
       "      <th>Rdm</th>\n",
       "      <th>Rwb</th>\n",
       "      <th>Lb</th>\n",
       "      <th>Lcb</th>\n",
       "      <th>Cb</th>\n",
       "      <th>Rcb</th>\n",
       "      <th>Rb</th>\n",
       "      <th>Original_Position</th>\n",
       "    </tr>\n",
       "    <tr>\n",
       "      <th>Id</th>\n",
       "      <th></th>\n",
       "      <th></th>\n",
       "      <th></th>\n",
       "      <th></th>\n",
       "      <th></th>\n",
       "      <th></th>\n",
       "      <th></th>\n",
       "      <th></th>\n",
       "      <th></th>\n",
       "      <th></th>\n",
       "      <th></th>\n",
       "      <th></th>\n",
       "      <th></th>\n",
       "      <th></th>\n",
       "      <th></th>\n",
       "      <th></th>\n",
       "      <th></th>\n",
       "      <th></th>\n",
       "      <th></th>\n",
       "      <th></th>\n",
       "      <th></th>\n",
       "    </tr>\n",
       "  </thead>\n",
       "  <tbody>\n",
       "    <tr>\n",
       "      <th>201024</th>\n",
       "      <td>27</td>\n",
       "      <td>187.96</td>\n",
       "      <td>88.9</td>\n",
       "      <td>DF</td>\n",
       "      <td>88</td>\n",
       "      <td>91</td>\n",
       "      <td>60000000.0</td>\n",
       "      <td>3</td>\n",
       "      <td>2</td>\n",
       "      <td>High/ High</td>\n",
       "      <td>...</td>\n",
       "      <td>77+3</td>\n",
       "      <td>77+3</td>\n",
       "      <td>77+3</td>\n",
       "      <td>73+3</td>\n",
       "      <td>76+3</td>\n",
       "      <td>85+3</td>\n",
       "      <td>85+3</td>\n",
       "      <td>85+3</td>\n",
       "      <td>76+3</td>\n",
       "      <td>CB</td>\n",
       "    </tr>\n",
       "    <tr>\n",
       "      <th>203376</th>\n",
       "      <td>27</td>\n",
       "      <td>193.04</td>\n",
       "      <td>92.1</td>\n",
       "      <td>DF</td>\n",
       "      <td>88</td>\n",
       "      <td>90</td>\n",
       "      <td>59500000.0</td>\n",
       "      <td>3</td>\n",
       "      <td>2</td>\n",
       "      <td>Medium/ Medium</td>\n",
       "      <td>...</td>\n",
       "      <td>82+3</td>\n",
       "      <td>82+3</td>\n",
       "      <td>82+3</td>\n",
       "      <td>78+3</td>\n",
       "      <td>80+3</td>\n",
       "      <td>86+3</td>\n",
       "      <td>86+3</td>\n",
       "      <td>86+3</td>\n",
       "      <td>80+3</td>\n",
       "      <td>CB</td>\n",
       "    </tr>\n",
       "    <tr>\n",
       "      <th>231747</th>\n",
       "      <td>20</td>\n",
       "      <td>152.40</td>\n",
       "      <td>73.0</td>\n",
       "      <td>DF</td>\n",
       "      <td>88</td>\n",
       "      <td>95</td>\n",
       "      <td>81000000.0</td>\n",
       "      <td>3</td>\n",
       "      <td>5</td>\n",
       "      <td>High/ Medium</td>\n",
       "      <td>...</td>\n",
       "      <td>62+3</td>\n",
       "      <td>62+3</td>\n",
       "      <td>62+3</td>\n",
       "      <td>66+3</td>\n",
       "      <td>62+3</td>\n",
       "      <td>54+3</td>\n",
       "      <td>54+3</td>\n",
       "      <td>54+3</td>\n",
       "      <td>62+3</td>\n",
       "      <td>RW,ST,RM</td>\n",
       "    </tr>\n",
       "    <tr>\n",
       "      <th>209331</th>\n",
       "      <td>26</td>\n",
       "      <td>175.26</td>\n",
       "      <td>71.2</td>\n",
       "      <td>DF</td>\n",
       "      <td>89</td>\n",
       "      <td>90</td>\n",
       "      <td>78500000.0</td>\n",
       "      <td>3</td>\n",
       "      <td>4</td>\n",
       "      <td>High/ Medium</td>\n",
       "      <td>...</td>\n",
       "      <td>66+3</td>\n",
       "      <td>66+3</td>\n",
       "      <td>66+3</td>\n",
       "      <td>70+3</td>\n",
       "      <td>66+3</td>\n",
       "      <td>57+3</td>\n",
       "      <td>57+3</td>\n",
       "      <td>57+3</td>\n",
       "      <td>66+3</td>\n",
       "      <td>RW,ST</td>\n",
       "    </tr>\n",
       "    <tr>\n",
       "      <th>232363</th>\n",
       "      <td>24</td>\n",
       "      <td>187.96</td>\n",
       "      <td>79.8</td>\n",
       "      <td>DF</td>\n",
       "      <td>86</td>\n",
       "      <td>93</td>\n",
       "      <td>53500000.0</td>\n",
       "      <td>1</td>\n",
       "      <td>2</td>\n",
       "      <td>Medium/ High</td>\n",
       "      <td>...</td>\n",
       "      <td>79+2</td>\n",
       "      <td>79+2</td>\n",
       "      <td>79+2</td>\n",
       "      <td>74+2</td>\n",
       "      <td>77+2</td>\n",
       "      <td>84+2</td>\n",
       "      <td>84+2</td>\n",
       "      <td>84+2</td>\n",
       "      <td>77+2</td>\n",
       "      <td>CB</td>\n",
       "    </tr>\n",
       "    <tr>\n",
       "      <th>...</th>\n",
       "      <td>...</td>\n",
       "      <td>...</td>\n",
       "      <td>...</td>\n",
       "      <td>...</td>\n",
       "      <td>...</td>\n",
       "      <td>...</td>\n",
       "      <td>...</td>\n",
       "      <td>...</td>\n",
       "      <td>...</td>\n",
       "      <td>...</td>\n",
       "      <td>...</td>\n",
       "      <td>...</td>\n",
       "      <td>...</td>\n",
       "      <td>...</td>\n",
       "      <td>...</td>\n",
       "      <td>...</td>\n",
       "      <td>...</td>\n",
       "      <td>...</td>\n",
       "      <td>...</td>\n",
       "      <td>...</td>\n",
       "      <td>...</td>\n",
       "    </tr>\n",
       "    <tr>\n",
       "      <th>138956</th>\n",
       "      <td>34</td>\n",
       "      <td>187.96</td>\n",
       "      <td>84.8</td>\n",
       "      <td>DF</td>\n",
       "      <td>90</td>\n",
       "      <td>90</td>\n",
       "      <td>31000000.0</td>\n",
       "      <td>4</td>\n",
       "      <td>2</td>\n",
       "      <td>Medium/ High</td>\n",
       "      <td>...</td>\n",
       "      <td>76+3</td>\n",
       "      <td>76+3</td>\n",
       "      <td>76+3</td>\n",
       "      <td>74+3</td>\n",
       "      <td>77+3</td>\n",
       "      <td>86+3</td>\n",
       "      <td>86+3</td>\n",
       "      <td>86+3</td>\n",
       "      <td>77+3</td>\n",
       "      <td>CB</td>\n",
       "    </tr>\n",
       "    <tr>\n",
       "      <th>155862</th>\n",
       "      <td>32</td>\n",
       "      <td>182.88</td>\n",
       "      <td>82.1</td>\n",
       "      <td>DF</td>\n",
       "      <td>90</td>\n",
       "      <td>90</td>\n",
       "      <td>44000000.0</td>\n",
       "      <td>4</td>\n",
       "      <td>3</td>\n",
       "      <td>High/ Medium</td>\n",
       "      <td>...</td>\n",
       "      <td>84+3</td>\n",
       "      <td>84+3</td>\n",
       "      <td>84+3</td>\n",
       "      <td>81+3</td>\n",
       "      <td>83+3</td>\n",
       "      <td>87+3</td>\n",
       "      <td>87+3</td>\n",
       "      <td>87+3</td>\n",
       "      <td>83+3</td>\n",
       "      <td>CB</td>\n",
       "    </tr>\n",
       "    <tr>\n",
       "      <th>182493</th>\n",
       "      <td>33</td>\n",
       "      <td>187.96</td>\n",
       "      <td>78.0</td>\n",
       "      <td>DF</td>\n",
       "      <td>90</td>\n",
       "      <td>90</td>\n",
       "      <td>44000000.0</td>\n",
       "      <td>3</td>\n",
       "      <td>2</td>\n",
       "      <td>Medium/ High</td>\n",
       "      <td>...</td>\n",
       "      <td>81+3</td>\n",
       "      <td>81+3</td>\n",
       "      <td>81+3</td>\n",
       "      <td>76+3</td>\n",
       "      <td>79+3</td>\n",
       "      <td>87+3</td>\n",
       "      <td>87+3</td>\n",
       "      <td>87+3</td>\n",
       "      <td>79+3</td>\n",
       "      <td>CB</td>\n",
       "    </tr>\n",
       "    <tr>\n",
       "      <th>198178</th>\n",
       "      <td>28</td>\n",
       "      <td>154.94</td>\n",
       "      <td>73.9</td>\n",
       "      <td>DF</td>\n",
       "      <td>67</td>\n",
       "      <td>69</td>\n",
       "      <td>725000.0</td>\n",
       "      <td>1</td>\n",
       "      <td>2</td>\n",
       "      <td>Medium/ Medium</td>\n",
       "      <td>...</td>\n",
       "      <td>63+2</td>\n",
       "      <td>63+2</td>\n",
       "      <td>63+2</td>\n",
       "      <td>59+2</td>\n",
       "      <td>61+2</td>\n",
       "      <td>66+2</td>\n",
       "      <td>66+2</td>\n",
       "      <td>66+2</td>\n",
       "      <td>61+2</td>\n",
       "      <td>CB</td>\n",
       "    </tr>\n",
       "    <tr>\n",
       "      <th>239762</th>\n",
       "      <td>23</td>\n",
       "      <td>182.88</td>\n",
       "      <td>79.8</td>\n",
       "      <td>DF</td>\n",
       "      <td>59</td>\n",
       "      <td>67</td>\n",
       "      <td>190000.0</td>\n",
       "      <td>1</td>\n",
       "      <td>2</td>\n",
       "      <td>Medium/ High</td>\n",
       "      <td>...</td>\n",
       "      <td>55+2</td>\n",
       "      <td>55+2</td>\n",
       "      <td>55+2</td>\n",
       "      <td>57+2</td>\n",
       "      <td>57+2</td>\n",
       "      <td>58+2</td>\n",
       "      <td>58+2</td>\n",
       "      <td>58+2</td>\n",
       "      <td>57+2</td>\n",
       "      <td>LB</td>\n",
       "    </tr>\n",
       "  </tbody>\n",
       "</table>\n",
       "<p>6107 rows × 73 columns</p>\n",
       "</div>"
      ],
      "text/plain": [
       "        Age  Height_Cm  Weight_Kgs Positions  Overall_Rating  Potential  \\\n",
       "Id                                                                        \n",
       "201024   27     187.96        88.9        DF              88         91   \n",
       "203376   27     193.04        92.1        DF              88         90   \n",
       "231747   20     152.40        73.0        DF              88         95   \n",
       "209331   26     175.26        71.2        DF              89         90   \n",
       "232363   24     187.96        79.8        DF              86         93   \n",
       "...     ...        ...         ...       ...             ...        ...   \n",
       "138956   34     187.96        84.8        DF              90         90   \n",
       "155862   32     182.88        82.1        DF              90         90   \n",
       "182493   33     187.96        78.0        DF              90         90   \n",
       "198178   28     154.94        73.9        DF              67         69   \n",
       "239762   23     182.88        79.8        DF              59         67   \n",
       "\n",
       "        Value_Euro  International_Reputation_1_5  Skill_Moves_1_5  \\\n",
       "Id                                                                  \n",
       "201024  60000000.0                             3                2   \n",
       "203376  59500000.0                             3                2   \n",
       "231747  81000000.0                             3                5   \n",
       "209331  78500000.0                             3                4   \n",
       "232363  53500000.0                             1                2   \n",
       "...            ...                           ...              ...   \n",
       "138956  31000000.0                             4                2   \n",
       "155862  44000000.0                             4                3   \n",
       "182493  44000000.0                             3                2   \n",
       "198178    725000.0                             1                2   \n",
       "239762    190000.0                             1                2   \n",
       "\n",
       "             Work_Rate  ...   Ldm   Cdm   Rdm   Rwb    Lb   Lcb    Cb   Rcb  \\\n",
       "Id                      ...                                                   \n",
       "201024      High/ High  ...  77+3  77+3  77+3  73+3  76+3  85+3  85+3  85+3   \n",
       "203376  Medium/ Medium  ...  82+3  82+3  82+3  78+3  80+3  86+3  86+3  86+3   \n",
       "231747    High/ Medium  ...  62+3  62+3  62+3  66+3  62+3  54+3  54+3  54+3   \n",
       "209331    High/ Medium  ...  66+3  66+3  66+3  70+3  66+3  57+3  57+3  57+3   \n",
       "232363    Medium/ High  ...  79+2  79+2  79+2  74+2  77+2  84+2  84+2  84+2   \n",
       "...                ...  ...   ...   ...   ...   ...   ...   ...   ...   ...   \n",
       "138956    Medium/ High  ...  76+3  76+3  76+3  74+3  77+3  86+3  86+3  86+3   \n",
       "155862    High/ Medium  ...  84+3  84+3  84+3  81+3  83+3  87+3  87+3  87+3   \n",
       "182493    Medium/ High  ...  81+3  81+3  81+3  76+3  79+3  87+3  87+3  87+3   \n",
       "198178  Medium/ Medium  ...  63+2  63+2  63+2  59+2  61+2  66+2  66+2  66+2   \n",
       "239762    Medium/ High  ...  55+2  55+2  55+2  57+2  57+2  58+2  58+2  58+2   \n",
       "\n",
       "          Rb  Original_Position  \n",
       "Id                               \n",
       "201024  76+3                 CB  \n",
       "203376  80+3                 CB  \n",
       "231747  62+3           RW,ST,RM  \n",
       "209331  66+3              RW,ST  \n",
       "232363  77+2                 CB  \n",
       "...      ...                ...  \n",
       "138956  77+3                 CB  \n",
       "155862  83+3                 CB  \n",
       "182493  79+3                 CB  \n",
       "198178  61+2                 CB  \n",
       "239762  57+2                 LB  \n",
       "\n",
       "[6107 rows x 73 columns]"
      ]
     },
     "execution_count": 169,
     "metadata": {},
     "output_type": "execute_result"
    }
   ],
   "source": [
    "df_DF=df[df.Positions==\"DF\"]\n",
    "df_DF.drop(['Name', 'Nationality'], axis=1, inplace=True)\n",
    "df_DF"
   ]
  },
  {
   "cell_type": "code",
   "execution_count": 170,
   "id": "6361b2b0",
   "metadata": {
    "scrolled": true
   },
   "outputs": [
    {
     "ename": "KeyError",
     "evalue": "\"['Name' 'Nationality'] not found in axis\"",
     "output_type": "error",
     "traceback": [
      "\u001b[1;31m---------------------------------------------------------------------------\u001b[0m",
      "\u001b[1;31mKeyError\u001b[0m                                  Traceback (most recent call last)",
      "\u001b[1;32m~\\AppData\\Local\\Temp/ipykernel_13156/1581303167.py\u001b[0m in \u001b[0;36m<module>\u001b[1;34m\u001b[0m\n\u001b[1;32m----> 1\u001b[1;33m \u001b[0mdf_DF\u001b[0m\u001b[1;33m.\u001b[0m\u001b[0mdrop\u001b[0m\u001b[1;33m(\u001b[0m\u001b[1;33m[\u001b[0m\u001b[1;34m'Name'\u001b[0m\u001b[1;33m,\u001b[0m \u001b[1;34m'Nationality'\u001b[0m\u001b[1;33m]\u001b[0m\u001b[1;33m,\u001b[0m \u001b[0maxis\u001b[0m\u001b[1;33m=\u001b[0m\u001b[1;36m1\u001b[0m\u001b[1;33m,\u001b[0m \u001b[0minplace\u001b[0m\u001b[1;33m=\u001b[0m\u001b[1;32mTrue\u001b[0m\u001b[1;33m)\u001b[0m\u001b[1;33m\u001b[0m\u001b[1;33m\u001b[0m\u001b[0m\n\u001b[0m\u001b[0;32m      2\u001b[0m \u001b[0mdf_DF\u001b[0m\u001b[1;33m\u001b[0m\u001b[1;33m\u001b[0m\u001b[0m\n",
      "\u001b[1;32m~\\anaconda3\\envs\\mlenv\\lib\\site-packages\\pandas\\util\\_decorators.py\u001b[0m in \u001b[0;36mwrapper\u001b[1;34m(*args, **kwargs)\u001b[0m\n\u001b[0;32m    309\u001b[0m                     \u001b[0mstacklevel\u001b[0m\u001b[1;33m=\u001b[0m\u001b[0mstacklevel\u001b[0m\u001b[1;33m,\u001b[0m\u001b[1;33m\u001b[0m\u001b[1;33m\u001b[0m\u001b[0m\n\u001b[0;32m    310\u001b[0m                 )\n\u001b[1;32m--> 311\u001b[1;33m             \u001b[1;32mreturn\u001b[0m \u001b[0mfunc\u001b[0m\u001b[1;33m(\u001b[0m\u001b[1;33m*\u001b[0m\u001b[0margs\u001b[0m\u001b[1;33m,\u001b[0m \u001b[1;33m**\u001b[0m\u001b[0mkwargs\u001b[0m\u001b[1;33m)\u001b[0m\u001b[1;33m\u001b[0m\u001b[1;33m\u001b[0m\u001b[0m\n\u001b[0m\u001b[0;32m    312\u001b[0m \u001b[1;33m\u001b[0m\u001b[0m\n\u001b[0;32m    313\u001b[0m         \u001b[1;32mreturn\u001b[0m \u001b[0mwrapper\u001b[0m\u001b[1;33m\u001b[0m\u001b[1;33m\u001b[0m\u001b[0m\n",
      "\u001b[1;32m~\\anaconda3\\envs\\mlenv\\lib\\site-packages\\pandas\\core\\frame.py\u001b[0m in \u001b[0;36mdrop\u001b[1;34m(self, labels, axis, index, columns, level, inplace, errors)\u001b[0m\n\u001b[0;32m   4911\u001b[0m             \u001b[0mlevel\u001b[0m\u001b[1;33m=\u001b[0m\u001b[0mlevel\u001b[0m\u001b[1;33m,\u001b[0m\u001b[1;33m\u001b[0m\u001b[1;33m\u001b[0m\u001b[0m\n\u001b[0;32m   4912\u001b[0m             \u001b[0minplace\u001b[0m\u001b[1;33m=\u001b[0m\u001b[0minplace\u001b[0m\u001b[1;33m,\u001b[0m\u001b[1;33m\u001b[0m\u001b[1;33m\u001b[0m\u001b[0m\n\u001b[1;32m-> 4913\u001b[1;33m             \u001b[0merrors\u001b[0m\u001b[1;33m=\u001b[0m\u001b[0merrors\u001b[0m\u001b[1;33m,\u001b[0m\u001b[1;33m\u001b[0m\u001b[1;33m\u001b[0m\u001b[0m\n\u001b[0m\u001b[0;32m   4914\u001b[0m         )\n\u001b[0;32m   4915\u001b[0m \u001b[1;33m\u001b[0m\u001b[0m\n",
      "\u001b[1;32m~\\anaconda3\\envs\\mlenv\\lib\\site-packages\\pandas\\core\\generic.py\u001b[0m in \u001b[0;36mdrop\u001b[1;34m(self, labels, axis, index, columns, level, inplace, errors)\u001b[0m\n\u001b[0;32m   4148\u001b[0m         \u001b[1;32mfor\u001b[0m \u001b[0maxis\u001b[0m\u001b[1;33m,\u001b[0m \u001b[0mlabels\u001b[0m \u001b[1;32min\u001b[0m \u001b[0maxes\u001b[0m\u001b[1;33m.\u001b[0m\u001b[0mitems\u001b[0m\u001b[1;33m(\u001b[0m\u001b[1;33m)\u001b[0m\u001b[1;33m:\u001b[0m\u001b[1;33m\u001b[0m\u001b[1;33m\u001b[0m\u001b[0m\n\u001b[0;32m   4149\u001b[0m             \u001b[1;32mif\u001b[0m \u001b[0mlabels\u001b[0m \u001b[1;32mis\u001b[0m \u001b[1;32mnot\u001b[0m \u001b[1;32mNone\u001b[0m\u001b[1;33m:\u001b[0m\u001b[1;33m\u001b[0m\u001b[1;33m\u001b[0m\u001b[0m\n\u001b[1;32m-> 4150\u001b[1;33m                 \u001b[0mobj\u001b[0m \u001b[1;33m=\u001b[0m \u001b[0mobj\u001b[0m\u001b[1;33m.\u001b[0m\u001b[0m_drop_axis\u001b[0m\u001b[1;33m(\u001b[0m\u001b[0mlabels\u001b[0m\u001b[1;33m,\u001b[0m \u001b[0maxis\u001b[0m\u001b[1;33m,\u001b[0m \u001b[0mlevel\u001b[0m\u001b[1;33m=\u001b[0m\u001b[0mlevel\u001b[0m\u001b[1;33m,\u001b[0m \u001b[0merrors\u001b[0m\u001b[1;33m=\u001b[0m\u001b[0merrors\u001b[0m\u001b[1;33m)\u001b[0m\u001b[1;33m\u001b[0m\u001b[1;33m\u001b[0m\u001b[0m\n\u001b[0m\u001b[0;32m   4151\u001b[0m \u001b[1;33m\u001b[0m\u001b[0m\n\u001b[0;32m   4152\u001b[0m         \u001b[1;32mif\u001b[0m \u001b[0minplace\u001b[0m\u001b[1;33m:\u001b[0m\u001b[1;33m\u001b[0m\u001b[1;33m\u001b[0m\u001b[0m\n",
      "\u001b[1;32m~\\anaconda3\\envs\\mlenv\\lib\\site-packages\\pandas\\core\\generic.py\u001b[0m in \u001b[0;36m_drop_axis\u001b[1;34m(self, labels, axis, level, errors)\u001b[0m\n\u001b[0;32m   4183\u001b[0m                 \u001b[0mnew_axis\u001b[0m \u001b[1;33m=\u001b[0m \u001b[0maxis\u001b[0m\u001b[1;33m.\u001b[0m\u001b[0mdrop\u001b[0m\u001b[1;33m(\u001b[0m\u001b[0mlabels\u001b[0m\u001b[1;33m,\u001b[0m \u001b[0mlevel\u001b[0m\u001b[1;33m=\u001b[0m\u001b[0mlevel\u001b[0m\u001b[1;33m,\u001b[0m \u001b[0merrors\u001b[0m\u001b[1;33m=\u001b[0m\u001b[0merrors\u001b[0m\u001b[1;33m)\u001b[0m\u001b[1;33m\u001b[0m\u001b[1;33m\u001b[0m\u001b[0m\n\u001b[0;32m   4184\u001b[0m             \u001b[1;32melse\u001b[0m\u001b[1;33m:\u001b[0m\u001b[1;33m\u001b[0m\u001b[1;33m\u001b[0m\u001b[0m\n\u001b[1;32m-> 4185\u001b[1;33m                 \u001b[0mnew_axis\u001b[0m \u001b[1;33m=\u001b[0m \u001b[0maxis\u001b[0m\u001b[1;33m.\u001b[0m\u001b[0mdrop\u001b[0m\u001b[1;33m(\u001b[0m\u001b[0mlabels\u001b[0m\u001b[1;33m,\u001b[0m \u001b[0merrors\u001b[0m\u001b[1;33m=\u001b[0m\u001b[0merrors\u001b[0m\u001b[1;33m)\u001b[0m\u001b[1;33m\u001b[0m\u001b[1;33m\u001b[0m\u001b[0m\n\u001b[0m\u001b[0;32m   4186\u001b[0m             \u001b[0mresult\u001b[0m \u001b[1;33m=\u001b[0m \u001b[0mself\u001b[0m\u001b[1;33m.\u001b[0m\u001b[0mreindex\u001b[0m\u001b[1;33m(\u001b[0m\u001b[1;33m**\u001b[0m\u001b[1;33m{\u001b[0m\u001b[0maxis_name\u001b[0m\u001b[1;33m:\u001b[0m \u001b[0mnew_axis\u001b[0m\u001b[1;33m}\u001b[0m\u001b[1;33m)\u001b[0m\u001b[1;33m\u001b[0m\u001b[1;33m\u001b[0m\u001b[0m\n\u001b[0;32m   4187\u001b[0m \u001b[1;33m\u001b[0m\u001b[0m\n",
      "\u001b[1;32m~\\anaconda3\\envs\\mlenv\\lib\\site-packages\\pandas\\core\\indexes\\base.py\u001b[0m in \u001b[0;36mdrop\u001b[1;34m(self, labels, errors)\u001b[0m\n\u001b[0;32m   6015\u001b[0m         \u001b[1;32mif\u001b[0m \u001b[0mmask\u001b[0m\u001b[1;33m.\u001b[0m\u001b[0many\u001b[0m\u001b[1;33m(\u001b[0m\u001b[1;33m)\u001b[0m\u001b[1;33m:\u001b[0m\u001b[1;33m\u001b[0m\u001b[1;33m\u001b[0m\u001b[0m\n\u001b[0;32m   6016\u001b[0m             \u001b[1;32mif\u001b[0m \u001b[0merrors\u001b[0m \u001b[1;33m!=\u001b[0m \u001b[1;34m\"ignore\"\u001b[0m\u001b[1;33m:\u001b[0m\u001b[1;33m\u001b[0m\u001b[1;33m\u001b[0m\u001b[0m\n\u001b[1;32m-> 6017\u001b[1;33m                 \u001b[1;32mraise\u001b[0m \u001b[0mKeyError\u001b[0m\u001b[1;33m(\u001b[0m\u001b[1;34mf\"{labels[mask]} not found in axis\"\u001b[0m\u001b[1;33m)\u001b[0m\u001b[1;33m\u001b[0m\u001b[1;33m\u001b[0m\u001b[0m\n\u001b[0m\u001b[0;32m   6018\u001b[0m             \u001b[0mindexer\u001b[0m \u001b[1;33m=\u001b[0m \u001b[0mindexer\u001b[0m\u001b[1;33m[\u001b[0m\u001b[1;33m~\u001b[0m\u001b[0mmask\u001b[0m\u001b[1;33m]\u001b[0m\u001b[1;33m\u001b[0m\u001b[1;33m\u001b[0m\u001b[0m\n\u001b[0;32m   6019\u001b[0m         \u001b[1;32mreturn\u001b[0m \u001b[0mself\u001b[0m\u001b[1;33m.\u001b[0m\u001b[0mdelete\u001b[0m\u001b[1;33m(\u001b[0m\u001b[0mindexer\u001b[0m\u001b[1;33m)\u001b[0m\u001b[1;33m\u001b[0m\u001b[1;33m\u001b[0m\u001b[0m\n",
      "\u001b[1;31mKeyError\u001b[0m: \"['Name' 'Nationality'] not found in axis\""
     ]
    }
   ],
   "source": [
    "df_DF.drop(['Name', 'Nationality'], axis=1, inplace=True)\n",
    "df_DF"
   ]
  },
  {
   "cell_type": "code",
   "execution_count": 171,
   "id": "5c807659",
   "metadata": {
    "scrolled": true
   },
   "outputs": [
    {
     "name": "stderr",
     "output_type": "stream",
     "text": [
      "C:\\Users\\RyanC\\anaconda3\\envs\\mlenv\\lib\\site-packages\\pandas\\core\\frame.py:4913: SettingWithCopyWarning: \n",
      "A value is trying to be set on a copy of a slice from a DataFrame\n",
      "\n",
      "See the caveats in the documentation: https://pandas.pydata.org/pandas-docs/stable/user_guide/indexing.html#returning-a-view-versus-a-copy\n",
      "  errors=errors,\n"
     ]
    },
    {
     "data": {
      "text/html": [
       "<div>\n",
       "<style scoped>\n",
       "    .dataframe tbody tr th:only-of-type {\n",
       "        vertical-align: middle;\n",
       "    }\n",
       "\n",
       "    .dataframe tbody tr th {\n",
       "        vertical-align: top;\n",
       "    }\n",
       "\n",
       "    .dataframe thead th {\n",
       "        text-align: right;\n",
       "    }\n",
       "</style>\n",
       "<table border=\"1\" class=\"dataframe\">\n",
       "  <thead>\n",
       "    <tr style=\"text-align: right;\">\n",
       "      <th></th>\n",
       "      <th>Age</th>\n",
       "      <th>Height_Cm</th>\n",
       "      <th>Weight_Kgs</th>\n",
       "      <th>Positions</th>\n",
       "      <th>Overall_Rating</th>\n",
       "      <th>Potential</th>\n",
       "      <th>Value_Euro</th>\n",
       "      <th>International_Reputation_1_5</th>\n",
       "      <th>Skill_Moves_1_5</th>\n",
       "      <th>Work_Rate</th>\n",
       "      <th>...</th>\n",
       "      <th>Ldm</th>\n",
       "      <th>Cdm</th>\n",
       "      <th>Rdm</th>\n",
       "      <th>Rwb</th>\n",
       "      <th>Lb</th>\n",
       "      <th>Lcb</th>\n",
       "      <th>Cb</th>\n",
       "      <th>Rcb</th>\n",
       "      <th>Rb</th>\n",
       "      <th>Original_Position</th>\n",
       "    </tr>\n",
       "    <tr>\n",
       "      <th>Id</th>\n",
       "      <th></th>\n",
       "      <th></th>\n",
       "      <th></th>\n",
       "      <th></th>\n",
       "      <th></th>\n",
       "      <th></th>\n",
       "      <th></th>\n",
       "      <th></th>\n",
       "      <th></th>\n",
       "      <th></th>\n",
       "      <th></th>\n",
       "      <th></th>\n",
       "      <th></th>\n",
       "      <th></th>\n",
       "      <th></th>\n",
       "      <th></th>\n",
       "      <th></th>\n",
       "      <th></th>\n",
       "      <th></th>\n",
       "      <th></th>\n",
       "      <th></th>\n",
       "    </tr>\n",
       "  </thead>\n",
       "  <tbody>\n",
       "    <tr>\n",
       "      <th>158023</th>\n",
       "      <td>31</td>\n",
       "      <td>170.18</td>\n",
       "      <td>72.1</td>\n",
       "      <td>FW</td>\n",
       "      <td>94</td>\n",
       "      <td>94</td>\n",
       "      <td>110500000.0</td>\n",
       "      <td>5</td>\n",
       "      <td>4</td>\n",
       "      <td>Medium/ Low</td>\n",
       "      <td>...</td>\n",
       "      <td>61+2</td>\n",
       "      <td>61+2</td>\n",
       "      <td>61+2</td>\n",
       "      <td>64+2</td>\n",
       "      <td>59+2</td>\n",
       "      <td>48+2</td>\n",
       "      <td>48+2</td>\n",
       "      <td>48+2</td>\n",
       "      <td>59+2</td>\n",
       "      <td>CF,RW,ST</td>\n",
       "    </tr>\n",
       "    <tr>\n",
       "      <th>153079</th>\n",
       "      <td>30</td>\n",
       "      <td>172.72</td>\n",
       "      <td>69.9</td>\n",
       "      <td>FW</td>\n",
       "      <td>89</td>\n",
       "      <td>89</td>\n",
       "      <td>64500000.0</td>\n",
       "      <td>4</td>\n",
       "      <td>4</td>\n",
       "      <td>High/ Medium</td>\n",
       "      <td>...</td>\n",
       "      <td>56+3</td>\n",
       "      <td>56+3</td>\n",
       "      <td>56+3</td>\n",
       "      <td>58+3</td>\n",
       "      <td>53+3</td>\n",
       "      <td>47+3</td>\n",
       "      <td>47+3</td>\n",
       "      <td>47+3</td>\n",
       "      <td>53+3</td>\n",
       "      <td>ST</td>\n",
       "    </tr>\n",
       "    <tr>\n",
       "      <th>179813</th>\n",
       "      <td>32</td>\n",
       "      <td>185.42</td>\n",
       "      <td>77.1</td>\n",
       "      <td>FW</td>\n",
       "      <td>89</td>\n",
       "      <td>89</td>\n",
       "      <td>60000000.0</td>\n",
       "      <td>4</td>\n",
       "      <td>3</td>\n",
       "      <td>High/ High</td>\n",
       "      <td>...</td>\n",
       "      <td>65+3</td>\n",
       "      <td>65+3</td>\n",
       "      <td>65+3</td>\n",
       "      <td>67+3</td>\n",
       "      <td>65+3</td>\n",
       "      <td>63+3</td>\n",
       "      <td>63+3</td>\n",
       "      <td>63+3</td>\n",
       "      <td>65+3</td>\n",
       "      <td>ST</td>\n",
       "    </tr>\n",
       "    <tr>\n",
       "      <th>194765</th>\n",
       "      <td>27</td>\n",
       "      <td>175.26</td>\n",
       "      <td>73.0</td>\n",
       "      <td>FW</td>\n",
       "      <td>89</td>\n",
       "      <td>90</td>\n",
       "      <td>78000000.0</td>\n",
       "      <td>4</td>\n",
       "      <td>4</td>\n",
       "      <td>High/ High</td>\n",
       "      <td>...</td>\n",
       "      <td>70+3</td>\n",
       "      <td>70+3</td>\n",
       "      <td>70+3</td>\n",
       "      <td>72+3</td>\n",
       "      <td>70+3</td>\n",
       "      <td>65+3</td>\n",
       "      <td>65+3</td>\n",
       "      <td>65+3</td>\n",
       "      <td>70+3</td>\n",
       "      <td>CF,ST</td>\n",
       "    </tr>\n",
       "    <tr>\n",
       "      <th>167664</th>\n",
       "      <td>31</td>\n",
       "      <td>185.42</td>\n",
       "      <td>88.9</td>\n",
       "      <td>FW</td>\n",
       "      <td>87</td>\n",
       "      <td>87</td>\n",
       "      <td>48500000.0</td>\n",
       "      <td>4</td>\n",
       "      <td>3</td>\n",
       "      <td>High/ Medium</td>\n",
       "      <td>...</td>\n",
       "      <td>53+3</td>\n",
       "      <td>53+3</td>\n",
       "      <td>53+3</td>\n",
       "      <td>55+3</td>\n",
       "      <td>51+3</td>\n",
       "      <td>48+3</td>\n",
       "      <td>48+3</td>\n",
       "      <td>48+3</td>\n",
       "      <td>51+3</td>\n",
       "      <td>ST</td>\n",
       "    </tr>\n",
       "    <tr>\n",
       "      <th>...</th>\n",
       "      <td>...</td>\n",
       "      <td>...</td>\n",
       "      <td>...</td>\n",
       "      <td>...</td>\n",
       "      <td>...</td>\n",
       "      <td>...</td>\n",
       "      <td>...</td>\n",
       "      <td>...</td>\n",
       "      <td>...</td>\n",
       "      <td>...</td>\n",
       "      <td>...</td>\n",
       "      <td>...</td>\n",
       "      <td>...</td>\n",
       "      <td>...</td>\n",
       "      <td>...</td>\n",
       "      <td>...</td>\n",
       "      <td>...</td>\n",
       "      <td>...</td>\n",
       "      <td>...</td>\n",
       "      <td>...</td>\n",
       "      <td>...</td>\n",
       "    </tr>\n",
       "    <tr>\n",
       "      <th>176580</th>\n",
       "      <td>32</td>\n",
       "      <td>182.88</td>\n",
       "      <td>86.2</td>\n",
       "      <td>FW</td>\n",
       "      <td>91</td>\n",
       "      <td>91</td>\n",
       "      <td>80000000.0</td>\n",
       "      <td>5</td>\n",
       "      <td>3</td>\n",
       "      <td>High/ Medium</td>\n",
       "      <td>...</td>\n",
       "      <td>68+5</td>\n",
       "      <td>68+5</td>\n",
       "      <td>68+5</td>\n",
       "      <td>69+5</td>\n",
       "      <td>66+5</td>\n",
       "      <td>63+5</td>\n",
       "      <td>63+5</td>\n",
       "      <td>63+5</td>\n",
       "      <td>66+5</td>\n",
       "      <td>ST</td>\n",
       "    </tr>\n",
       "    <tr>\n",
       "      <th>20801</th>\n",
       "      <td>34</td>\n",
       "      <td>187.96</td>\n",
       "      <td>83.0</td>\n",
       "      <td>FW</td>\n",
       "      <td>94</td>\n",
       "      <td>94</td>\n",
       "      <td>77000000.0</td>\n",
       "      <td>5</td>\n",
       "      <td>5</td>\n",
       "      <td>High/ Low</td>\n",
       "      <td>...</td>\n",
       "      <td>61+3</td>\n",
       "      <td>61+3</td>\n",
       "      <td>61+3</td>\n",
       "      <td>65+3</td>\n",
       "      <td>61+3</td>\n",
       "      <td>53+3</td>\n",
       "      <td>53+3</td>\n",
       "      <td>53+3</td>\n",
       "      <td>61+3</td>\n",
       "      <td>ST,LW</td>\n",
       "    </tr>\n",
       "    <tr>\n",
       "      <th>232225</th>\n",
       "      <td>20</td>\n",
       "      <td>193.04</td>\n",
       "      <td>87.1</td>\n",
       "      <td>FW</td>\n",
       "      <td>67</td>\n",
       "      <td>79</td>\n",
       "      <td>1400000.0</td>\n",
       "      <td>1</td>\n",
       "      <td>2</td>\n",
       "      <td>Medium/ High</td>\n",
       "      <td>...</td>\n",
       "      <td>45+2</td>\n",
       "      <td>45+2</td>\n",
       "      <td>45+2</td>\n",
       "      <td>46+2</td>\n",
       "      <td>46+2</td>\n",
       "      <td>49+2</td>\n",
       "      <td>49+2</td>\n",
       "      <td>49+2</td>\n",
       "      <td>46+2</td>\n",
       "      <td>ST</td>\n",
       "    </tr>\n",
       "    <tr>\n",
       "      <th>244883</th>\n",
       "      <td>21</td>\n",
       "      <td>175.26</td>\n",
       "      <td>64.9</td>\n",
       "      <td>FW</td>\n",
       "      <td>59</td>\n",
       "      <td>71</td>\n",
       "      <td>280000.0</td>\n",
       "      <td>1</td>\n",
       "      <td>3</td>\n",
       "      <td>Medium/ Low</td>\n",
       "      <td>...</td>\n",
       "      <td>35+2</td>\n",
       "      <td>35+2</td>\n",
       "      <td>35+2</td>\n",
       "      <td>41+2</td>\n",
       "      <td>39+2</td>\n",
       "      <td>32+2</td>\n",
       "      <td>32+2</td>\n",
       "      <td>32+2</td>\n",
       "      <td>39+2</td>\n",
       "      <td>ST,LM</td>\n",
       "    </tr>\n",
       "    <tr>\n",
       "      <th>247187</th>\n",
       "      <td>19</td>\n",
       "      <td>190.50</td>\n",
       "      <td>79.8</td>\n",
       "      <td>FW</td>\n",
       "      <td>59</td>\n",
       "      <td>75</td>\n",
       "      <td>325000.0</td>\n",
       "      <td>1</td>\n",
       "      <td>2</td>\n",
       "      <td>Medium/ Medium</td>\n",
       "      <td>...</td>\n",
       "      <td>40+2</td>\n",
       "      <td>40+2</td>\n",
       "      <td>40+2</td>\n",
       "      <td>41+2</td>\n",
       "      <td>40+2</td>\n",
       "      <td>40+2</td>\n",
       "      <td>40+2</td>\n",
       "      <td>40+2</td>\n",
       "      <td>40+2</td>\n",
       "      <td>ST</td>\n",
       "    </tr>\n",
       "  </tbody>\n",
       "</table>\n",
       "<p>2604 rows × 73 columns</p>\n",
       "</div>"
      ],
      "text/plain": [
       "        Age  Height_Cm  Weight_Kgs Positions  Overall_Rating  Potential  \\\n",
       "Id                                                                        \n",
       "158023   31     170.18        72.1        FW              94         94   \n",
       "153079   30     172.72        69.9        FW              89         89   \n",
       "179813   32     185.42        77.1        FW              89         89   \n",
       "194765   27     175.26        73.0        FW              89         90   \n",
       "167664   31     185.42        88.9        FW              87         87   \n",
       "...     ...        ...         ...       ...             ...        ...   \n",
       "176580   32     182.88        86.2        FW              91         91   \n",
       "20801    34     187.96        83.0        FW              94         94   \n",
       "232225   20     193.04        87.1        FW              67         79   \n",
       "244883   21     175.26        64.9        FW              59         71   \n",
       "247187   19     190.50        79.8        FW              59         75   \n",
       "\n",
       "         Value_Euro  International_Reputation_1_5  Skill_Moves_1_5  \\\n",
       "Id                                                                   \n",
       "158023  110500000.0                             5                4   \n",
       "153079   64500000.0                             4                4   \n",
       "179813   60000000.0                             4                3   \n",
       "194765   78000000.0                             4                4   \n",
       "167664   48500000.0                             4                3   \n",
       "...             ...                           ...              ...   \n",
       "176580   80000000.0                             5                3   \n",
       "20801    77000000.0                             5                5   \n",
       "232225    1400000.0                             1                2   \n",
       "244883     280000.0                             1                3   \n",
       "247187     325000.0                             1                2   \n",
       "\n",
       "             Work_Rate  ...   Ldm   Cdm   Rdm   Rwb    Lb   Lcb    Cb   Rcb  \\\n",
       "Id                      ...                                                   \n",
       "158023     Medium/ Low  ...  61+2  61+2  61+2  64+2  59+2  48+2  48+2  48+2   \n",
       "153079    High/ Medium  ...  56+3  56+3  56+3  58+3  53+3  47+3  47+3  47+3   \n",
       "179813      High/ High  ...  65+3  65+3  65+3  67+3  65+3  63+3  63+3  63+3   \n",
       "194765      High/ High  ...  70+3  70+3  70+3  72+3  70+3  65+3  65+3  65+3   \n",
       "167664    High/ Medium  ...  53+3  53+3  53+3  55+3  51+3  48+3  48+3  48+3   \n",
       "...                ...  ...   ...   ...   ...   ...   ...   ...   ...   ...   \n",
       "176580    High/ Medium  ...  68+5  68+5  68+5  69+5  66+5  63+5  63+5  63+5   \n",
       "20801        High/ Low  ...  61+3  61+3  61+3  65+3  61+3  53+3  53+3  53+3   \n",
       "232225    Medium/ High  ...  45+2  45+2  45+2  46+2  46+2  49+2  49+2  49+2   \n",
       "244883     Medium/ Low  ...  35+2  35+2  35+2  41+2  39+2  32+2  32+2  32+2   \n",
       "247187  Medium/ Medium  ...  40+2  40+2  40+2  41+2  40+2  40+2  40+2  40+2   \n",
       "\n",
       "          Rb  Original_Position  \n",
       "Id                               \n",
       "158023  59+2           CF,RW,ST  \n",
       "153079  53+3                 ST  \n",
       "179813  65+3                 ST  \n",
       "194765  70+3              CF,ST  \n",
       "167664  51+3                 ST  \n",
       "...      ...                ...  \n",
       "176580  66+5                 ST  \n",
       "20801   61+3              ST,LW  \n",
       "232225  46+2                 ST  \n",
       "244883  39+2              ST,LM  \n",
       "247187  40+2                 ST  \n",
       "\n",
       "[2604 rows x 73 columns]"
      ]
     },
     "execution_count": 171,
     "metadata": {},
     "output_type": "execute_result"
    }
   ],
   "source": [
    "df_FW=df[df.Positions==\"FW\"]\n",
    "df_FW.drop(['Name', 'Nationality'], axis=1, inplace=True)\n",
    "df_FW"
   ]
  },
  {
   "cell_type": "code",
   "execution_count": 172,
   "id": "575d58d1",
   "metadata": {
    "scrolled": true
   },
   "outputs": [
    {
     "name": "stderr",
     "output_type": "stream",
     "text": [
      "C:\\Users\\RyanC\\anaconda3\\envs\\mlenv\\lib\\site-packages\\pandas\\core\\frame.py:4913: SettingWithCopyWarning: \n",
      "A value is trying to be set on a copy of a slice from a DataFrame\n",
      "\n",
      "See the caveats in the documentation: https://pandas.pydata.org/pandas-docs/stable/user_guide/indexing.html#returning-a-view-versus-a-copy\n",
      "  errors=errors,\n"
     ]
    },
    {
     "data": {
      "text/html": [
       "<div>\n",
       "<style scoped>\n",
       "    .dataframe tbody tr th:only-of-type {\n",
       "        vertical-align: middle;\n",
       "    }\n",
       "\n",
       "    .dataframe tbody tr th {\n",
       "        vertical-align: top;\n",
       "    }\n",
       "\n",
       "    .dataframe thead th {\n",
       "        text-align: right;\n",
       "    }\n",
       "</style>\n",
       "<table border=\"1\" class=\"dataframe\">\n",
       "  <thead>\n",
       "    <tr style=\"text-align: right;\">\n",
       "      <th></th>\n",
       "      <th>Age</th>\n",
       "      <th>Height_Cm</th>\n",
       "      <th>Weight_Kgs</th>\n",
       "      <th>Positions</th>\n",
       "      <th>Overall_Rating</th>\n",
       "      <th>Potential</th>\n",
       "      <th>Value_Euro</th>\n",
       "      <th>International_Reputation_1_5</th>\n",
       "      <th>Skill_Moves_1_5</th>\n",
       "      <th>Work_Rate</th>\n",
       "      <th>...</th>\n",
       "      <th>Ldm</th>\n",
       "      <th>Cdm</th>\n",
       "      <th>Rdm</th>\n",
       "      <th>Rwb</th>\n",
       "      <th>Lb</th>\n",
       "      <th>Lcb</th>\n",
       "      <th>Cb</th>\n",
       "      <th>Rcb</th>\n",
       "      <th>Rb</th>\n",
       "      <th>Original_Position</th>\n",
       "    </tr>\n",
       "    <tr>\n",
       "      <th>Id</th>\n",
       "      <th></th>\n",
       "      <th></th>\n",
       "      <th></th>\n",
       "      <th></th>\n",
       "      <th></th>\n",
       "      <th></th>\n",
       "      <th></th>\n",
       "      <th></th>\n",
       "      <th></th>\n",
       "      <th></th>\n",
       "      <th></th>\n",
       "      <th></th>\n",
       "      <th></th>\n",
       "      <th></th>\n",
       "      <th></th>\n",
       "      <th></th>\n",
       "      <th></th>\n",
       "      <th></th>\n",
       "      <th></th>\n",
       "      <th></th>\n",
       "      <th></th>\n",
       "    </tr>\n",
       "  </thead>\n",
       "  <tbody>\n",
       "    <tr>\n",
       "      <th>167495</th>\n",
       "      <td>32</td>\n",
       "      <td>193.04</td>\n",
       "      <td>92.1</td>\n",
       "      <td>GK</td>\n",
       "      <td>89</td>\n",
       "      <td>89</td>\n",
       "      <td>38000000.0</td>\n",
       "      <td>5</td>\n",
       "      <td>1</td>\n",
       "      <td>Medium/ Medium</td>\n",
       "      <td>...</td>\n",
       "      <td>NaN</td>\n",
       "      <td>NaN</td>\n",
       "      <td>NaN</td>\n",
       "      <td>NaN</td>\n",
       "      <td>NaN</td>\n",
       "      <td>NaN</td>\n",
       "      <td>NaN</td>\n",
       "      <td>NaN</td>\n",
       "      <td>NaN</td>\n",
       "      <td>GK</td>\n",
       "    </tr>\n",
       "    <tr>\n",
       "      <th>192119</th>\n",
       "      <td>26</td>\n",
       "      <td>198.12</td>\n",
       "      <td>96.2</td>\n",
       "      <td>GK</td>\n",
       "      <td>89</td>\n",
       "      <td>90</td>\n",
       "      <td>53500000.0</td>\n",
       "      <td>4</td>\n",
       "      <td>1</td>\n",
       "      <td>Medium/ Medium</td>\n",
       "      <td>...</td>\n",
       "      <td>NaN</td>\n",
       "      <td>NaN</td>\n",
       "      <td>NaN</td>\n",
       "      <td>NaN</td>\n",
       "      <td>NaN</td>\n",
       "      <td>NaN</td>\n",
       "      <td>NaN</td>\n",
       "      <td>NaN</td>\n",
       "      <td>NaN</td>\n",
       "      <td>GK</td>\n",
       "    </tr>\n",
       "    <tr>\n",
       "      <th>192448</th>\n",
       "      <td>26</td>\n",
       "      <td>187.96</td>\n",
       "      <td>84.8</td>\n",
       "      <td>GK</td>\n",
       "      <td>89</td>\n",
       "      <td>92</td>\n",
       "      <td>58000000.0</td>\n",
       "      <td>3</td>\n",
       "      <td>1</td>\n",
       "      <td>Medium/ Medium</td>\n",
       "      <td>...</td>\n",
       "      <td>NaN</td>\n",
       "      <td>NaN</td>\n",
       "      <td>NaN</td>\n",
       "      <td>NaN</td>\n",
       "      <td>NaN</td>\n",
       "      <td>NaN</td>\n",
       "      <td>NaN</td>\n",
       "      <td>NaN</td>\n",
       "      <td>NaN</td>\n",
       "      <td>GK</td>\n",
       "    </tr>\n",
       "    <tr>\n",
       "      <th>193041</th>\n",
       "      <td>32</td>\n",
       "      <td>185.42</td>\n",
       "      <td>79.8</td>\n",
       "      <td>GK</td>\n",
       "      <td>87</td>\n",
       "      <td>87</td>\n",
       "      <td>30500000.0</td>\n",
       "      <td>3</td>\n",
       "      <td>1</td>\n",
       "      <td>Medium/ Medium</td>\n",
       "      <td>...</td>\n",
       "      <td>NaN</td>\n",
       "      <td>NaN</td>\n",
       "      <td>NaN</td>\n",
       "      <td>NaN</td>\n",
       "      <td>NaN</td>\n",
       "      <td>NaN</td>\n",
       "      <td>NaN</td>\n",
       "      <td>NaN</td>\n",
       "      <td>NaN</td>\n",
       "      <td>GK</td>\n",
       "    </tr>\n",
       "    <tr>\n",
       "      <th>206585</th>\n",
       "      <td>24</td>\n",
       "      <td>185.42</td>\n",
       "      <td>84.8</td>\n",
       "      <td>GK</td>\n",
       "      <td>84</td>\n",
       "      <td>90</td>\n",
       "      <td>31000000.0</td>\n",
       "      <td>1</td>\n",
       "      <td>1</td>\n",
       "      <td>Medium/ Medium</td>\n",
       "      <td>...</td>\n",
       "      <td>NaN</td>\n",
       "      <td>NaN</td>\n",
       "      <td>NaN</td>\n",
       "      <td>NaN</td>\n",
       "      <td>NaN</td>\n",
       "      <td>NaN</td>\n",
       "      <td>NaN</td>\n",
       "      <td>NaN</td>\n",
       "      <td>NaN</td>\n",
       "      <td>GK</td>\n",
       "    </tr>\n",
       "    <tr>\n",
       "      <th>...</th>\n",
       "      <td>...</td>\n",
       "      <td>...</td>\n",
       "      <td>...</td>\n",
       "      <td>...</td>\n",
       "      <td>...</td>\n",
       "      <td>...</td>\n",
       "      <td>...</td>\n",
       "      <td>...</td>\n",
       "      <td>...</td>\n",
       "      <td>...</td>\n",
       "      <td>...</td>\n",
       "      <td>...</td>\n",
       "      <td>...</td>\n",
       "      <td>...</td>\n",
       "      <td>...</td>\n",
       "      <td>...</td>\n",
       "      <td>...</td>\n",
       "      <td>...</td>\n",
       "      <td>...</td>\n",
       "      <td>...</td>\n",
       "      <td>...</td>\n",
       "    </tr>\n",
       "    <tr>\n",
       "      <th>162835</th>\n",
       "      <td>34</td>\n",
       "      <td>193.04</td>\n",
       "      <td>92.1</td>\n",
       "      <td>GK</td>\n",
       "      <td>88</td>\n",
       "      <td>88</td>\n",
       "      <td>30000000.0</td>\n",
       "      <td>3</td>\n",
       "      <td>1</td>\n",
       "      <td>Medium/ Medium</td>\n",
       "      <td>...</td>\n",
       "      <td>NaN</td>\n",
       "      <td>NaN</td>\n",
       "      <td>NaN</td>\n",
       "      <td>NaN</td>\n",
       "      <td>NaN</td>\n",
       "      <td>NaN</td>\n",
       "      <td>NaN</td>\n",
       "      <td>NaN</td>\n",
       "      <td>NaN</td>\n",
       "      <td>GK</td>\n",
       "    </tr>\n",
       "    <tr>\n",
       "      <th>167948</th>\n",
       "      <td>32</td>\n",
       "      <td>187.96</td>\n",
       "      <td>82.1</td>\n",
       "      <td>GK</td>\n",
       "      <td>88</td>\n",
       "      <td>88</td>\n",
       "      <td>36000000.0</td>\n",
       "      <td>4</td>\n",
       "      <td>1</td>\n",
       "      <td>Medium/ Medium</td>\n",
       "      <td>...</td>\n",
       "      <td>NaN</td>\n",
       "      <td>NaN</td>\n",
       "      <td>NaN</td>\n",
       "      <td>NaN</td>\n",
       "      <td>NaN</td>\n",
       "      <td>NaN</td>\n",
       "      <td>NaN</td>\n",
       "      <td>NaN</td>\n",
       "      <td>NaN</td>\n",
       "      <td>GK</td>\n",
       "    </tr>\n",
       "    <tr>\n",
       "      <th>200389</th>\n",
       "      <td>26</td>\n",
       "      <td>187.96</td>\n",
       "      <td>87.1</td>\n",
       "      <td>GK</td>\n",
       "      <td>90</td>\n",
       "      <td>93</td>\n",
       "      <td>68000000.0</td>\n",
       "      <td>3</td>\n",
       "      <td>1</td>\n",
       "      <td>Medium/ Medium</td>\n",
       "      <td>...</td>\n",
       "      <td>NaN</td>\n",
       "      <td>NaN</td>\n",
       "      <td>NaN</td>\n",
       "      <td>NaN</td>\n",
       "      <td>NaN</td>\n",
       "      <td>NaN</td>\n",
       "      <td>NaN</td>\n",
       "      <td>NaN</td>\n",
       "      <td>NaN</td>\n",
       "      <td>GK</td>\n",
       "    </tr>\n",
       "    <tr>\n",
       "      <th>193080</th>\n",
       "      <td>28</td>\n",
       "      <td>193.04</td>\n",
       "      <td>76.2</td>\n",
       "      <td>GK</td>\n",
       "      <td>91</td>\n",
       "      <td>93</td>\n",
       "      <td>72000000.0</td>\n",
       "      <td>4</td>\n",
       "      <td>1</td>\n",
       "      <td>Medium/ Medium</td>\n",
       "      <td>...</td>\n",
       "      <td>NaN</td>\n",
       "      <td>NaN</td>\n",
       "      <td>NaN</td>\n",
       "      <td>NaN</td>\n",
       "      <td>NaN</td>\n",
       "      <td>NaN</td>\n",
       "      <td>NaN</td>\n",
       "      <td>NaN</td>\n",
       "      <td>NaN</td>\n",
       "      <td>GK</td>\n",
       "    </tr>\n",
       "    <tr>\n",
       "      <th>235155</th>\n",
       "      <td>22</td>\n",
       "      <td>185.42</td>\n",
       "      <td>89.8</td>\n",
       "      <td>GK</td>\n",
       "      <td>59</td>\n",
       "      <td>67</td>\n",
       "      <td>170000.0</td>\n",
       "      <td>1</td>\n",
       "      <td>1</td>\n",
       "      <td>Medium/ Medium</td>\n",
       "      <td>...</td>\n",
       "      <td>NaN</td>\n",
       "      <td>NaN</td>\n",
       "      <td>NaN</td>\n",
       "      <td>NaN</td>\n",
       "      <td>NaN</td>\n",
       "      <td>NaN</td>\n",
       "      <td>NaN</td>\n",
       "      <td>NaN</td>\n",
       "      <td>NaN</td>\n",
       "      <td>GK</td>\n",
       "    </tr>\n",
       "  </tbody>\n",
       "</table>\n",
       "<p>2065 rows × 73 columns</p>\n",
       "</div>"
      ],
      "text/plain": [
       "        Age  Height_Cm  Weight_Kgs Positions  Overall_Rating  Potential  \\\n",
       "Id                                                                        \n",
       "167495   32     193.04        92.1        GK              89         89   \n",
       "192119   26     198.12        96.2        GK              89         90   \n",
       "192448   26     187.96        84.8        GK              89         92   \n",
       "193041   32     185.42        79.8        GK              87         87   \n",
       "206585   24     185.42        84.8        GK              84         90   \n",
       "...     ...        ...         ...       ...             ...        ...   \n",
       "162835   34     193.04        92.1        GK              88         88   \n",
       "167948   32     187.96        82.1        GK              88         88   \n",
       "200389   26     187.96        87.1        GK              90         93   \n",
       "193080   28     193.04        76.2        GK              91         93   \n",
       "235155   22     185.42        89.8        GK              59         67   \n",
       "\n",
       "        Value_Euro  International_Reputation_1_5  Skill_Moves_1_5  \\\n",
       "Id                                                                  \n",
       "167495  38000000.0                             5                1   \n",
       "192119  53500000.0                             4                1   \n",
       "192448  58000000.0                             3                1   \n",
       "193041  30500000.0                             3                1   \n",
       "206585  31000000.0                             1                1   \n",
       "...            ...                           ...              ...   \n",
       "162835  30000000.0                             3                1   \n",
       "167948  36000000.0                             4                1   \n",
       "200389  68000000.0                             3                1   \n",
       "193080  72000000.0                             4                1   \n",
       "235155    170000.0                             1                1   \n",
       "\n",
       "             Work_Rate  ...  Ldm  Cdm  Rdm  Rwb   Lb  Lcb   Cb  Rcb   Rb  \\\n",
       "Id                      ...                                                \n",
       "167495  Medium/ Medium  ...  NaN  NaN  NaN  NaN  NaN  NaN  NaN  NaN  NaN   \n",
       "192119  Medium/ Medium  ...  NaN  NaN  NaN  NaN  NaN  NaN  NaN  NaN  NaN   \n",
       "192448  Medium/ Medium  ...  NaN  NaN  NaN  NaN  NaN  NaN  NaN  NaN  NaN   \n",
       "193041  Medium/ Medium  ...  NaN  NaN  NaN  NaN  NaN  NaN  NaN  NaN  NaN   \n",
       "206585  Medium/ Medium  ...  NaN  NaN  NaN  NaN  NaN  NaN  NaN  NaN  NaN   \n",
       "...                ...  ...  ...  ...  ...  ...  ...  ...  ...  ...  ...   \n",
       "162835  Medium/ Medium  ...  NaN  NaN  NaN  NaN  NaN  NaN  NaN  NaN  NaN   \n",
       "167948  Medium/ Medium  ...  NaN  NaN  NaN  NaN  NaN  NaN  NaN  NaN  NaN   \n",
       "200389  Medium/ Medium  ...  NaN  NaN  NaN  NaN  NaN  NaN  NaN  NaN  NaN   \n",
       "193080  Medium/ Medium  ...  NaN  NaN  NaN  NaN  NaN  NaN  NaN  NaN  NaN   \n",
       "235155  Medium/ Medium  ...  NaN  NaN  NaN  NaN  NaN  NaN  NaN  NaN  NaN   \n",
       "\n",
       "        Original_Position  \n",
       "Id                         \n",
       "167495                 GK  \n",
       "192119                 GK  \n",
       "192448                 GK  \n",
       "193041                 GK  \n",
       "206585                 GK  \n",
       "...                   ...  \n",
       "162835                 GK  \n",
       "167948                 GK  \n",
       "200389                 GK  \n",
       "193080                 GK  \n",
       "235155                 GK  \n",
       "\n",
       "[2065 rows x 73 columns]"
      ]
     },
     "execution_count": 172,
     "metadata": {},
     "output_type": "execute_result"
    }
   ],
   "source": [
    "df_GK=df[df.Positions==\"GK\"]\n",
    "df_GK.drop(['Name', 'Nationality'], axis=1, inplace=True)\n",
    "df_GK"
   ]
  },
  {
   "cell_type": "code",
   "execution_count": 173,
   "id": "c187f461",
   "metadata": {
    "scrolled": true
   },
   "outputs": [
    {
     "name": "stderr",
     "output_type": "stream",
     "text": [
      "C:\\Users\\RyanC\\anaconda3\\envs\\mlenv\\lib\\site-packages\\pandas\\core\\frame.py:4913: SettingWithCopyWarning: \n",
      "A value is trying to be set on a copy of a slice from a DataFrame\n",
      "\n",
      "See the caveats in the documentation: https://pandas.pydata.org/pandas-docs/stable/user_guide/indexing.html#returning-a-view-versus-a-copy\n",
      "  errors=errors,\n"
     ]
    },
    {
     "data": {
      "text/html": [
       "<div>\n",
       "<style scoped>\n",
       "    .dataframe tbody tr th:only-of-type {\n",
       "        vertical-align: middle;\n",
       "    }\n",
       "\n",
       "    .dataframe tbody tr th {\n",
       "        vertical-align: top;\n",
       "    }\n",
       "\n",
       "    .dataframe thead th {\n",
       "        text-align: right;\n",
       "    }\n",
       "</style>\n",
       "<table border=\"1\" class=\"dataframe\">\n",
       "  <thead>\n",
       "    <tr style=\"text-align: right;\">\n",
       "      <th></th>\n",
       "      <th>Age</th>\n",
       "      <th>Height_Cm</th>\n",
       "      <th>Weight_Kgs</th>\n",
       "      <th>Positions</th>\n",
       "      <th>Overall_Rating</th>\n",
       "      <th>Potential</th>\n",
       "      <th>Value_Euro</th>\n",
       "      <th>International_Reputation_1_5</th>\n",
       "      <th>Skill_Moves_1_5</th>\n",
       "      <th>Work_Rate</th>\n",
       "      <th>...</th>\n",
       "      <th>Ldm</th>\n",
       "      <th>Cdm</th>\n",
       "      <th>Rdm</th>\n",
       "      <th>Rwb</th>\n",
       "      <th>Lb</th>\n",
       "      <th>Lcb</th>\n",
       "      <th>Cb</th>\n",
       "      <th>Rcb</th>\n",
       "      <th>Rb</th>\n",
       "      <th>Original_Position</th>\n",
       "    </tr>\n",
       "    <tr>\n",
       "      <th>Id</th>\n",
       "      <th></th>\n",
       "      <th></th>\n",
       "      <th></th>\n",
       "      <th></th>\n",
       "      <th></th>\n",
       "      <th></th>\n",
       "      <th></th>\n",
       "      <th></th>\n",
       "      <th></th>\n",
       "      <th></th>\n",
       "      <th></th>\n",
       "      <th></th>\n",
       "      <th></th>\n",
       "      <th></th>\n",
       "      <th></th>\n",
       "      <th></th>\n",
       "      <th></th>\n",
       "      <th></th>\n",
       "      <th></th>\n",
       "      <th></th>\n",
       "      <th></th>\n",
       "    </tr>\n",
       "  </thead>\n",
       "  <tbody>\n",
       "    <tr>\n",
       "      <th>190460</th>\n",
       "      <td>27</td>\n",
       "      <td>154.94</td>\n",
       "      <td>76.2</td>\n",
       "      <td>MF</td>\n",
       "      <td>88</td>\n",
       "      <td>89</td>\n",
       "      <td>69500000.0</td>\n",
       "      <td>3</td>\n",
       "      <td>4</td>\n",
       "      <td>High/ Medium</td>\n",
       "      <td>...</td>\n",
       "      <td>71+3</td>\n",
       "      <td>71+3</td>\n",
       "      <td>71+3</td>\n",
       "      <td>71+3</td>\n",
       "      <td>66+3</td>\n",
       "      <td>57+3</td>\n",
       "      <td>57+3</td>\n",
       "      <td>57+3</td>\n",
       "      <td>66+3</td>\n",
       "      <td>CAM,RM,CM</td>\n",
       "    </tr>\n",
       "    <tr>\n",
       "      <th>195864</th>\n",
       "      <td>25</td>\n",
       "      <td>190.50</td>\n",
       "      <td>83.9</td>\n",
       "      <td>MF</td>\n",
       "      <td>88</td>\n",
       "      <td>91</td>\n",
       "      <td>73000000.0</td>\n",
       "      <td>4</td>\n",
       "      <td>5</td>\n",
       "      <td>High/ Medium</td>\n",
       "      <td>...</td>\n",
       "      <td>77+3</td>\n",
       "      <td>77+3</td>\n",
       "      <td>77+3</td>\n",
       "      <td>76+3</td>\n",
       "      <td>74+3</td>\n",
       "      <td>72+3</td>\n",
       "      <td>72+3</td>\n",
       "      <td>72+3</td>\n",
       "      <td>74+3</td>\n",
       "      <td>CM,CAM</td>\n",
       "    </tr>\n",
       "    <tr>\n",
       "      <th>198219</th>\n",
       "      <td>27</td>\n",
       "      <td>162.56</td>\n",
       "      <td>59.0</td>\n",
       "      <td>MF</td>\n",
       "      <td>88</td>\n",
       "      <td>88</td>\n",
       "      <td>62000000.0</td>\n",
       "      <td>3</td>\n",
       "      <td>4</td>\n",
       "      <td>High/ Medium</td>\n",
       "      <td>...</td>\n",
       "      <td>58+3</td>\n",
       "      <td>58+3</td>\n",
       "      <td>58+3</td>\n",
       "      <td>63+3</td>\n",
       "      <td>58+3</td>\n",
       "      <td>44+3</td>\n",
       "      <td>44+3</td>\n",
       "      <td>44+3</td>\n",
       "      <td>58+3</td>\n",
       "      <td>LW,ST</td>\n",
       "    </tr>\n",
       "    <tr>\n",
       "      <th>189511</th>\n",
       "      <td>30</td>\n",
       "      <td>187.96</td>\n",
       "      <td>76.2</td>\n",
       "      <td>MF</td>\n",
       "      <td>89</td>\n",
       "      <td>89</td>\n",
       "      <td>51500000.0</td>\n",
       "      <td>4</td>\n",
       "      <td>3</td>\n",
       "      <td>Medium/ Medium</td>\n",
       "      <td>...</td>\n",
       "      <td>86+3</td>\n",
       "      <td>86+3</td>\n",
       "      <td>86+3</td>\n",
       "      <td>79+3</td>\n",
       "      <td>78+3</td>\n",
       "      <td>82+3</td>\n",
       "      <td>82+3</td>\n",
       "      <td>82+3</td>\n",
       "      <td>78+3</td>\n",
       "      <td>CDM,CM</td>\n",
       "    </tr>\n",
       "    <tr>\n",
       "      <th>211110</th>\n",
       "      <td>25</td>\n",
       "      <td>152.40</td>\n",
       "      <td>74.8</td>\n",
       "      <td>MF</td>\n",
       "      <td>89</td>\n",
       "      <td>94</td>\n",
       "      <td>89000000.0</td>\n",
       "      <td>3</td>\n",
       "      <td>4</td>\n",
       "      <td>Medium/ Medium</td>\n",
       "      <td>...</td>\n",
       "      <td>58+3</td>\n",
       "      <td>58+3</td>\n",
       "      <td>58+3</td>\n",
       "      <td>62+3</td>\n",
       "      <td>56+3</td>\n",
       "      <td>45+3</td>\n",
       "      <td>45+3</td>\n",
       "      <td>45+3</td>\n",
       "      <td>56+3</td>\n",
       "      <td>CAM,RW</td>\n",
       "    </tr>\n",
       "    <tr>\n",
       "      <th>...</th>\n",
       "      <td>...</td>\n",
       "      <td>...</td>\n",
       "      <td>...</td>\n",
       "      <td>...</td>\n",
       "      <td>...</td>\n",
       "      <td>...</td>\n",
       "      <td>...</td>\n",
       "      <td>...</td>\n",
       "      <td>...</td>\n",
       "      <td>...</td>\n",
       "      <td>...</td>\n",
       "      <td>...</td>\n",
       "      <td>...</td>\n",
       "      <td>...</td>\n",
       "      <td>...</td>\n",
       "      <td>...</td>\n",
       "      <td>...</td>\n",
       "      <td>...</td>\n",
       "      <td>...</td>\n",
       "      <td>...</td>\n",
       "      <td>...</td>\n",
       "    </tr>\n",
       "    <tr>\n",
       "      <th>192985</th>\n",
       "      <td>27</td>\n",
       "      <td>154.94</td>\n",
       "      <td>69.9</td>\n",
       "      <td>MF</td>\n",
       "      <td>91</td>\n",
       "      <td>92</td>\n",
       "      <td>102000000.0</td>\n",
       "      <td>4</td>\n",
       "      <td>4</td>\n",
       "      <td>High/ High</td>\n",
       "      <td>...</td>\n",
       "      <td>77+3</td>\n",
       "      <td>77+3</td>\n",
       "      <td>77+3</td>\n",
       "      <td>77+3</td>\n",
       "      <td>73+3</td>\n",
       "      <td>66+3</td>\n",
       "      <td>66+3</td>\n",
       "      <td>66+3</td>\n",
       "      <td>73+3</td>\n",
       "      <td>CAM,CM</td>\n",
       "    </tr>\n",
       "    <tr>\n",
       "      <th>190871</th>\n",
       "      <td>27</td>\n",
       "      <td>175.26</td>\n",
       "      <td>68.0</td>\n",
       "      <td>MF</td>\n",
       "      <td>92</td>\n",
       "      <td>92</td>\n",
       "      <td>108000000.0</td>\n",
       "      <td>5</td>\n",
       "      <td>5</td>\n",
       "      <td>High/ Medium</td>\n",
       "      <td>...</td>\n",
       "      <td>60+3</td>\n",
       "      <td>60+3</td>\n",
       "      <td>60+3</td>\n",
       "      <td>66+3</td>\n",
       "      <td>61+3</td>\n",
       "      <td>47+3</td>\n",
       "      <td>47+3</td>\n",
       "      <td>47+3</td>\n",
       "      <td>61+3</td>\n",
       "      <td>LW,CAM</td>\n",
       "    </tr>\n",
       "    <tr>\n",
       "      <th>242209</th>\n",
       "      <td>26</td>\n",
       "      <td>175.26</td>\n",
       "      <td>72.1</td>\n",
       "      <td>MF</td>\n",
       "      <td>67</td>\n",
       "      <td>67</td>\n",
       "      <td>825000.0</td>\n",
       "      <td>1</td>\n",
       "      <td>3</td>\n",
       "      <td>Medium/ High</td>\n",
       "      <td>...</td>\n",
       "      <td>67+2</td>\n",
       "      <td>67+2</td>\n",
       "      <td>67+2</td>\n",
       "      <td>65+2</td>\n",
       "      <td>64+2</td>\n",
       "      <td>65+2</td>\n",
       "      <td>65+2</td>\n",
       "      <td>65+2</td>\n",
       "      <td>64+2</td>\n",
       "      <td>CM,CB</td>\n",
       "    </tr>\n",
       "    <tr>\n",
       "      <th>198690</th>\n",
       "      <td>27</td>\n",
       "      <td>170.18</td>\n",
       "      <td>67.1</td>\n",
       "      <td>MF</td>\n",
       "      <td>67</td>\n",
       "      <td>68</td>\n",
       "      <td>900000.0</td>\n",
       "      <td>1</td>\n",
       "      <td>3</td>\n",
       "      <td>Medium/ Low</td>\n",
       "      <td>...</td>\n",
       "      <td>50+2</td>\n",
       "      <td>50+2</td>\n",
       "      <td>50+2</td>\n",
       "      <td>53+2</td>\n",
       "      <td>50+2</td>\n",
       "      <td>43+2</td>\n",
       "      <td>43+2</td>\n",
       "      <td>43+2</td>\n",
       "      <td>50+2</td>\n",
       "      <td>CAM</td>\n",
       "    </tr>\n",
       "    <tr>\n",
       "      <th>204322</th>\n",
       "      <td>25</td>\n",
       "      <td>175.26</td>\n",
       "      <td>74.8</td>\n",
       "      <td>MF</td>\n",
       "      <td>67</td>\n",
       "      <td>70</td>\n",
       "      <td>975000.0</td>\n",
       "      <td>1</td>\n",
       "      <td>3</td>\n",
       "      <td>High/ Medium</td>\n",
       "      <td>...</td>\n",
       "      <td>52+2</td>\n",
       "      <td>52+2</td>\n",
       "      <td>52+2</td>\n",
       "      <td>53+2</td>\n",
       "      <td>50+2</td>\n",
       "      <td>46+2</td>\n",
       "      <td>46+2</td>\n",
       "      <td>46+2</td>\n",
       "      <td>50+2</td>\n",
       "      <td>RM,CAM,CM</td>\n",
       "    </tr>\n",
       "  </tbody>\n",
       "</table>\n",
       "<p>7178 rows × 73 columns</p>\n",
       "</div>"
      ],
      "text/plain": [
       "        Age  Height_Cm  Weight_Kgs Positions  Overall_Rating  Potential  \\\n",
       "Id                                                                        \n",
       "190460   27     154.94        76.2        MF              88         89   \n",
       "195864   25     190.50        83.9        MF              88         91   \n",
       "198219   27     162.56        59.0        MF              88         88   \n",
       "189511   30     187.96        76.2        MF              89         89   \n",
       "211110   25     152.40        74.8        MF              89         94   \n",
       "...     ...        ...         ...       ...             ...        ...   \n",
       "192985   27     154.94        69.9        MF              91         92   \n",
       "190871   27     175.26        68.0        MF              92         92   \n",
       "242209   26     175.26        72.1        MF              67         67   \n",
       "198690   27     170.18        67.1        MF              67         68   \n",
       "204322   25     175.26        74.8        MF              67         70   \n",
       "\n",
       "         Value_Euro  International_Reputation_1_5  Skill_Moves_1_5  \\\n",
       "Id                                                                   \n",
       "190460   69500000.0                             3                4   \n",
       "195864   73000000.0                             4                5   \n",
       "198219   62000000.0                             3                4   \n",
       "189511   51500000.0                             4                3   \n",
       "211110   89000000.0                             3                4   \n",
       "...             ...                           ...              ...   \n",
       "192985  102000000.0                             4                4   \n",
       "190871  108000000.0                             5                5   \n",
       "242209     825000.0                             1                3   \n",
       "198690     900000.0                             1                3   \n",
       "204322     975000.0                             1                3   \n",
       "\n",
       "             Work_Rate  ...   Ldm   Cdm   Rdm   Rwb    Lb   Lcb    Cb   Rcb  \\\n",
       "Id                      ...                                                   \n",
       "190460    High/ Medium  ...  71+3  71+3  71+3  71+3  66+3  57+3  57+3  57+3   \n",
       "195864    High/ Medium  ...  77+3  77+3  77+3  76+3  74+3  72+3  72+3  72+3   \n",
       "198219    High/ Medium  ...  58+3  58+3  58+3  63+3  58+3  44+3  44+3  44+3   \n",
       "189511  Medium/ Medium  ...  86+3  86+3  86+3  79+3  78+3  82+3  82+3  82+3   \n",
       "211110  Medium/ Medium  ...  58+3  58+3  58+3  62+3  56+3  45+3  45+3  45+3   \n",
       "...                ...  ...   ...   ...   ...   ...   ...   ...   ...   ...   \n",
       "192985      High/ High  ...  77+3  77+3  77+3  77+3  73+3  66+3  66+3  66+3   \n",
       "190871    High/ Medium  ...  60+3  60+3  60+3  66+3  61+3  47+3  47+3  47+3   \n",
       "242209    Medium/ High  ...  67+2  67+2  67+2  65+2  64+2  65+2  65+2  65+2   \n",
       "198690     Medium/ Low  ...  50+2  50+2  50+2  53+2  50+2  43+2  43+2  43+2   \n",
       "204322    High/ Medium  ...  52+2  52+2  52+2  53+2  50+2  46+2  46+2  46+2   \n",
       "\n",
       "          Rb  Original_Position  \n",
       "Id                               \n",
       "190460  66+3          CAM,RM,CM  \n",
       "195864  74+3             CM,CAM  \n",
       "198219  58+3              LW,ST  \n",
       "189511  78+3             CDM,CM  \n",
       "211110  56+3             CAM,RW  \n",
       "...      ...                ...  \n",
       "192985  73+3             CAM,CM  \n",
       "190871  61+3             LW,CAM  \n",
       "242209  64+2              CM,CB  \n",
       "198690  50+2                CAM  \n",
       "204322  50+2          RM,CAM,CM  \n",
       "\n",
       "[7178 rows x 73 columns]"
      ]
     },
     "execution_count": 173,
     "metadata": {},
     "output_type": "execute_result"
    }
   ],
   "source": [
    "df_MF=df[df.Positions==\"MF\"]\n",
    "df_MF.drop(['Name', 'Nationality'], axis=1, inplace=True)\n",
    "df_MF"
   ]
  },
  {
   "cell_type": "code",
   "execution_count": 174,
   "id": "c4405a0b",
   "metadata": {},
   "outputs": [
    {
     "data": {
      "text/html": [
       "<div>\n",
       "<style scoped>\n",
       "    .dataframe tbody tr th:only-of-type {\n",
       "        vertical-align: middle;\n",
       "    }\n",
       "\n",
       "    .dataframe tbody tr th {\n",
       "        vertical-align: top;\n",
       "    }\n",
       "\n",
       "    .dataframe thead th {\n",
       "        text-align: right;\n",
       "    }\n",
       "</style>\n",
       "<table border=\"1\" class=\"dataframe\">\n",
       "  <thead>\n",
       "    <tr style=\"text-align: right;\">\n",
       "      <th></th>\n",
       "      <th>Overall_Rating</th>\n",
       "      <th>International_Reputation_1_5</th>\n",
       "      <th>Skill_Moves_1_5</th>\n",
       "      <th>Value_Euro</th>\n",
       "    </tr>\n",
       "    <tr>\n",
       "      <th>Id</th>\n",
       "      <th></th>\n",
       "      <th></th>\n",
       "      <th></th>\n",
       "      <th></th>\n",
       "    </tr>\n",
       "  </thead>\n",
       "  <tbody>\n",
       "    <tr>\n",
       "      <th>158023</th>\n",
       "      <td>94</td>\n",
       "      <td>5</td>\n",
       "      <td>4</td>\n",
       "      <td>110500000.0</td>\n",
       "    </tr>\n",
       "    <tr>\n",
       "      <th>190460</th>\n",
       "      <td>88</td>\n",
       "      <td>3</td>\n",
       "      <td>4</td>\n",
       "      <td>69500000.0</td>\n",
       "    </tr>\n",
       "    <tr>\n",
       "      <th>195864</th>\n",
       "      <td>88</td>\n",
       "      <td>4</td>\n",
       "      <td>5</td>\n",
       "      <td>73000000.0</td>\n",
       "    </tr>\n",
       "    <tr>\n",
       "      <th>198219</th>\n",
       "      <td>88</td>\n",
       "      <td>3</td>\n",
       "      <td>4</td>\n",
       "      <td>62000000.0</td>\n",
       "    </tr>\n",
       "    <tr>\n",
       "      <th>201024</th>\n",
       "      <td>88</td>\n",
       "      <td>3</td>\n",
       "      <td>2</td>\n",
       "      <td>60000000.0</td>\n",
       "    </tr>\n",
       "  </tbody>\n",
       "</table>\n",
       "</div>"
      ],
      "text/plain": [
       "        Overall_Rating  International_Reputation_1_5  Skill_Moves_1_5  \\\n",
       "Id                                                                      \n",
       "158023              94                             5                4   \n",
       "190460              88                             3                4   \n",
       "195864              88                             4                5   \n",
       "198219              88                             3                4   \n",
       "201024              88                             3                2   \n",
       "\n",
       "         Value_Euro  \n",
       "Id                   \n",
       "158023  110500000.0  \n",
       "190460   69500000.0  \n",
       "195864   73000000.0  \n",
       "198219   62000000.0  \n",
       "201024   60000000.0  "
      ]
     },
     "execution_count": 174,
     "metadata": {},
     "output_type": "execute_result"
    }
   ],
   "source": [
    "dfrating=df.filter([\"Overall_Rating\",\"International_Reputation_1_5\",\"Skill_Moves_1_5\",\"Value_Euro\"],axis=1)\n",
    "dfrating.head()"
   ]
  },
  {
   "cell_type": "code",
   "execution_count": 175,
   "id": "1cebbf09",
   "metadata": {
    "scrolled": true
   },
   "outputs": [
    {
     "name": "stdout",
     "output_type": "stream",
     "text": [
      "(17954, 4)\n",
      "(17954, 30)\n",
      "(6107, 73)\n",
      "(2604, 73)\n",
      "(7178, 73)\n",
      "(2065, 73)\n",
      "(17954, 4)\n"
     ]
    }
   ],
   "source": [
    "print(df_demo.shape)\n",
    "print(df_skills.shape)\n",
    "print(df_DF.shape)\n",
    "print(df_FW.shape)\n",
    "print(df_MF.shape)\n",
    "print(df_GK.shape)\n",
    "print(dfrating.shape)"
   ]
  },
  {
   "cell_type": "code",
   "execution_count": 176,
   "id": "ba092415",
   "metadata": {
    "scrolled": true
   },
   "outputs": [
    {
     "data": {
      "text/plain": [
       "Crossing               0\n",
       "Finishing              0\n",
       "Heading_Accuracy       0\n",
       "Short_Passing          0\n",
       "Volleys                0\n",
       "Dribbling              0\n",
       "Curve                  0\n",
       "Freekick_Accuracy      0\n",
       "Long_Passing           0\n",
       "Ball_Control           0\n",
       "Acceleration           0\n",
       "Sprint_Speed           0\n",
       "Agility                0\n",
       "Reactions              0\n",
       "Balance                0\n",
       "Shot_Power             0\n",
       "Jumping                0\n",
       "Stamina                0\n",
       "Strength               0\n",
       "Long_Shots             0\n",
       "Aggression             0\n",
       "Interceptions          0\n",
       "Positioning            0\n",
       "Vision                 0\n",
       "Penalties              0\n",
       "Composure              0\n",
       "Marking                0\n",
       "Standing_Tackle        0\n",
       "Sliding_Tackle         0\n",
       "Value_Euro           255\n",
       "dtype: int64"
      ]
     },
     "execution_count": 176,
     "metadata": {},
     "output_type": "execute_result"
    }
   ],
   "source": [
    "df_skills.isnull().sum()"
   ]
  },
  {
   "cell_type": "markdown",
   "id": "9b83c541",
   "metadata": {},
   "source": [
    "# GK"
   ]
  },
  {
   "cell_type": "code",
   "execution_count": 276,
   "id": "b821246a",
   "metadata": {},
   "outputs": [],
   "source": [
    "y = df_GK.Value_Euro\n",
    "x =df_GK.Overall_Rating.values"
   ]
  },
  {
   "cell_type": "code",
   "execution_count": 277,
   "id": "2f7a9164",
   "metadata": {},
   "outputs": [
    {
     "data": {
      "text/plain": [
       "(2065,)"
      ]
     },
     "execution_count": 277,
     "metadata": {},
     "output_type": "execute_result"
    }
   ],
   "source": [
    "x.shape"
   ]
  },
  {
   "cell_type": "code",
   "execution_count": 278,
   "id": "0726bb63",
   "metadata": {},
   "outputs": [
    {
     "data": {
      "text/plain": [
       "(2065,)"
      ]
     },
     "execution_count": 278,
     "metadata": {},
     "output_type": "execute_result"
    }
   ],
   "source": [
    "y.shape"
   ]
  },
  {
   "cell_type": "code",
   "execution_count": 279,
   "id": "8d1601a5",
   "metadata": {},
   "outputs": [
    {
     "data": {
      "text/plain": [
       "(1376,)"
      ]
     },
     "execution_count": 279,
     "metadata": {},
     "output_type": "execute_result"
    }
   ],
   "source": [
    "# split into training and testing sets \n",
    "from sklearn.model_selection import train_test_split \n",
    "\n",
    "x_train, x_test, y_train, y_test = train_test_split(x, y, test_size=1/3, random_state=0)\n",
    "\n",
    "x_train.shape"
   ]
  },
  {
   "cell_type": "code",
   "execution_count": 281,
   "id": "75be3b76",
   "metadata": {},
   "outputs": [
    {
     "ename": "AttributeError",
     "evalue": "'numpy.ndarray' object has no attribute 'values'",
     "output_type": "error",
     "traceback": [
      "\u001b[1;31m---------------------------------------------------------------------------\u001b[0m",
      "\u001b[1;31mAttributeError\u001b[0m                            Traceback (most recent call last)",
      "\u001b[1;32m~\\AppData\\Local\\Temp/ipykernel_13156/3509862837.py\u001b[0m in \u001b[0;36m<module>\u001b[1;34m\u001b[0m\n\u001b[1;32m----> 1\u001b[1;33m \u001b[0mx_train\u001b[0m\u001b[1;33m=\u001b[0m \u001b[0mx_train\u001b[0m\u001b[1;33m.\u001b[0m\u001b[0mvalues\u001b[0m\u001b[1;33m.\u001b[0m\u001b[0mreshape\u001b[0m\u001b[1;33m(\u001b[0m\u001b[1;33m-\u001b[0m\u001b[1;36m1\u001b[0m\u001b[1;33m,\u001b[0m \u001b[1;36m1\u001b[0m\u001b[1;33m)\u001b[0m\u001b[1;33m\u001b[0m\u001b[1;33m\u001b[0m\u001b[0m\n\u001b[0m\u001b[0;32m      2\u001b[0m \u001b[0my_train\u001b[0m\u001b[1;33m=\u001b[0m \u001b[0my_train\u001b[0m\u001b[1;33m.\u001b[0m\u001b[0mvalues\u001b[0m\u001b[1;33m.\u001b[0m\u001b[0mreshape\u001b[0m\u001b[1;33m(\u001b[0m\u001b[1;33m-\u001b[0m\u001b[1;36m1\u001b[0m\u001b[1;33m,\u001b[0m \u001b[1;36m1\u001b[0m\u001b[1;33m)\u001b[0m\u001b[1;33m\u001b[0m\u001b[1;33m\u001b[0m\u001b[0m\n\u001b[0;32m      3\u001b[0m \u001b[0mx_test\u001b[0m \u001b[1;33m=\u001b[0m \u001b[0mx_test\u001b[0m\u001b[1;33m.\u001b[0m\u001b[0mvalues\u001b[0m\u001b[1;33m.\u001b[0m\u001b[0mreshape\u001b[0m\u001b[1;33m(\u001b[0m\u001b[1;33m-\u001b[0m\u001b[1;36m1\u001b[0m\u001b[1;33m,\u001b[0m \u001b[1;36m1\u001b[0m\u001b[1;33m)\u001b[0m\u001b[1;33m\u001b[0m\u001b[1;33m\u001b[0m\u001b[0m\n\u001b[0;32m      4\u001b[0m \u001b[0my_test\u001b[0m \u001b[1;33m=\u001b[0m \u001b[0my_test\u001b[0m\u001b[1;33m.\u001b[0m\u001b[0mvalues\u001b[0m\u001b[1;33m.\u001b[0m\u001b[0mreshape\u001b[0m\u001b[1;33m(\u001b[0m\u001b[1;33m-\u001b[0m\u001b[1;36m1\u001b[0m\u001b[1;33m,\u001b[0m\u001b[1;36m1\u001b[0m\u001b[1;33m)\u001b[0m\u001b[1;33m\u001b[0m\u001b[1;33m\u001b[0m\u001b[0m\n",
      "\u001b[1;31mAttributeError\u001b[0m: 'numpy.ndarray' object has no attribute 'values'"
     ]
    }
   ],
   "source": [
    "x_train= x_train.values.reshape(-1, 1)\n",
    "y_train= y_train.values.reshape(-1, 1)\n",
    "x_test = x_test.values.reshape(-1, 1)\n",
    "y_test = y_test.values.reshape(-1,1)\n"
   ]
  },
  {
   "cell_type": "code",
   "execution_count": 280,
   "id": "da40c3be",
   "metadata": {},
   "outputs": [
    {
     "ename": "ValueError",
     "evalue": "Expected 2D array, got 1D array instead:\narray=[56 58 61 66 66 56 58 69 53 62 57 57 75 58 72 57 69 55 69 59 60 58 61 68\n 53 72 66 61 60 68 70 53 72 61 72 68 63 77 53 65 60 79 60 62 70 60 58 66\n 66 57 63 64 56 62 66 66 68 68 71 55 66 63 55 62 71 54 65 58 69 76 72 59\n 68 67 69 60 66 61 65 65 60 69 58 47 62 63 62 54 79 56 54 74 67 59 60 69\n 65 54 62 51 57 69 66 64 78 55 63 61 84 65 83 63 61 61 75 67 67 66 83 91\n 73 63 59 59 54 69 71 73 72 73 56 69 67 75 63 71 65 57 56 72 76 70 67 60\n 63 63 66 64 51 55 63 61 64 57 76 50 63 69 66 63 55 55 56 74 62 61 70 60\n 72 62 72 59 68 50 70 82 59 60 69 64 80 61 54 72 58 73 60 82 65 61 74 59\n 63 65 61 56 65 54 77 58 65 63 68 61 62 69 63 66 74 68 64 71 69 79 65 71\n 70 72 65 68 50 65 65 54 71 77 68 69 75 72 68 60 65 62 60 53 65 54 56 58\n 79 76 60 75 62 65 61 69 69 73 68 63 70 58 64 63 67 82 54 61 73 68 64 63\n 54 58 58 64 80 76 50 67 65 60 53 68 73 56 63 69 63 68 67 57 52 64 69 63\n 71 73 61 74 77 53 74 66 67 58 58 67 53 75 57 53 59 77 73 70 73 58 70 55\n 66 56 80 73 58 58 67 72 65 52 73 64 72 58 83 57 63 50 50 65 79 66 71 70\n 54 68 65 65 65 69 70 60 60 73 61 74 69 70 58 67 60 64 64 53 56 55 53 67\n 67 66 56 62 88 53 57 63 60 66 70 72 75 80 76 62 61 64 60 73 61 53 80 67\n 56 76 71 76 64 67 82 74 62 64 53 76 60 69 60 63 71 73 63 61 53 68 66 62\n 64 73 69 69 69 54 68 51 74 79 52 70 79 68 68 74 71 63 60 73 61 47 65 57\n 89 62 59 70 59 61 69 68 72 52 64 57 67 63 67 65 63 72 66 69 53 75 57 70\n 61 67 74 63 69 64 63 48 76 71 64 74 60 58 66 71 62 74 76 51 50 52 68 68\n 58 63 56 53 52 65 65 65 67 74 62 79 64 52 62 66 73 66 74 66 65 62 49 64\n 60 73 53 56 55 68 52 70 57 65 62 66 73 72 68 64 66 84 67 60 58 57 66 65\n 66 56 63 80 55 65 56 49 55 65 66 67 77 64 62 73 52 57 71 68 67 68 53 69\n 63 67 63 53 74 58 68 69 50 61 68 60 48 47 60 65 59 57 54 70 65 66 72 67\n 61 66 79 51 61 83 68 69 67 62 56 58 50 71 75 64 74 71 59 61 62 67 60 67\n 60 74 53 65 71 54 67 64 67 56 55 63 69 60 67 60 63 65 68 52 66 64 68 78\n 47 75 67 57 70 61 66 58 74 63 68 59 67 55 68 53 75 51 67 62 58 78 67 63\n 58 67 64 58 75 70 55 63 89 68 71 56 56 53 61 48 67 53 71 72 68 57 69 54\n 60 72 71 72 68 51 66 79 53 55 72 54 73 59 49 57 62].\nReshape your data either using array.reshape(-1, 1) if your data has a single feature or array.reshape(1, -1) if it contains a single sample.",
     "output_type": "error",
     "traceback": [
      "\u001b[1;31m---------------------------------------------------------------------------\u001b[0m",
      "\u001b[1;31mValueError\u001b[0m                                Traceback (most recent call last)",
      "\u001b[1;32m~\\AppData\\Local\\Temp/ipykernel_13156/1987885665.py\u001b[0m in \u001b[0;36m<module>\u001b[1;34m\u001b[0m\n\u001b[0;32m      1\u001b[0m \u001b[0mmodel\u001b[0m \u001b[1;33m=\u001b[0m\u001b[0mLinearRegression\u001b[0m\u001b[1;33m(\u001b[0m\u001b[1;33m)\u001b[0m\u001b[1;33m\u001b[0m\u001b[1;33m\u001b[0m\u001b[0m\n\u001b[0;32m      2\u001b[0m \u001b[1;31m# Use model to predict on Test Data\u001b[0m\u001b[1;33m\u001b[0m\u001b[1;33m\u001b[0m\u001b[1;33m\u001b[0m\u001b[0m\n\u001b[1;32m----> 3\u001b[1;33m \u001b[0my_pred\u001b[0m\u001b[1;33m=\u001b[0m\u001b[0mc\u001b[0m\u001b[1;33m.\u001b[0m\u001b[0mpredict\u001b[0m\u001b[1;33m(\u001b[0m\u001b[0mx_test\u001b[0m\u001b[1;33m)\u001b[0m\u001b[1;33m\u001b[0m\u001b[1;33m\u001b[0m\u001b[0m\n\u001b[0m\u001b[0;32m      4\u001b[0m \u001b[0mprint\u001b[0m\u001b[1;33m(\u001b[0m\u001b[0my_pred\u001b[0m\u001b[1;33m)\u001b[0m\u001b[1;33m\u001b[0m\u001b[1;33m\u001b[0m\u001b[0m\n",
      "\u001b[1;32m~\\anaconda3\\envs\\mlenv\\lib\\site-packages\\sklearn\\linear_model\\_base.py\u001b[0m in \u001b[0;36mpredict\u001b[1;34m(self, X)\u001b[0m\n\u001b[0;32m    360\u001b[0m             \u001b[0mReturns\u001b[0m \u001b[0mpredicted\u001b[0m \u001b[0mvalues\u001b[0m\u001b[1;33m.\u001b[0m\u001b[1;33m\u001b[0m\u001b[1;33m\u001b[0m\u001b[0m\n\u001b[0;32m    361\u001b[0m         \"\"\"\n\u001b[1;32m--> 362\u001b[1;33m         \u001b[1;32mreturn\u001b[0m \u001b[0mself\u001b[0m\u001b[1;33m.\u001b[0m\u001b[0m_decision_function\u001b[0m\u001b[1;33m(\u001b[0m\u001b[0mX\u001b[0m\u001b[1;33m)\u001b[0m\u001b[1;33m\u001b[0m\u001b[1;33m\u001b[0m\u001b[0m\n\u001b[0m\u001b[0;32m    363\u001b[0m \u001b[1;33m\u001b[0m\u001b[0m\n\u001b[0;32m    364\u001b[0m     \u001b[0m_preprocess_data\u001b[0m \u001b[1;33m=\u001b[0m \u001b[0mstaticmethod\u001b[0m\u001b[1;33m(\u001b[0m\u001b[0m_preprocess_data\u001b[0m\u001b[1;33m)\u001b[0m\u001b[1;33m\u001b[0m\u001b[1;33m\u001b[0m\u001b[0m\n",
      "\u001b[1;32m~\\anaconda3\\envs\\mlenv\\lib\\site-packages\\sklearn\\linear_model\\_base.py\u001b[0m in \u001b[0;36m_decision_function\u001b[1;34m(self, X)\u001b[0m\n\u001b[0;32m    343\u001b[0m         \u001b[0mcheck_is_fitted\u001b[0m\u001b[1;33m(\u001b[0m\u001b[0mself\u001b[0m\u001b[1;33m)\u001b[0m\u001b[1;33m\u001b[0m\u001b[1;33m\u001b[0m\u001b[0m\n\u001b[0;32m    344\u001b[0m \u001b[1;33m\u001b[0m\u001b[0m\n\u001b[1;32m--> 345\u001b[1;33m         \u001b[0mX\u001b[0m \u001b[1;33m=\u001b[0m \u001b[0mself\u001b[0m\u001b[1;33m.\u001b[0m\u001b[0m_validate_data\u001b[0m\u001b[1;33m(\u001b[0m\u001b[0mX\u001b[0m\u001b[1;33m,\u001b[0m \u001b[0maccept_sparse\u001b[0m\u001b[1;33m=\u001b[0m\u001b[1;33m[\u001b[0m\u001b[1;34m\"csr\"\u001b[0m\u001b[1;33m,\u001b[0m \u001b[1;34m\"csc\"\u001b[0m\u001b[1;33m,\u001b[0m \u001b[1;34m\"coo\"\u001b[0m\u001b[1;33m]\u001b[0m\u001b[1;33m,\u001b[0m \u001b[0mreset\u001b[0m\u001b[1;33m=\u001b[0m\u001b[1;32mFalse\u001b[0m\u001b[1;33m)\u001b[0m\u001b[1;33m\u001b[0m\u001b[1;33m\u001b[0m\u001b[0m\n\u001b[0m\u001b[0;32m    346\u001b[0m         \u001b[1;32mreturn\u001b[0m \u001b[0msafe_sparse_dot\u001b[0m\u001b[1;33m(\u001b[0m\u001b[0mX\u001b[0m\u001b[1;33m,\u001b[0m \u001b[0mself\u001b[0m\u001b[1;33m.\u001b[0m\u001b[0mcoef_\u001b[0m\u001b[1;33m.\u001b[0m\u001b[0mT\u001b[0m\u001b[1;33m,\u001b[0m \u001b[0mdense_output\u001b[0m\u001b[1;33m=\u001b[0m\u001b[1;32mTrue\u001b[0m\u001b[1;33m)\u001b[0m \u001b[1;33m+\u001b[0m \u001b[0mself\u001b[0m\u001b[1;33m.\u001b[0m\u001b[0mintercept_\u001b[0m\u001b[1;33m\u001b[0m\u001b[1;33m\u001b[0m\u001b[0m\n\u001b[0;32m    347\u001b[0m \u001b[1;33m\u001b[0m\u001b[0m\n",
      "\u001b[1;32m~\\anaconda3\\envs\\mlenv\\lib\\site-packages\\sklearn\\base.py\u001b[0m in \u001b[0;36m_validate_data\u001b[1;34m(self, X, y, reset, validate_separately, **check_params)\u001b[0m\n\u001b[0;32m    564\u001b[0m             \u001b[1;32mraise\u001b[0m \u001b[0mValueError\u001b[0m\u001b[1;33m(\u001b[0m\u001b[1;34m\"Validation should be done on X, y or both.\"\u001b[0m\u001b[1;33m)\u001b[0m\u001b[1;33m\u001b[0m\u001b[1;33m\u001b[0m\u001b[0m\n\u001b[0;32m    565\u001b[0m         \u001b[1;32melif\u001b[0m \u001b[1;32mnot\u001b[0m \u001b[0mno_val_X\u001b[0m \u001b[1;32mand\u001b[0m \u001b[0mno_val_y\u001b[0m\u001b[1;33m:\u001b[0m\u001b[1;33m\u001b[0m\u001b[1;33m\u001b[0m\u001b[0m\n\u001b[1;32m--> 566\u001b[1;33m             \u001b[0mX\u001b[0m \u001b[1;33m=\u001b[0m \u001b[0mcheck_array\u001b[0m\u001b[1;33m(\u001b[0m\u001b[0mX\u001b[0m\u001b[1;33m,\u001b[0m \u001b[1;33m**\u001b[0m\u001b[0mcheck_params\u001b[0m\u001b[1;33m)\u001b[0m\u001b[1;33m\u001b[0m\u001b[1;33m\u001b[0m\u001b[0m\n\u001b[0m\u001b[0;32m    567\u001b[0m             \u001b[0mout\u001b[0m \u001b[1;33m=\u001b[0m \u001b[0mX\u001b[0m\u001b[1;33m\u001b[0m\u001b[1;33m\u001b[0m\u001b[0m\n\u001b[0;32m    568\u001b[0m         \u001b[1;32melif\u001b[0m \u001b[0mno_val_X\u001b[0m \u001b[1;32mand\u001b[0m \u001b[1;32mnot\u001b[0m \u001b[0mno_val_y\u001b[0m\u001b[1;33m:\u001b[0m\u001b[1;33m\u001b[0m\u001b[1;33m\u001b[0m\u001b[0m\n",
      "\u001b[1;32m~\\anaconda3\\envs\\mlenv\\lib\\site-packages\\sklearn\\utils\\validation.py\u001b[0m in \u001b[0;36mcheck_array\u001b[1;34m(array, accept_sparse, accept_large_sparse, dtype, order, copy, force_all_finite, ensure_2d, allow_nd, ensure_min_samples, ensure_min_features, estimator)\u001b[0m\n\u001b[0;32m    771\u001b[0m                     \u001b[1;34m\"Reshape your data either using array.reshape(-1, 1) if \"\u001b[0m\u001b[1;33m\u001b[0m\u001b[1;33m\u001b[0m\u001b[0m\n\u001b[0;32m    772\u001b[0m                     \u001b[1;34m\"your data has a single feature or array.reshape(1, -1) \"\u001b[0m\u001b[1;33m\u001b[0m\u001b[1;33m\u001b[0m\u001b[0m\n\u001b[1;32m--> 773\u001b[1;33m                     \u001b[1;34m\"if it contains a single sample.\"\u001b[0m\u001b[1;33m.\u001b[0m\u001b[0mformat\u001b[0m\u001b[1;33m(\u001b[0m\u001b[0marray\u001b[0m\u001b[1;33m)\u001b[0m\u001b[1;33m\u001b[0m\u001b[1;33m\u001b[0m\u001b[0m\n\u001b[0m\u001b[0;32m    774\u001b[0m                 )\n\u001b[0;32m    775\u001b[0m \u001b[1;33m\u001b[0m\u001b[0m\n",
      "\u001b[1;31mValueError\u001b[0m: Expected 2D array, got 1D array instead:\narray=[56 58 61 66 66 56 58 69 53 62 57 57 75 58 72 57 69 55 69 59 60 58 61 68\n 53 72 66 61 60 68 70 53 72 61 72 68 63 77 53 65 60 79 60 62 70 60 58 66\n 66 57 63 64 56 62 66 66 68 68 71 55 66 63 55 62 71 54 65 58 69 76 72 59\n 68 67 69 60 66 61 65 65 60 69 58 47 62 63 62 54 79 56 54 74 67 59 60 69\n 65 54 62 51 57 69 66 64 78 55 63 61 84 65 83 63 61 61 75 67 67 66 83 91\n 73 63 59 59 54 69 71 73 72 73 56 69 67 75 63 71 65 57 56 72 76 70 67 60\n 63 63 66 64 51 55 63 61 64 57 76 50 63 69 66 63 55 55 56 74 62 61 70 60\n 72 62 72 59 68 50 70 82 59 60 69 64 80 61 54 72 58 73 60 82 65 61 74 59\n 63 65 61 56 65 54 77 58 65 63 68 61 62 69 63 66 74 68 64 71 69 79 65 71\n 70 72 65 68 50 65 65 54 71 77 68 69 75 72 68 60 65 62 60 53 65 54 56 58\n 79 76 60 75 62 65 61 69 69 73 68 63 70 58 64 63 67 82 54 61 73 68 64 63\n 54 58 58 64 80 76 50 67 65 60 53 68 73 56 63 69 63 68 67 57 52 64 69 63\n 71 73 61 74 77 53 74 66 67 58 58 67 53 75 57 53 59 77 73 70 73 58 70 55\n 66 56 80 73 58 58 67 72 65 52 73 64 72 58 83 57 63 50 50 65 79 66 71 70\n 54 68 65 65 65 69 70 60 60 73 61 74 69 70 58 67 60 64 64 53 56 55 53 67\n 67 66 56 62 88 53 57 63 60 66 70 72 75 80 76 62 61 64 60 73 61 53 80 67\n 56 76 71 76 64 67 82 74 62 64 53 76 60 69 60 63 71 73 63 61 53 68 66 62\n 64 73 69 69 69 54 68 51 74 79 52 70 79 68 68 74 71 63 60 73 61 47 65 57\n 89 62 59 70 59 61 69 68 72 52 64 57 67 63 67 65 63 72 66 69 53 75 57 70\n 61 67 74 63 69 64 63 48 76 71 64 74 60 58 66 71 62 74 76 51 50 52 68 68\n 58 63 56 53 52 65 65 65 67 74 62 79 64 52 62 66 73 66 74 66 65 62 49 64\n 60 73 53 56 55 68 52 70 57 65 62 66 73 72 68 64 66 84 67 60 58 57 66 65\n 66 56 63 80 55 65 56 49 55 65 66 67 77 64 62 73 52 57 71 68 67 68 53 69\n 63 67 63 53 74 58 68 69 50 61 68 60 48 47 60 65 59 57 54 70 65 66 72 67\n 61 66 79 51 61 83 68 69 67 62 56 58 50 71 75 64 74 71 59 61 62 67 60 67\n 60 74 53 65 71 54 67 64 67 56 55 63 69 60 67 60 63 65 68 52 66 64 68 78\n 47 75 67 57 70 61 66 58 74 63 68 59 67 55 68 53 75 51 67 62 58 78 67 63\n 58 67 64 58 75 70 55 63 89 68 71 56 56 53 61 48 67 53 71 72 68 57 69 54\n 60 72 71 72 68 51 66 79 53 55 72 54 73 59 49 57 62].\nReshape your data either using array.reshape(-1, 1) if your data has a single feature or array.reshape(1, -1) if it contains a single sample."
     ]
    }
   ],
   "source": [
    "model =LinearRegression()\n",
    "# Use model to predict on Test Data \n",
    "y_pred=c.predict(x_test)\n",
    "print(y_pred)\n"
   ]
  },
  {
   "cell_type": "markdown",
   "id": "995f6e29",
   "metadata": {},
   "source": [
    "# Skills"
   ]
  },
  {
   "cell_type": "code",
   "execution_count": 201,
   "id": "9d16e15c",
   "metadata": {},
   "outputs": [],
   "source": [
    "df_skills=df_skills.dropna()"
   ]
  },
  {
   "cell_type": "code",
   "execution_count": 202,
   "id": "ad60cb94",
   "metadata": {},
   "outputs": [],
   "source": [
    "# y variable/ target variable \n",
    "y= df_skills.Value_Euro"
   ]
  },
  {
   "cell_type": "code",
   "execution_count": 203,
   "id": "0765d1b5",
   "metadata": {},
   "outputs": [],
   "source": [
    "x=df_skills.drop(columns=\"Value_Euro\").values"
   ]
  },
  {
   "cell_type": "code",
   "execution_count": 204,
   "id": "981e1f17",
   "metadata": {},
   "outputs": [
    {
     "data": {
      "text/plain": [
       "(17699, 29)"
      ]
     },
     "execution_count": 204,
     "metadata": {},
     "output_type": "execute_result"
    }
   ],
   "source": [
    "x.shape"
   ]
  },
  {
   "cell_type": "code",
   "execution_count": 205,
   "id": "e314d91a",
   "metadata": {},
   "outputs": [
    {
     "data": {
      "text/plain": [
       "(17699,)"
      ]
     },
     "execution_count": 205,
     "metadata": {},
     "output_type": "execute_result"
    }
   ],
   "source": [
    "y.shape"
   ]
  },
  {
   "cell_type": "code",
   "execution_count": 48,
   "id": "fe416906",
   "metadata": {},
   "outputs": [
    {
     "data": {
      "text/plain": [
       "(11799, 29)"
      ]
     },
     "execution_count": 48,
     "metadata": {},
     "output_type": "execute_result"
    }
   ],
   "source": [
    "# split into training and testing sets \n",
    "from sklearn.model_selection import train_test_split \n",
    "\n",
    "x_train, x_test, y_train, y_test = train_test_split(x, y, test_size=1/3, random_state=0)\n",
    "\n",
    "x_train.shape"
   ]
  },
  {
   "cell_type": "code",
   "execution_count": 49,
   "id": "2205fa2a",
   "metadata": {},
   "outputs": [],
   "source": [
    "model =LinearRegression()"
   ]
  },
  {
   "cell_type": "code",
   "execution_count": 50,
   "id": "a82355a7",
   "metadata": {},
   "outputs": [],
   "source": [
    "#fit the model- this needed to be a variable \n",
    "c = model.fit(x_train, y_train)"
   ]
  },
  {
   "cell_type": "code",
   "execution_count": 51,
   "id": "ff9180c9",
   "metadata": {},
   "outputs": [
    {
     "name": "stdout",
     "output_type": "stream",
     "text": [
      "[ 3042921.55051465  6838244.83261158 -3522085.08513406 ...\n",
      "  3328969.51219277 -4149888.68121518  6304268.39812918]\n"
     ]
    }
   ],
   "source": [
    "# Use model to predict on Test Data \n",
    "y_pred=c.predict(x_test)\n",
    "print(y_pred)"
   ]
  },
  {
   "cell_type": "code",
   "execution_count": 52,
   "id": "5016626b",
   "metadata": {},
   "outputs": [
    {
     "name": "stdout",
     "output_type": "stream",
     "text": [
      "0.3396281113676334\n"
     ]
    }
   ],
   "source": [
    "from sklearn.metrics import r2_score\n",
    "print(r2_score(y_test, y_pred))"
   ]
  },
  {
   "cell_type": "code",
   "execution_count": 25,
   "id": "a77c8e8e",
   "metadata": {
    "scrolled": true
   },
   "outputs": [
    {
     "data": {
      "text/plain": [
       "Text(0, 0.5, 'Predicted')"
      ]
     },
     "execution_count": 25,
     "metadata": {},
     "output_type": "execute_result"
    },
    {
     "data": {
      "image/png": "[encoded data removed]",
      "text/plain": [
       "<Figure size 432x288 with 1 Axes>"
      ]
     },
     "metadata": {
      "needs_background": "light"
     },
     "output_type": "display_data"
    }
   ],
   "source": [
    "# plot the results- actual vs predicted \n",
    "plt.scatter(y_test, y_pred)\n",
    "plt.xlabel('Actual')\n",
    "plt.ylabel('Predicted')"
   ]
  },
  {
   "cell_type": "markdown",
   "id": "660d3b0a",
   "metadata": {},
   "source": [
    "# Demographics"
   ]
  },
  {
   "cell_type": "code",
   "execution_count": 260,
   "id": "dc62caa8",
   "metadata": {},
   "outputs": [],
   "source": [
    "# y variable/ target variable \n",
    "y= df_demo.Value_Euro"
   ]
  },
  {
   "cell_type": "code",
   "execution_count": 261,
   "id": "f77abd23",
   "metadata": {},
   "outputs": [],
   "source": [
    "df_demo_prep = df_demo.dropna()"
   ]
  },
  {
   "cell_type": "code",
   "execution_count": 262,
   "id": "0ca1afeb",
   "metadata": {},
   "outputs": [],
   "source": [
    "x=df_demo_prep .drop(columns=\"Value_Euro\").values"
   ]
  },
  {
   "cell_type": "code",
   "execution_count": 263,
   "id": "b2b18a9b",
   "metadata": {},
   "outputs": [
    {
     "data": {
      "text/plain": [
       "(17699, 3)"
      ]
     },
     "execution_count": 263,
     "metadata": {},
     "output_type": "execute_result"
    }
   ],
   "source": [
    "x.shape"
   ]
  },
  {
   "cell_type": "code",
   "execution_count": 264,
   "id": "d4ecaf0a",
   "metadata": {},
   "outputs": [
    {
     "data": {
      "text/plain": [
       "(17954,)"
      ]
     },
     "execution_count": 264,
     "metadata": {},
     "output_type": "execute_result"
    }
   ],
   "source": [
    "y.shape"
   ]
  },
  {
   "cell_type": "code",
   "execution_count": 265,
   "id": "0da3ebd6",
   "metadata": {},
   "outputs": [
    {
     "ename": "ValueError",
     "evalue": "Found input variables with inconsistent numbers of samples: [17699, 17954]",
     "output_type": "error",
     "traceback": [
      "\u001b[1;31m---------------------------------------------------------------------------\u001b[0m",
      "\u001b[1;31mValueError\u001b[0m                                Traceback (most recent call last)",
      "\u001b[1;32m~\\AppData\\Local\\Temp/ipykernel_13156/2987301172.py\u001b[0m in \u001b[0;36m<module>\u001b[1;34m\u001b[0m\n\u001b[0;32m      2\u001b[0m \u001b[1;32mfrom\u001b[0m \u001b[0msklearn\u001b[0m\u001b[1;33m.\u001b[0m\u001b[0mmodel_selection\u001b[0m \u001b[1;32mimport\u001b[0m \u001b[0mtrain_test_split\u001b[0m\u001b[1;33m\u001b[0m\u001b[1;33m\u001b[0m\u001b[0m\n\u001b[0;32m      3\u001b[0m \u001b[1;33m\u001b[0m\u001b[0m\n\u001b[1;32m----> 4\u001b[1;33m \u001b[0mx_train\u001b[0m\u001b[1;33m,\u001b[0m \u001b[0mx_test\u001b[0m\u001b[1;33m,\u001b[0m \u001b[0my_train\u001b[0m\u001b[1;33m,\u001b[0m \u001b[0my_test\u001b[0m \u001b[1;33m=\u001b[0m \u001b[0mtrain_test_split\u001b[0m\u001b[1;33m(\u001b[0m\u001b[0mx\u001b[0m\u001b[1;33m,\u001b[0m \u001b[0my\u001b[0m\u001b[1;33m,\u001b[0m \u001b[0mtest_size\u001b[0m\u001b[1;33m=\u001b[0m\u001b[1;36m1\u001b[0m\u001b[1;33m/\u001b[0m\u001b[1;36m3\u001b[0m\u001b[1;33m,\u001b[0m \u001b[0mrandom_state\u001b[0m\u001b[1;33m=\u001b[0m\u001b[1;36m0\u001b[0m\u001b[1;33m)\u001b[0m\u001b[1;33m\u001b[0m\u001b[1;33m\u001b[0m\u001b[0m\n\u001b[0m\u001b[0;32m      5\u001b[0m \u001b[1;33m\u001b[0m\u001b[0m\n\u001b[0;32m      6\u001b[0m \u001b[0mx_train\u001b[0m\u001b[1;33m.\u001b[0m\u001b[0mshape\u001b[0m\u001b[1;33m\u001b[0m\u001b[1;33m\u001b[0m\u001b[0m\n",
      "\u001b[1;32m~\\anaconda3\\envs\\mlenv\\lib\\site-packages\\sklearn\\model_selection\\_split.py\u001b[0m in \u001b[0;36mtrain_test_split\u001b[1;34m(test_size, train_size, random_state, shuffle, stratify, *arrays)\u001b[0m\n\u001b[0;32m   2415\u001b[0m         \u001b[1;32mraise\u001b[0m \u001b[0mValueError\u001b[0m\u001b[1;33m(\u001b[0m\u001b[1;34m\"At least one array required as input\"\u001b[0m\u001b[1;33m)\u001b[0m\u001b[1;33m\u001b[0m\u001b[1;33m\u001b[0m\u001b[0m\n\u001b[0;32m   2416\u001b[0m \u001b[1;33m\u001b[0m\u001b[0m\n\u001b[1;32m-> 2417\u001b[1;33m     \u001b[0marrays\u001b[0m \u001b[1;33m=\u001b[0m \u001b[0mindexable\u001b[0m\u001b[1;33m(\u001b[0m\u001b[1;33m*\u001b[0m\u001b[0marrays\u001b[0m\u001b[1;33m)\u001b[0m\u001b[1;33m\u001b[0m\u001b[1;33m\u001b[0m\u001b[0m\n\u001b[0m\u001b[0;32m   2418\u001b[0m \u001b[1;33m\u001b[0m\u001b[0m\n\u001b[0;32m   2419\u001b[0m     \u001b[0mn_samples\u001b[0m \u001b[1;33m=\u001b[0m \u001b[0m_num_samples\u001b[0m\u001b[1;33m(\u001b[0m\u001b[0marrays\u001b[0m\u001b[1;33m[\u001b[0m\u001b[1;36m0\u001b[0m\u001b[1;33m]\u001b[0m\u001b[1;33m)\u001b[0m\u001b[1;33m\u001b[0m\u001b[1;33m\u001b[0m\u001b[0m\n",
      "\u001b[1;32m~\\anaconda3\\envs\\mlenv\\lib\\site-packages\\sklearn\\utils\\validation.py\u001b[0m in \u001b[0;36mindexable\u001b[1;34m(*iterables)\u001b[0m\n\u001b[0;32m    376\u001b[0m \u001b[1;33m\u001b[0m\u001b[0m\n\u001b[0;32m    377\u001b[0m     \u001b[0mresult\u001b[0m \u001b[1;33m=\u001b[0m \u001b[1;33m[\u001b[0m\u001b[0m_make_indexable\u001b[0m\u001b[1;33m(\u001b[0m\u001b[0mX\u001b[0m\u001b[1;33m)\u001b[0m \u001b[1;32mfor\u001b[0m \u001b[0mX\u001b[0m \u001b[1;32min\u001b[0m \u001b[0miterables\u001b[0m\u001b[1;33m]\u001b[0m\u001b[1;33m\u001b[0m\u001b[1;33m\u001b[0m\u001b[0m\n\u001b[1;32m--> 378\u001b[1;33m     \u001b[0mcheck_consistent_length\u001b[0m\u001b[1;33m(\u001b[0m\u001b[1;33m*\u001b[0m\u001b[0mresult\u001b[0m\u001b[1;33m)\u001b[0m\u001b[1;33m\u001b[0m\u001b[1;33m\u001b[0m\u001b[0m\n\u001b[0m\u001b[0;32m    379\u001b[0m     \u001b[1;32mreturn\u001b[0m \u001b[0mresult\u001b[0m\u001b[1;33m\u001b[0m\u001b[1;33m\u001b[0m\u001b[0m\n\u001b[0;32m    380\u001b[0m \u001b[1;33m\u001b[0m\u001b[0m\n",
      "\u001b[1;32m~\\anaconda3\\envs\\mlenv\\lib\\site-packages\\sklearn\\utils\\validation.py\u001b[0m in \u001b[0;36mcheck_consistent_length\u001b[1;34m(*arrays)\u001b[0m\n\u001b[0;32m    332\u001b[0m         raise ValueError(\n\u001b[0;32m    333\u001b[0m             \u001b[1;34m\"Found input variables with inconsistent numbers of samples: %r\"\u001b[0m\u001b[1;33m\u001b[0m\u001b[1;33m\u001b[0m\u001b[0m\n\u001b[1;32m--> 334\u001b[1;33m             \u001b[1;33m%\u001b[0m \u001b[1;33m[\u001b[0m\u001b[0mint\u001b[0m\u001b[1;33m(\u001b[0m\u001b[0ml\u001b[0m\u001b[1;33m)\u001b[0m \u001b[1;32mfor\u001b[0m \u001b[0ml\u001b[0m \u001b[1;32min\u001b[0m \u001b[0mlengths\u001b[0m\u001b[1;33m]\u001b[0m\u001b[1;33m\u001b[0m\u001b[1;33m\u001b[0m\u001b[0m\n\u001b[0m\u001b[0;32m    335\u001b[0m         )\n\u001b[0;32m    336\u001b[0m \u001b[1;33m\u001b[0m\u001b[0m\n",
      "\u001b[1;31mValueError\u001b[0m: Found input variables with inconsistent numbers of samples: [17699, 17954]"
     ]
    }
   ],
   "source": [
    "# split into training and testing sets \n",
    "from sklearn.model_selection import train_test_split \n",
    "\n",
    "x_train, x_test, y_train, y_test = train_test_split(x, y, test_size=1/3, random_state=0)\n",
    "\n",
    "x_train.shape"
   ]
  },
  {
   "cell_type": "code",
   "execution_count": 96,
   "id": "f045e075",
   "metadata": {
    "scrolled": true
   },
   "outputs": [
    {
     "ename": "ValueError",
     "evalue": "Input contains NaN, infinity or a value too large for dtype('float64').",
     "output_type": "error",
     "traceback": [
      "\u001b[1;31m---------------------------------------------------------------------------\u001b[0m",
      "\u001b[1;31mValueError\u001b[0m                                Traceback (most recent call last)",
      "\u001b[1;32m~\\AppData\\Local\\Temp/ipykernel_13156/4040405936.py\u001b[0m in \u001b[0;36m<module>\u001b[1;34m\u001b[0m\n\u001b[0;32m      1\u001b[0m \u001b[0mmodel\u001b[0m \u001b[1;33m=\u001b[0m\u001b[0mLinearRegression\u001b[0m\u001b[1;33m(\u001b[0m\u001b[1;33m)\u001b[0m\u001b[1;33m\u001b[0m\u001b[1;33m\u001b[0m\u001b[0m\n\u001b[0;32m      2\u001b[0m \u001b[1;31m#fit the model- this needed to be a variable\u001b[0m\u001b[1;33m\u001b[0m\u001b[1;33m\u001b[0m\u001b[1;33m\u001b[0m\u001b[0m\n\u001b[1;32m----> 3\u001b[1;33m \u001b[0mc\u001b[0m \u001b[1;33m=\u001b[0m \u001b[0mmodel\u001b[0m\u001b[1;33m.\u001b[0m\u001b[0mfit\u001b[0m\u001b[1;33m(\u001b[0m\u001b[0mx_train\u001b[0m\u001b[1;33m,\u001b[0m \u001b[0my_train\u001b[0m\u001b[1;33m)\u001b[0m\u001b[1;33m\u001b[0m\u001b[1;33m\u001b[0m\u001b[0m\n\u001b[0m\u001b[0;32m      4\u001b[0m \u001b[1;31m# Use model to predict on Test Data\u001b[0m\u001b[1;33m\u001b[0m\u001b[1;33m\u001b[0m\u001b[1;33m\u001b[0m\u001b[0m\n\u001b[0;32m      5\u001b[0m \u001b[0my_pred\u001b[0m\u001b[1;33m=\u001b[0m\u001b[0mc\u001b[0m\u001b[1;33m.\u001b[0m\u001b[0mpredict\u001b[0m\u001b[1;33m(\u001b[0m\u001b[0mx_test\u001b[0m\u001b[1;33m)\u001b[0m\u001b[1;33m\u001b[0m\u001b[1;33m\u001b[0m\u001b[0m\n",
      "\u001b[1;32m~\\anaconda3\\envs\\mlenv\\lib\\site-packages\\sklearn\\linear_model\\_base.py\u001b[0m in \u001b[0;36mfit\u001b[1;34m(self, X, y, sample_weight)\u001b[0m\n\u001b[0;32m    661\u001b[0m \u001b[1;33m\u001b[0m\u001b[0m\n\u001b[0;32m    662\u001b[0m         X, y = self._validate_data(\n\u001b[1;32m--> 663\u001b[1;33m             \u001b[0mX\u001b[0m\u001b[1;33m,\u001b[0m \u001b[0my\u001b[0m\u001b[1;33m,\u001b[0m \u001b[0maccept_sparse\u001b[0m\u001b[1;33m=\u001b[0m\u001b[0maccept_sparse\u001b[0m\u001b[1;33m,\u001b[0m \u001b[0my_numeric\u001b[0m\u001b[1;33m=\u001b[0m\u001b[1;32mTrue\u001b[0m\u001b[1;33m,\u001b[0m \u001b[0mmulti_output\u001b[0m\u001b[1;33m=\u001b[0m\u001b[1;32mTrue\u001b[0m\u001b[1;33m\u001b[0m\u001b[1;33m\u001b[0m\u001b[0m\n\u001b[0m\u001b[0;32m    664\u001b[0m         )\n\u001b[0;32m    665\u001b[0m \u001b[1;33m\u001b[0m\u001b[0m\n",
      "\u001b[1;32m~\\anaconda3\\envs\\mlenv\\lib\\site-packages\\sklearn\\base.py\u001b[0m in \u001b[0;36m_validate_data\u001b[1;34m(self, X, y, reset, validate_separately, **check_params)\u001b[0m\n\u001b[0;32m    579\u001b[0m                 \u001b[0my\u001b[0m \u001b[1;33m=\u001b[0m \u001b[0mcheck_array\u001b[0m\u001b[1;33m(\u001b[0m\u001b[0my\u001b[0m\u001b[1;33m,\u001b[0m \u001b[1;33m**\u001b[0m\u001b[0mcheck_y_params\u001b[0m\u001b[1;33m)\u001b[0m\u001b[1;33m\u001b[0m\u001b[1;33m\u001b[0m\u001b[0m\n\u001b[0;32m    580\u001b[0m             \u001b[1;32melse\u001b[0m\u001b[1;33m:\u001b[0m\u001b[1;33m\u001b[0m\u001b[1;33m\u001b[0m\u001b[0m\n\u001b[1;32m--> 581\u001b[1;33m                 \u001b[0mX\u001b[0m\u001b[1;33m,\u001b[0m \u001b[0my\u001b[0m \u001b[1;33m=\u001b[0m \u001b[0mcheck_X_y\u001b[0m\u001b[1;33m(\u001b[0m\u001b[0mX\u001b[0m\u001b[1;33m,\u001b[0m \u001b[0my\u001b[0m\u001b[1;33m,\u001b[0m \u001b[1;33m**\u001b[0m\u001b[0mcheck_params\u001b[0m\u001b[1;33m)\u001b[0m\u001b[1;33m\u001b[0m\u001b[1;33m\u001b[0m\u001b[0m\n\u001b[0m\u001b[0;32m    582\u001b[0m             \u001b[0mout\u001b[0m \u001b[1;33m=\u001b[0m \u001b[0mX\u001b[0m\u001b[1;33m,\u001b[0m \u001b[0my\u001b[0m\u001b[1;33m\u001b[0m\u001b[1;33m\u001b[0m\u001b[0m\n\u001b[0;32m    583\u001b[0m \u001b[1;33m\u001b[0m\u001b[0m\n",
      "\u001b[1;32m~\\anaconda3\\envs\\mlenv\\lib\\site-packages\\sklearn\\utils\\validation.py\u001b[0m in \u001b[0;36mcheck_X_y\u001b[1;34m(X, y, accept_sparse, accept_large_sparse, dtype, order, copy, force_all_finite, ensure_2d, allow_nd, multi_output, ensure_min_samples, ensure_min_features, y_numeric, estimator)\u001b[0m\n\u001b[0;32m    977\u001b[0m     )\n\u001b[0;32m    978\u001b[0m \u001b[1;33m\u001b[0m\u001b[0m\n\u001b[1;32m--> 979\u001b[1;33m     \u001b[0my\u001b[0m \u001b[1;33m=\u001b[0m \u001b[0m_check_y\u001b[0m\u001b[1;33m(\u001b[0m\u001b[0my\u001b[0m\u001b[1;33m,\u001b[0m \u001b[0mmulti_output\u001b[0m\u001b[1;33m=\u001b[0m\u001b[0mmulti_output\u001b[0m\u001b[1;33m,\u001b[0m \u001b[0my_numeric\u001b[0m\u001b[1;33m=\u001b[0m\u001b[0my_numeric\u001b[0m\u001b[1;33m)\u001b[0m\u001b[1;33m\u001b[0m\u001b[1;33m\u001b[0m\u001b[0m\n\u001b[0m\u001b[0;32m    980\u001b[0m \u001b[1;33m\u001b[0m\u001b[0m\n\u001b[0;32m    981\u001b[0m     \u001b[0mcheck_consistent_length\u001b[0m\u001b[1;33m(\u001b[0m\u001b[0mX\u001b[0m\u001b[1;33m,\u001b[0m \u001b[0my\u001b[0m\u001b[1;33m)\u001b[0m\u001b[1;33m\u001b[0m\u001b[1;33m\u001b[0m\u001b[0m\n",
      "\u001b[1;32m~\\anaconda3\\envs\\mlenv\\lib\\site-packages\\sklearn\\utils\\validation.py\u001b[0m in \u001b[0;36m_check_y\u001b[1;34m(y, multi_output, y_numeric)\u001b[0m\n\u001b[0;32m    988\u001b[0m     \u001b[1;32mif\u001b[0m \u001b[0mmulti_output\u001b[0m\u001b[1;33m:\u001b[0m\u001b[1;33m\u001b[0m\u001b[1;33m\u001b[0m\u001b[0m\n\u001b[0;32m    989\u001b[0m         y = check_array(\n\u001b[1;32m--> 990\u001b[1;33m             \u001b[0my\u001b[0m\u001b[1;33m,\u001b[0m \u001b[0maccept_sparse\u001b[0m\u001b[1;33m=\u001b[0m\u001b[1;34m\"csr\"\u001b[0m\u001b[1;33m,\u001b[0m \u001b[0mforce_all_finite\u001b[0m\u001b[1;33m=\u001b[0m\u001b[1;32mTrue\u001b[0m\u001b[1;33m,\u001b[0m \u001b[0mensure_2d\u001b[0m\u001b[1;33m=\u001b[0m\u001b[1;32mFalse\u001b[0m\u001b[1;33m,\u001b[0m \u001b[0mdtype\u001b[0m\u001b[1;33m=\u001b[0m\u001b[1;32mNone\u001b[0m\u001b[1;33m\u001b[0m\u001b[1;33m\u001b[0m\u001b[0m\n\u001b[0m\u001b[0;32m    991\u001b[0m         )\n\u001b[0;32m    992\u001b[0m     \u001b[1;32melse\u001b[0m\u001b[1;33m:\u001b[0m\u001b[1;33m\u001b[0m\u001b[1;33m\u001b[0m\u001b[0m\n",
      "\u001b[1;32m~\\anaconda3\\envs\\mlenv\\lib\\site-packages\\sklearn\\utils\\validation.py\u001b[0m in \u001b[0;36mcheck_array\u001b[1;34m(array, accept_sparse, accept_large_sparse, dtype, order, copy, force_all_finite, ensure_2d, allow_nd, ensure_min_samples, ensure_min_features, estimator)\u001b[0m\n\u001b[0;32m    798\u001b[0m \u001b[1;33m\u001b[0m\u001b[0m\n\u001b[0;32m    799\u001b[0m         \u001b[1;32mif\u001b[0m \u001b[0mforce_all_finite\u001b[0m\u001b[1;33m:\u001b[0m\u001b[1;33m\u001b[0m\u001b[1;33m\u001b[0m\u001b[0m\n\u001b[1;32m--> 800\u001b[1;33m             \u001b[0m_assert_all_finite\u001b[0m\u001b[1;33m(\u001b[0m\u001b[0marray\u001b[0m\u001b[1;33m,\u001b[0m \u001b[0mallow_nan\u001b[0m\u001b[1;33m=\u001b[0m\u001b[0mforce_all_finite\u001b[0m \u001b[1;33m==\u001b[0m \u001b[1;34m\"allow-nan\"\u001b[0m\u001b[1;33m)\u001b[0m\u001b[1;33m\u001b[0m\u001b[1;33m\u001b[0m\u001b[0m\n\u001b[0m\u001b[0;32m    801\u001b[0m \u001b[1;33m\u001b[0m\u001b[0m\n\u001b[0;32m    802\u001b[0m     \u001b[1;32mif\u001b[0m \u001b[0mensure_min_samples\u001b[0m \u001b[1;33m>\u001b[0m \u001b[1;36m0\u001b[0m\u001b[1;33m:\u001b[0m\u001b[1;33m\u001b[0m\u001b[1;33m\u001b[0m\u001b[0m\n",
      "\u001b[1;32m~\\anaconda3\\envs\\mlenv\\lib\\site-packages\\sklearn\\utils\\validation.py\u001b[0m in \u001b[0;36m_assert_all_finite\u001b[1;34m(X, allow_nan, msg_dtype)\u001b[0m\n\u001b[0;32m    114\u001b[0m             raise ValueError(\n\u001b[0;32m    115\u001b[0m                 msg_err.format(\n\u001b[1;32m--> 116\u001b[1;33m                     \u001b[0mtype_err\u001b[0m\u001b[1;33m,\u001b[0m \u001b[0mmsg_dtype\u001b[0m \u001b[1;32mif\u001b[0m \u001b[0mmsg_dtype\u001b[0m \u001b[1;32mis\u001b[0m \u001b[1;32mnot\u001b[0m \u001b[1;32mNone\u001b[0m \u001b[1;32melse\u001b[0m \u001b[0mX\u001b[0m\u001b[1;33m.\u001b[0m\u001b[0mdtype\u001b[0m\u001b[1;33m\u001b[0m\u001b[1;33m\u001b[0m\u001b[0m\n\u001b[0m\u001b[0;32m    117\u001b[0m                 )\n\u001b[0;32m    118\u001b[0m             )\n",
      "\u001b[1;31mValueError\u001b[0m: Input contains NaN, infinity or a value too large for dtype('float64')."
     ]
    }
   ],
   "source": [
    "model =LinearRegression()\n",
    "#fit the model- this needed to be a variable \n",
    "c = model.fit(x_train, y_train)\n",
    "# Use model to predict on Test Data \n",
    "y_pred=c.predict(x_test)\n",
    "print(y_pred)"
   ]
  },
  {
   "cell_type": "markdown",
   "id": "d72ac0c8",
   "metadata": {},
   "source": [
    "# Age"
   ]
  },
  {
   "cell_type": "code",
   "execution_count": 54,
   "id": "d6bdbecf",
   "metadata": {},
   "outputs": [],
   "source": [
    "df_demo_prep = df_demo.dropna()"
   ]
  },
  {
   "cell_type": "code",
   "execution_count": 55,
   "id": "182f730f",
   "metadata": {},
   "outputs": [
    {
     "data": {
      "text/plain": [
       "Age           0\n",
       "Height_Cm     0\n",
       "Weight_Kgs    0\n",
       "Value_Euro    0\n",
       "dtype: int64"
      ]
     },
     "execution_count": 55,
     "metadata": {},
     "output_type": "execute_result"
    }
   ],
   "source": [
    "df_demo_prep.isnull().sum()"
   ]
  },
  {
   "cell_type": "code",
   "execution_count": 56,
   "id": "db5e181c",
   "metadata": {},
   "outputs": [],
   "source": [
    "y =df_demo_prep['Age']\n",
    "x = df_demo_prep['Value_Euro']"
   ]
  },
  {
   "cell_type": "code",
   "execution_count": 57,
   "id": "ed100876",
   "metadata": {},
   "outputs": [
    {
     "data": {
      "text/plain": [
       "(11799, 1)"
      ]
     },
     "execution_count": 57,
     "metadata": {},
     "output_type": "execute_result"
    }
   ],
   "source": [
    "# split into training and testing sets \n",
    "from sklearn.model_selection import train_test_split \n",
    "\n",
    "x_train, x_test, y_train, y_test = train_test_split(x, y, test_size=1/3, random_state=0)\n",
    "\n",
    "x_train= x_train.values.reshape(-1, 1)\n",
    "y_train= y_train.values.reshape(-1, 1)\n",
    "x_test = x_test.values.reshape(-1, 1)\n",
    "y_test = y_test.values.reshape(-1,1)\n",
    "\n",
    "x_train.shape\n",
    "# remember had to remove stratisfy because of small data size"
   ]
  },
  {
   "cell_type": "code",
   "execution_count": 58,
   "id": "0a58ad7e",
   "metadata": {},
   "outputs": [
    {
     "name": "stdout",
     "output_type": "stream",
     "text": [
      "[[25.41854331]\n",
      " [25.55206666]\n",
      " [25.38304977]\n",
      " ...\n",
      " [25.40671213]\n",
      " [25.37696516]\n",
      " [25.80897235]]\n"
     ]
    }
   ],
   "source": [
    "model =LinearRegression()\n",
    "c = model.fit(x_train, y_train)\n",
    "# Use model to predict on Test Data \n",
    "y_pred=c.predict(x_test)\n",
    "print(y_pred)"
   ]
  },
  {
   "cell_type": "code",
   "execution_count": 59,
   "id": "b59de469",
   "metadata": {},
   "outputs": [
    {
     "name": "stdout",
     "output_type": "stream",
     "text": [
      "0.007089806669253629\n"
     ]
    }
   ],
   "source": [
    "from sklearn.metrics import r2_score\n",
    "print(r2_score(y_test, y_pred))"
   ]
  },
  {
   "cell_type": "code",
   "execution_count": 60,
   "id": "67563421",
   "metadata": {},
   "outputs": [
    {
     "data": {
      "text/plain": [
       "Text(0, 0.5, 'Predicted')"
      ]
     },
     "execution_count": 60,
     "metadata": {},
     "output_type": "execute_result"
    },
    {
     "data": {
      "image/png": "[encoded data removed]",
      "text/plain": [
       "<Figure size 432x288 with 1 Axes>"
      ]
     },
     "metadata": {
      "needs_background": "light"
     },
     "output_type": "display_data"
    }
   ],
   "source": [
    "# plot the results- actual vs predicted \n",
    "plt.scatter(y_test, y_pred)\n",
    "plt.xlabel('Actual')\n",
    "plt.ylabel('Predicted')"
   ]
  },
  {
   "cell_type": "markdown",
   "id": "7347044b",
   "metadata": {},
   "source": [
    "# Height"
   ]
  },
  {
   "cell_type": "code",
   "execution_count": 97,
   "id": "86af0eeb",
   "metadata": {},
   "outputs": [
    {
     "data": {
      "text/plain": [
       "Age           0\n",
       "Height_Cm     0\n",
       "Weight_Kgs    0\n",
       "Value_Euro    0\n",
       "dtype: int64"
      ]
     },
     "execution_count": 97,
     "metadata": {},
     "output_type": "execute_result"
    }
   ],
   "source": [
    "df_demo_prep.isnull().sum()"
   ]
  },
  {
   "cell_type": "code",
   "execution_count": 125,
   "id": "9bec2312",
   "metadata": {},
   "outputs": [],
   "source": [
    "x =df_demo_prep['Value_Euro']\n",
    "y = df_demo_prep['Height_Cm']"
   ]
  },
  {
   "cell_type": "code",
   "execution_count": 126,
   "id": "4bfda3c7",
   "metadata": {},
   "outputs": [
    {
     "data": {
      "text/plain": [
       "(11799, 1)"
      ]
     },
     "execution_count": 126,
     "metadata": {},
     "output_type": "execute_result"
    }
   ],
   "source": [
    "# split into training and testing sets \n",
    "from sklearn.model_selection import train_test_split \n",
    "\n",
    "x_train, x_test, y_train, y_test = train_test_split(x, y, test_size=1/3, random_state=0)\n",
    "\n",
    "x_train= x_train.values.reshape(-1, 1)\n",
    "y_train= y_train.values.reshape(-1, 1)\n",
    "x_test = x_test.values.reshape(-1, 1)\n",
    "y_test = y_test.values.reshape(-1,1)\n",
    "\n",
    "x_train.shape\n",
    "# remember had to remove stratisfy because of small data size"
   ]
  },
  {
   "cell_type": "code",
   "execution_count": 127,
   "id": "63a26292",
   "metadata": {},
   "outputs": [
    {
     "name": "stdout",
     "output_type": "stream",
     "text": [
      "[[174.89813205]\n",
      " [174.91694607]\n",
      " [174.89313086]\n",
      " ...\n",
      " [174.89646499]\n",
      " [174.89227351]\n",
      " [174.95314519]]\n"
     ]
    }
   ],
   "source": [
    "model =LinearRegression()\n",
    "c = model.fit(x_train, y_train)\n",
    "# Use model to predict on Test Data \n",
    "y_pred=c.predict(x_test)\n",
    "print(y_pred)"
   ]
  },
  {
   "cell_type": "code",
   "execution_count": 128,
   "id": "28e25bce",
   "metadata": {},
   "outputs": [
    {
     "name": "stdout",
     "output_type": "stream",
     "text": [
      "0.00017447565035488832\n"
     ]
    }
   ],
   "source": [
    "from sklearn.metrics import r2_score\n",
    "print(r2_score(y_test, y_pred))"
   ]
  },
  {
   "cell_type": "code",
   "execution_count": 129,
   "id": "00b6f00c",
   "metadata": {
    "scrolled": true
   },
   "outputs": [
    {
     "data": {
      "text/plain": [
       "Text(0, 0.5, 'Predicted')"
      ]
     },
     "execution_count": 129,
     "metadata": {},
     "output_type": "execute_result"
    },
    {
     "data": {
      "image/png": "[encoded data removed]",
      "text/plain": [
       "<Figure size 432x288 with 1 Axes>"
      ]
     },
     "metadata": {
      "needs_background": "light"
     },
     "output_type": "display_data"
    }
   ],
   "source": [
    "# plot the results- actual vs predicted \n",
    "plt.scatter(y_test, y_pred)\n",
    "plt.xlabel('Actual')\n",
    "plt.ylabel('Predicted')"
   ]
  },
  {
   "cell_type": "markdown",
   "id": "72a47c5f",
   "metadata": {},
   "source": [
    "# Weight_Kgs"
   ]
  },
  {
   "cell_type": "code",
   "execution_count": 120,
   "id": "e7bc8a77",
   "metadata": {},
   "outputs": [],
   "source": [
    "y =df_demo_prep['Weight_Kgs']\n",
    "x = df_demo_prep['Value_Euro']"
   ]
  },
  {
   "cell_type": "code",
   "execution_count": 121,
   "id": "aff839ce",
   "metadata": {},
   "outputs": [
    {
     "data": {
      "text/plain": [
       "(11799, 1)"
      ]
     },
     "execution_count": 121,
     "metadata": {},
     "output_type": "execute_result"
    }
   ],
   "source": [
    "# split into training and testing sets \n",
    "from sklearn.model_selection import train_test_split \n",
    "\n",
    "x_train, x_test, y_train, y_test = train_test_split(x, y, test_size=1/3, random_state=0)\n",
    "\n",
    "x_train= x_train.values.reshape(-1, 1)\n",
    "y_train= y_train.values.reshape(-1, 1)\n",
    "x_test = x_test.values.reshape(-1, 1)\n",
    "y_test = y_test.values.reshape(-1,1)\n",
    "\n",
    "x_train.shape\n",
    "# remember had to remove stratisfy because of small data size"
   ]
  },
  {
   "cell_type": "code",
   "execution_count": 122,
   "id": "9cf9094e",
   "metadata": {},
   "outputs": [
    {
     "name": "stdout",
     "output_type": "stream",
     "text": [
      "[[75.24366032]\n",
      " [75.33507   ]\n",
      " [75.21936155]\n",
      " ...\n",
      " [75.23556073]\n",
      " [75.21519604]\n",
      " [75.51094685]]\n"
     ]
    }
   ],
   "source": [
    "model =LinearRegression()\n",
    "c = model.fit(x_train, y_train)\n",
    "# Use model to predict on Test Data \n",
    "y_pred=c.predict(x_test)\n",
    "print(y_pred)"
   ]
  },
  {
   "cell_type": "code",
   "execution_count": 123,
   "id": "100abc10",
   "metadata": {},
   "outputs": [
    {
     "name": "stdout",
     "output_type": "stream",
     "text": [
      "0.0028647269364426853\n"
     ]
    }
   ],
   "source": [
    "from sklearn.metrics import r2_score\n",
    "print(r2_score(y_test, y_pred))"
   ]
  },
  {
   "cell_type": "code",
   "execution_count": 124,
   "id": "9bb3910f",
   "metadata": {},
   "outputs": [
    {
     "data": {
      "text/plain": [
       "Text(0, 0.5, 'Predicted')"
      ]
     },
     "execution_count": 124,
     "metadata": {},
     "output_type": "execute_result"
    },
    {
     "data": {
      "image/png": "[encoded data removed]",
      "text/plain": [
       "<Figure size 432x288 with 1 Axes>"
      ]
     },
     "metadata": {
      "needs_background": "light"
     },
     "output_type": "display_data"
    }
   ],
   "source": [
    "# plot the results- actual vs predicted \n",
    "plt.scatter(y_test, y_pred)\n",
    "plt.xlabel('Actual')\n",
    "plt.ylabel('Predicted')"
   ]
  },
  {
   "cell_type": "markdown",
   "id": "c0327a76",
   "metadata": {},
   "source": [
    "# Crossing"
   ]
  },
  {
   "cell_type": "code",
   "execution_count": 61,
   "id": "8cb7c1c5",
   "metadata": {},
   "outputs": [],
   "source": [
    "y =df_skills['Crossing']"
   ]
  },
  {
   "cell_type": "code",
   "execution_count": 62,
   "id": "e2775f0a",
   "metadata": {},
   "outputs": [],
   "source": [
    "x = df_skills['Value_Euro']"
   ]
  },
  {
   "cell_type": "code",
   "execution_count": 63,
   "id": "71b0a64b",
   "metadata": {},
   "outputs": [
    {
     "data": {
      "text/plain": [
       "(17699,)"
      ]
     },
     "execution_count": 63,
     "metadata": {},
     "output_type": "execute_result"
    }
   ],
   "source": [
    "y.shape"
   ]
  },
  {
   "cell_type": "code",
   "execution_count": 64,
   "id": "ac548446",
   "metadata": {},
   "outputs": [
    {
     "data": {
      "text/plain": [
       "(17699,)"
      ]
     },
     "execution_count": 64,
     "metadata": {},
     "output_type": "execute_result"
    }
   ],
   "source": [
    "x.shape"
   ]
  },
  {
   "cell_type": "code",
   "execution_count": 65,
   "id": "d0664ed9",
   "metadata": {},
   "outputs": [
    {
     "data": {
      "text/plain": [
       "(11799, 1)"
      ]
     },
     "execution_count": 65,
     "metadata": {},
     "output_type": "execute_result"
    }
   ],
   "source": [
    "# split into training and testing sets \n",
    "from sklearn.model_selection import train_test_split \n",
    "\n",
    "x_train, x_test, y_train, y_test = train_test_split(x, y, test_size=1/3, random_state=0)\n",
    "\n",
    "x_train= x_train.values.reshape(-1, 1)\n",
    "y_train= y_train.values.reshape(-1, 1)\n",
    "x_test = x_test.values.reshape(-1, 1)\n",
    "y_test = y_test.values.reshape(-1,1)\n",
    "\n",
    "x_train.shape\n",
    "# remember had to remove stratisfy because of small data size"
   ]
  },
  {
   "cell_type": "code",
   "execution_count": 66,
   "id": "15de8c6f",
   "metadata": {},
   "outputs": [],
   "source": [
    "model =LinearRegression()"
   ]
  },
  {
   "cell_type": "code",
   "execution_count": 67,
   "id": "5dc18419",
   "metadata": {},
   "outputs": [],
   "source": [
    "#fit the model- this needed to be a variable \n",
    "c = model.fit(x_train, y_train)"
   ]
  },
  {
   "cell_type": "code",
   "execution_count": 68,
   "id": "97595eb8",
   "metadata": {},
   "outputs": [
    {
     "name": "stdout",
     "output_type": "stream",
     "text": [
      "[[48.26300324]\n",
      " [49.94760785]\n",
      " [47.81519695]\n",
      " ...\n",
      " [48.11373448]\n",
      " [47.73843016]\n",
      " [53.1888724 ]]\n"
     ]
    }
   ],
   "source": [
    "# Use model to predict on Test Data \n",
    "y_pred=c.predict(x_test)\n",
    "print(y_pred)"
   ]
  },
  {
   "cell_type": "code",
   "execution_count": 69,
   "id": "8097eca7",
   "metadata": {},
   "outputs": [
    {
     "name": "stdout",
     "output_type": "stream",
     "text": [
      "0.05353633407683567\n"
     ]
    }
   ],
   "source": [
    "from sklearn.metrics import r2_score\n",
    "print(r2_score(y_test, y_pred))"
   ]
  },
  {
   "cell_type": "code",
   "execution_count": 70,
   "id": "61ce3356",
   "metadata": {},
   "outputs": [
    {
     "data": {
      "text/plain": [
       "Text(0, 0.5, 'Predicted')"
      ]
     },
     "execution_count": 70,
     "metadata": {},
     "output_type": "execute_result"
    },
    {
     "data": {
      "image/png": "[encoded data removed]",
      "text/plain": [
       "<Figure size 432x288 with 1 Axes>"
      ]
     },
     "metadata": {
      "needs_background": "light"
     },
     "output_type": "display_data"
    }
   ],
   "source": [
    "# plot the results- actual vs predicted \n",
    "plt.scatter(y_test, y_pred)\n",
    "plt.xlabel('Actual')\n",
    "plt.ylabel('Predicted')"
   ]
  },
  {
   "cell_type": "markdown",
   "id": "450a8eb0",
   "metadata": {},
   "source": [
    "# Finishing"
   ]
  },
  {
   "cell_type": "code",
   "execution_count": 146,
   "id": "2148ed00",
   "metadata": {},
   "outputs": [],
   "source": [
    "x = df_skills['Finishing']\n",
    "y = df_skills['Value_Euro']"
   ]
  },
  {
   "cell_type": "code",
   "execution_count": 147,
   "id": "0dd92c5e",
   "metadata": {},
   "outputs": [
    {
     "name": "stdout",
     "output_type": "stream",
     "text": [
      "[ 0.02977371 12.28234825]\n"
     ]
    }
   ],
   "source": [
    "#fit the model\n",
    "fit = np.polyfit(x, np.log(y), 1)\n",
    "\n",
    "#view the output of the model\n",
    "print(fit)"
   ]
  },
  {
   "cell_type": "code",
   "execution_count": 148,
   "id": "812fa92b",
   "metadata": {},
   "outputs": [
    {
     "data": {
      "text/plain": [
       "(11799, 1)"
      ]
     },
     "execution_count": 148,
     "metadata": {},
     "output_type": "execute_result"
    }
   ],
   "source": [
    "# split into training and testing sets \n",
    "from sklearn.model_selection import train_test_split \n",
    "\n",
    "x_train, x_test, y_train, y_test = train_test_split(x, y, test_size=1/3, random_state=0)\n",
    "\n",
    "x_train= x_train.values.reshape(-1, 1)\n",
    "y_train= y_train.values.reshape(-1, 1)\n",
    "x_test = x_test.values.reshape(-1, 1)\n",
    "y_test = y_test.values.reshape(-1,1)\n",
    "\n",
    "x_train.shape\n",
    "# remember had to remove stratisfy because of small data size"
   ]
  },
  {
   "cell_type": "code",
   "execution_count": 149,
   "id": "c79464a0",
   "metadata": {},
   "outputs": [
    {
     "name": "stdout",
     "output_type": "stream",
     "text": [
      "[[3418085.55252959]\n",
      " [3722426.58433496]\n",
      " [1211613.07194069]\n",
      " ...\n",
      " [3342000.29457825]\n",
      " [-462262.60298882]\n",
      " [4026767.61614032]]\n"
     ]
    }
   ],
   "source": [
    "model =LinearRegression()\n",
    "c = model.fit(x_train, y_train)\n",
    "# Use model to predict on Test Data \n",
    "y_pred=c.predict(x_test)\n",
    "print(y_pred)"
   ]
  },
  {
   "cell_type": "code",
   "execution_count": 150,
   "id": "d87f7218",
   "metadata": {},
   "outputs": [
    {
     "name": "stdout",
     "output_type": "stream",
     "text": [
      "0.06428550859042026\n"
     ]
    }
   ],
   "source": [
    "from sklearn.metrics import r2_score\n",
    "print(r2_score(y_test, y_pred))"
   ]
  },
  {
   "cell_type": "code",
   "execution_count": 151,
   "id": "59bec87f",
   "metadata": {},
   "outputs": [
    {
     "data": {
      "text/plain": [
       "Text(0, 0.5, 'Predicted')"
      ]
     },
     "execution_count": 151,
     "metadata": {},
     "output_type": "execute_result"
    },
    {
     "data": {
      "image/png": "[encoded data removed]",
      "text/plain": [
       "<Figure size 432x288 with 1 Axes>"
      ]
     },
     "metadata": {
      "needs_background": "light"
     },
     "output_type": "display_data"
    }
   ],
   "source": [
    "# plot the results- actual vs predicted \n",
    "plt.scatter(y_test, y_pred)\n",
    "plt.xlabel('Actual')\n",
    "plt.ylabel('Predicted')"
   ]
  },
  {
   "cell_type": "markdown",
   "id": "8434a50c",
   "metadata": {},
   "source": [
    "# Dribbling"
   ]
  },
  {
   "cell_type": "code",
   "execution_count": 76,
   "id": "8248a374",
   "metadata": {},
   "outputs": [],
   "source": [
    "y =df_skills['Dribbling']\n",
    "x = df_skills['Value_Euro']"
   ]
  },
  {
   "cell_type": "code",
   "execution_count": 77,
   "id": "68f07da1",
   "metadata": {},
   "outputs": [
    {
     "data": {
      "text/plain": [
       "(11799, 1)"
      ]
     },
     "execution_count": 77,
     "metadata": {},
     "output_type": "execute_result"
    }
   ],
   "source": [
    "# split into training and testing sets \n",
    "from sklearn.model_selection import train_test_split \n",
    "\n",
    "x_train, x_test, y_train, y_test = train_test_split(x, y, test_size=1/3, random_state=0)\n",
    "\n",
    "x_train= x_train.values.reshape(-1, 1)\n",
    "y_train= y_train.values.reshape(-1, 1)\n",
    "x_test = x_test.values.reshape(-1, 1)\n",
    "y_test = y_test.values.reshape(-1,1)\n",
    "\n",
    "x_train.shape\n",
    "# remember had to remove stratisfy because of small data size"
   ]
  },
  {
   "cell_type": "code",
   "execution_count": 78,
   "id": "39b9c945",
   "metadata": {},
   "outputs": [
    {
     "name": "stdout",
     "output_type": "stream",
     "text": [
      "[[53.69055037]\n",
      " [55.55792312]\n",
      " [53.19416015]\n",
      " ...\n",
      " [53.52508696]\n",
      " [53.10906468]\n",
      " [59.15084284]]\n"
     ]
    }
   ],
   "source": [
    "model =LinearRegression()\n",
    "c = model.fit(x_train, y_train)\n",
    "# Use model to predict on Test Data \n",
    "y_pred=c.predict(x_test)\n",
    "print(y_pred)"
   ]
  },
  {
   "cell_type": "code",
   "execution_count": 79,
   "id": "289980b9",
   "metadata": {},
   "outputs": [
    {
     "name": "stdout",
     "output_type": "stream",
     "text": [
      "0.06704560499232148\n"
     ]
    }
   ],
   "source": [
    "from sklearn.metrics import r2_score\n",
    "print(r2_score(y_test, y_pred))"
   ]
  },
  {
   "cell_type": "code",
   "execution_count": 80,
   "id": "95b40021",
   "metadata": {},
   "outputs": [
    {
     "data": {
      "text/plain": [
       "Text(0, 0.5, 'Predicted')"
      ]
     },
     "execution_count": 80,
     "metadata": {},
     "output_type": "execute_result"
    },
    {
     "data": {
      "image/png": "[encoded data removed]",
      "text/plain": [
       "<Figure size 432x288 with 1 Axes>"
      ]
     },
     "metadata": {
      "needs_background": "light"
     },
     "output_type": "display_data"
    }
   ],
   "source": [
    "# plot the results- actual vs predicted \n",
    "plt.scatter(y_test, y_pred)\n",
    "plt.xlabel('Actual')\n",
    "plt.ylabel('Predicted')"
   ]
  },
  {
   "cell_type": "code",
   "execution_count": null,
   "id": "701a0098",
   "metadata": {},
   "outputs": [],
   "source": []
  }
 ],
 "metadata": {
  "kernelspec": {
   "display_name": "mlenv",
   "language": "python",
   "name": "mlenv"
  },
  "language_info": {
   "codemirror_mode": {
    "name": "ipython",
    "version": 3
   },
   "file_extension": ".py",
   "mimetype": "text/x-python",
   "name": "python",
   "nbconvert_exporter": "python",
   "pygments_lexer": "ipython3",
   "version": "3.7.11"
  }
 },
 "nbformat": 4,
 "nbformat_minor": 5
}
